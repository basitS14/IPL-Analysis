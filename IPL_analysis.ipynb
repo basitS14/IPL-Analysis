{
 "cells": [
  {
   "cell_type": "code",
   "execution_count": 1,
   "id": "66c291b6-e050-41f0-8520-3f93cee783e1",
   "metadata": {
    "tags": []
   },
   "outputs": [],
   "source": [
    "import pandas as pd\n",
    "import numpy as np\n",
    "import datetime as dt\n",
    "import matplotlib.pyplot as plt\n",
    "import seaborn as sns\n",
    "from scipy import stats\n",
    "import statistics as st "
   ]
  },
  {
   "cell_type": "code",
   "execution_count": null,
   "id": "d8a67c7c",
   "metadata": {},
   "outputs": [],
   "source": []
  },
  {
   "cell_type": "code",
   "execution_count": 2,
   "id": "74c4f022-dd0c-42a5-8292-2758b98eefc5",
   "metadata": {
    "tags": []
   },
   "outputs": [],
   "source": [
    "df_match = pd.read_csv(\"IPL Matches 2008-2020.csv\" , parse_dates=[2]) \n",
    "df_details = pd.read_csv(\"IPL Ball-by-Ball 2008-2020.csv\")"
   ]
  },
  {
   "cell_type": "code",
   "execution_count": 3,
   "id": "c70014e6-a59d-4e0c-9e4d-6cf71886f20f",
   "metadata": {
    "tags": []
   },
   "outputs": [
    {
     "data": {
      "text/plain": [
       "17"
      ]
     },
     "execution_count": 3,
     "metadata": {},
     "output_type": "execute_result"
    }
   ],
   "source": [
    "len(df_match.columns)"
   ]
  },
  {
   "cell_type": "code",
   "execution_count": 4,
   "id": "cb3cd5d1-4d40-4d57-a321-954e8d94f5c5",
   "metadata": {
    "tags": []
   },
   "outputs": [
    {
     "data": {
      "text/html": [
       "<div>\n",
       "<style scoped>\n",
       "    .dataframe tbody tr th:only-of-type {\n",
       "        vertical-align: middle;\n",
       "    }\n",
       "\n",
       "    .dataframe tbody tr th {\n",
       "        vertical-align: top;\n",
       "    }\n",
       "\n",
       "    .dataframe thead th {\n",
       "        text-align: right;\n",
       "    }\n",
       "</style>\n",
       "<table border=\"1\" class=\"dataframe\">\n",
       "  <thead>\n",
       "    <tr style=\"text-align: right;\">\n",
       "      <th></th>\n",
       "      <th>id</th>\n",
       "      <th>city</th>\n",
       "      <th>date</th>\n",
       "      <th>player_of_match</th>\n",
       "      <th>venue</th>\n",
       "      <th>neutral_venue</th>\n",
       "      <th>team1</th>\n",
       "      <th>team2</th>\n",
       "      <th>toss_winner</th>\n",
       "      <th>toss_decision</th>\n",
       "      <th>winner</th>\n",
       "      <th>result</th>\n",
       "      <th>result_margin</th>\n",
       "      <th>eliminator</th>\n",
       "      <th>method</th>\n",
       "      <th>umpire1</th>\n",
       "      <th>umpire2</th>\n",
       "    </tr>\n",
       "  </thead>\n",
       "  <tbody>\n",
       "    <tr>\n",
       "      <th>0</th>\n",
       "      <td>335982</td>\n",
       "      <td>Bangalore</td>\n",
       "      <td>2008-04-18</td>\n",
       "      <td>BB McCullum</td>\n",
       "      <td>M Chinnaswamy Stadium</td>\n",
       "      <td>0</td>\n",
       "      <td>Royal Challengers Bangalore</td>\n",
       "      <td>Kolkata Knight Riders</td>\n",
       "      <td>Royal Challengers Bangalore</td>\n",
       "      <td>field</td>\n",
       "      <td>Kolkata Knight Riders</td>\n",
       "      <td>runs</td>\n",
       "      <td>140.0</td>\n",
       "      <td>N</td>\n",
       "      <td>NaN</td>\n",
       "      <td>Asad Rauf</td>\n",
       "      <td>RE Koertzen</td>\n",
       "    </tr>\n",
       "    <tr>\n",
       "      <th>1</th>\n",
       "      <td>335983</td>\n",
       "      <td>Chandigarh</td>\n",
       "      <td>2008-04-19</td>\n",
       "      <td>MEK Hussey</td>\n",
       "      <td>Punjab Cricket Association Stadium, Mohali</td>\n",
       "      <td>0</td>\n",
       "      <td>Kings XI Punjab</td>\n",
       "      <td>Chennai Super Kings</td>\n",
       "      <td>Chennai Super Kings</td>\n",
       "      <td>bat</td>\n",
       "      <td>Chennai Super Kings</td>\n",
       "      <td>runs</td>\n",
       "      <td>33.0</td>\n",
       "      <td>N</td>\n",
       "      <td>NaN</td>\n",
       "      <td>MR Benson</td>\n",
       "      <td>SL Shastri</td>\n",
       "    </tr>\n",
       "    <tr>\n",
       "      <th>2</th>\n",
       "      <td>335984</td>\n",
       "      <td>Delhi</td>\n",
       "      <td>2008-04-19</td>\n",
       "      <td>MF Maharoof</td>\n",
       "      <td>Feroz Shah Kotla</td>\n",
       "      <td>0</td>\n",
       "      <td>Delhi Daredevils</td>\n",
       "      <td>Rajasthan Royals</td>\n",
       "      <td>Rajasthan Royals</td>\n",
       "      <td>bat</td>\n",
       "      <td>Delhi Daredevils</td>\n",
       "      <td>wickets</td>\n",
       "      <td>9.0</td>\n",
       "      <td>N</td>\n",
       "      <td>NaN</td>\n",
       "      <td>Aleem Dar</td>\n",
       "      <td>GA Pratapkumar</td>\n",
       "    </tr>\n",
       "    <tr>\n",
       "      <th>3</th>\n",
       "      <td>335985</td>\n",
       "      <td>Mumbai</td>\n",
       "      <td>2008-04-20</td>\n",
       "      <td>MV Boucher</td>\n",
       "      <td>Wankhede Stadium</td>\n",
       "      <td>0</td>\n",
       "      <td>Mumbai Indians</td>\n",
       "      <td>Royal Challengers Bangalore</td>\n",
       "      <td>Mumbai Indians</td>\n",
       "      <td>bat</td>\n",
       "      <td>Royal Challengers Bangalore</td>\n",
       "      <td>wickets</td>\n",
       "      <td>5.0</td>\n",
       "      <td>N</td>\n",
       "      <td>NaN</td>\n",
       "      <td>SJ Davis</td>\n",
       "      <td>DJ Harper</td>\n",
       "    </tr>\n",
       "    <tr>\n",
       "      <th>4</th>\n",
       "      <td>335986</td>\n",
       "      <td>Kolkata</td>\n",
       "      <td>2008-04-20</td>\n",
       "      <td>DJ Hussey</td>\n",
       "      <td>Eden Gardens</td>\n",
       "      <td>0</td>\n",
       "      <td>Kolkata Knight Riders</td>\n",
       "      <td>Deccan Chargers</td>\n",
       "      <td>Deccan Chargers</td>\n",
       "      <td>bat</td>\n",
       "      <td>Kolkata Knight Riders</td>\n",
       "      <td>wickets</td>\n",
       "      <td>5.0</td>\n",
       "      <td>N</td>\n",
       "      <td>NaN</td>\n",
       "      <td>BF Bowden</td>\n",
       "      <td>K Hariharan</td>\n",
       "    </tr>\n",
       "  </tbody>\n",
       "</table>\n",
       "</div>"
      ],
      "text/plain": [
       "       id        city       date player_of_match  \\\n",
       "0  335982   Bangalore 2008-04-18     BB McCullum   \n",
       "1  335983  Chandigarh 2008-04-19      MEK Hussey   \n",
       "2  335984       Delhi 2008-04-19     MF Maharoof   \n",
       "3  335985      Mumbai 2008-04-20      MV Boucher   \n",
       "4  335986     Kolkata 2008-04-20       DJ Hussey   \n",
       "\n",
       "                                        venue  neutral_venue  \\\n",
       "0                       M Chinnaswamy Stadium              0   \n",
       "1  Punjab Cricket Association Stadium, Mohali              0   \n",
       "2                            Feroz Shah Kotla              0   \n",
       "3                            Wankhede Stadium              0   \n",
       "4                                Eden Gardens              0   \n",
       "\n",
       "                         team1                        team2  \\\n",
       "0  Royal Challengers Bangalore        Kolkata Knight Riders   \n",
       "1              Kings XI Punjab          Chennai Super Kings   \n",
       "2             Delhi Daredevils             Rajasthan Royals   \n",
       "3               Mumbai Indians  Royal Challengers Bangalore   \n",
       "4        Kolkata Knight Riders              Deccan Chargers   \n",
       "\n",
       "                   toss_winner toss_decision                       winner  \\\n",
       "0  Royal Challengers Bangalore         field        Kolkata Knight Riders   \n",
       "1          Chennai Super Kings           bat          Chennai Super Kings   \n",
       "2             Rajasthan Royals           bat             Delhi Daredevils   \n",
       "3               Mumbai Indians           bat  Royal Challengers Bangalore   \n",
       "4              Deccan Chargers           bat        Kolkata Knight Riders   \n",
       "\n",
       "    result  result_margin eliminator method    umpire1         umpire2  \n",
       "0     runs          140.0          N    NaN  Asad Rauf     RE Koertzen  \n",
       "1     runs           33.0          N    NaN  MR Benson      SL Shastri  \n",
       "2  wickets            9.0          N    NaN  Aleem Dar  GA Pratapkumar  \n",
       "3  wickets            5.0          N    NaN   SJ Davis       DJ Harper  \n",
       "4  wickets            5.0          N    NaN  BF Bowden     K Hariharan  "
      ]
     },
     "execution_count": 4,
     "metadata": {},
     "output_type": "execute_result"
    }
   ],
   "source": [
    "# overall match details\n",
    "df_match.head()"
   ]
  },
  {
   "cell_type": "code",
   "execution_count": 5,
   "id": "a18cdf5e",
   "metadata": {},
   "outputs": [],
   "source": [
    "df_match.replace('Rising Pune Supergiant','Rising Pune Supergiants', inplace=True)"
   ]
  },
  {
   "cell_type": "code",
   "execution_count": 6,
   "id": "7f41d266-6822-4152-9466-bc8f0b70f9cc",
   "metadata": {
    "tags": []
   },
   "outputs": [
    {
     "data": {
      "text/html": [
       "<div>\n",
       "<style scoped>\n",
       "    .dataframe tbody tr th:only-of-type {\n",
       "        vertical-align: middle;\n",
       "    }\n",
       "\n",
       "    .dataframe tbody tr th {\n",
       "        vertical-align: top;\n",
       "    }\n",
       "\n",
       "    .dataframe thead th {\n",
       "        text-align: right;\n",
       "    }\n",
       "</style>\n",
       "<table border=\"1\" class=\"dataframe\">\n",
       "  <thead>\n",
       "    <tr style=\"text-align: right;\">\n",
       "      <th></th>\n",
       "      <th>id</th>\n",
       "      <th>inning</th>\n",
       "      <th>over</th>\n",
       "      <th>ball</th>\n",
       "      <th>batsman</th>\n",
       "      <th>non_striker</th>\n",
       "      <th>bowler</th>\n",
       "      <th>batsman_runs</th>\n",
       "      <th>extra_runs</th>\n",
       "      <th>total_runs</th>\n",
       "      <th>non_boundary</th>\n",
       "      <th>is_wicket</th>\n",
       "      <th>dismissal_kind</th>\n",
       "      <th>player_dismissed</th>\n",
       "      <th>fielder</th>\n",
       "      <th>extras_type</th>\n",
       "      <th>batting_team</th>\n",
       "      <th>bowling_team</th>\n",
       "    </tr>\n",
       "  </thead>\n",
       "  <tbody>\n",
       "    <tr>\n",
       "      <th>0</th>\n",
       "      <td>335982</td>\n",
       "      <td>1</td>\n",
       "      <td>6</td>\n",
       "      <td>5</td>\n",
       "      <td>RT Ponting</td>\n",
       "      <td>BB McCullum</td>\n",
       "      <td>AA Noffke</td>\n",
       "      <td>1</td>\n",
       "      <td>0</td>\n",
       "      <td>1</td>\n",
       "      <td>0</td>\n",
       "      <td>0</td>\n",
       "      <td>NaN</td>\n",
       "      <td>NaN</td>\n",
       "      <td>NaN</td>\n",
       "      <td>NaN</td>\n",
       "      <td>Kolkata Knight Riders</td>\n",
       "      <td>Royal Challengers Bangalore</td>\n",
       "    </tr>\n",
       "    <tr>\n",
       "      <th>1</th>\n",
       "      <td>335982</td>\n",
       "      <td>1</td>\n",
       "      <td>6</td>\n",
       "      <td>6</td>\n",
       "      <td>BB McCullum</td>\n",
       "      <td>RT Ponting</td>\n",
       "      <td>AA Noffke</td>\n",
       "      <td>1</td>\n",
       "      <td>0</td>\n",
       "      <td>1</td>\n",
       "      <td>0</td>\n",
       "      <td>0</td>\n",
       "      <td>NaN</td>\n",
       "      <td>NaN</td>\n",
       "      <td>NaN</td>\n",
       "      <td>NaN</td>\n",
       "      <td>Kolkata Knight Riders</td>\n",
       "      <td>Royal Challengers Bangalore</td>\n",
       "    </tr>\n",
       "    <tr>\n",
       "      <th>2</th>\n",
       "      <td>335982</td>\n",
       "      <td>1</td>\n",
       "      <td>7</td>\n",
       "      <td>1</td>\n",
       "      <td>BB McCullum</td>\n",
       "      <td>RT Ponting</td>\n",
       "      <td>Z Khan</td>\n",
       "      <td>0</td>\n",
       "      <td>0</td>\n",
       "      <td>0</td>\n",
       "      <td>0</td>\n",
       "      <td>0</td>\n",
       "      <td>NaN</td>\n",
       "      <td>NaN</td>\n",
       "      <td>NaN</td>\n",
       "      <td>NaN</td>\n",
       "      <td>Kolkata Knight Riders</td>\n",
       "      <td>Royal Challengers Bangalore</td>\n",
       "    </tr>\n",
       "    <tr>\n",
       "      <th>3</th>\n",
       "      <td>335982</td>\n",
       "      <td>1</td>\n",
       "      <td>7</td>\n",
       "      <td>2</td>\n",
       "      <td>BB McCullum</td>\n",
       "      <td>RT Ponting</td>\n",
       "      <td>Z Khan</td>\n",
       "      <td>1</td>\n",
       "      <td>0</td>\n",
       "      <td>1</td>\n",
       "      <td>0</td>\n",
       "      <td>0</td>\n",
       "      <td>NaN</td>\n",
       "      <td>NaN</td>\n",
       "      <td>NaN</td>\n",
       "      <td>NaN</td>\n",
       "      <td>Kolkata Knight Riders</td>\n",
       "      <td>Royal Challengers Bangalore</td>\n",
       "    </tr>\n",
       "    <tr>\n",
       "      <th>4</th>\n",
       "      <td>335982</td>\n",
       "      <td>1</td>\n",
       "      <td>7</td>\n",
       "      <td>3</td>\n",
       "      <td>RT Ponting</td>\n",
       "      <td>BB McCullum</td>\n",
       "      <td>Z Khan</td>\n",
       "      <td>1</td>\n",
       "      <td>0</td>\n",
       "      <td>1</td>\n",
       "      <td>0</td>\n",
       "      <td>0</td>\n",
       "      <td>NaN</td>\n",
       "      <td>NaN</td>\n",
       "      <td>NaN</td>\n",
       "      <td>NaN</td>\n",
       "      <td>Kolkata Knight Riders</td>\n",
       "      <td>Royal Challengers Bangalore</td>\n",
       "    </tr>\n",
       "  </tbody>\n",
       "</table>\n",
       "</div>"
      ],
      "text/plain": [
       "       id  inning  over  ball      batsman  non_striker     bowler  \\\n",
       "0  335982       1     6     5   RT Ponting  BB McCullum  AA Noffke   \n",
       "1  335982       1     6     6  BB McCullum   RT Ponting  AA Noffke   \n",
       "2  335982       1     7     1  BB McCullum   RT Ponting     Z Khan   \n",
       "3  335982       1     7     2  BB McCullum   RT Ponting     Z Khan   \n",
       "4  335982       1     7     3   RT Ponting  BB McCullum     Z Khan   \n",
       "\n",
       "   batsman_runs  extra_runs  total_runs  non_boundary  is_wicket  \\\n",
       "0             1           0           1             0          0   \n",
       "1             1           0           1             0          0   \n",
       "2             0           0           0             0          0   \n",
       "3             1           0           1             0          0   \n",
       "4             1           0           1             0          0   \n",
       "\n",
       "  dismissal_kind player_dismissed fielder extras_type           batting_team  \\\n",
       "0            NaN              NaN     NaN         NaN  Kolkata Knight Riders   \n",
       "1            NaN              NaN     NaN         NaN  Kolkata Knight Riders   \n",
       "2            NaN              NaN     NaN         NaN  Kolkata Knight Riders   \n",
       "3            NaN              NaN     NaN         NaN  Kolkata Knight Riders   \n",
       "4            NaN              NaN     NaN         NaN  Kolkata Knight Riders   \n",
       "\n",
       "                  bowling_team  \n",
       "0  Royal Challengers Bangalore  \n",
       "1  Royal Challengers Bangalore  \n",
       "2  Royal Challengers Bangalore  \n",
       "3  Royal Challengers Bangalore  \n",
       "4  Royal Challengers Bangalore  "
      ]
     },
     "execution_count": 6,
     "metadata": {},
     "output_type": "execute_result"
    }
   ],
   "source": [
    "# ball by ball details of each match\n",
    "df_details.head()"
   ]
  },
  {
   "cell_type": "markdown",
   "id": "a05979cc-0dce-4338-9988-d1cb47af7e8f",
   "metadata": {},
   "source": [
    "# Basic Info"
   ]
  },
  {
   "cell_type": "markdown",
   "id": "a96ead93-f30a-4f07-952e-1debfd096aa9",
   "metadata": {},
   "source": [
    "### IPL Matches Data"
   ]
  },
  {
   "cell_type": "code",
   "execution_count": 7,
   "id": "c07fde71-71a6-4d25-b587-10b3231dfbb6",
   "metadata": {
    "tags": []
   },
   "outputs": [
    {
     "data": {
      "text/plain": [
       "(816, 17)"
      ]
     },
     "execution_count": 7,
     "metadata": {},
     "output_type": "execute_result"
    }
   ],
   "source": [
    "df_match.shape"
   ]
  },
  {
   "cell_type": "code",
   "execution_count": 8,
   "id": "43aa320c-c876-478f-b00e-a86151551264",
   "metadata": {
    "tags": []
   },
   "outputs": [
    {
     "data": {
      "text/html": [
       "<div>\n",
       "<style scoped>\n",
       "    .dataframe tbody tr th:only-of-type {\n",
       "        vertical-align: middle;\n",
       "    }\n",
       "\n",
       "    .dataframe tbody tr th {\n",
       "        vertical-align: top;\n",
       "    }\n",
       "\n",
       "    .dataframe thead th {\n",
       "        text-align: right;\n",
       "    }\n",
       "</style>\n",
       "<table border=\"1\" class=\"dataframe\">\n",
       "  <thead>\n",
       "    <tr style=\"text-align: right;\">\n",
       "      <th></th>\n",
       "      <th>id</th>\n",
       "      <th>date</th>\n",
       "      <th>neutral_venue</th>\n",
       "      <th>result_margin</th>\n",
       "    </tr>\n",
       "  </thead>\n",
       "  <tbody>\n",
       "    <tr>\n",
       "      <th>count</th>\n",
       "      <td>8.160000e+02</td>\n",
       "      <td>816</td>\n",
       "      <td>816.000000</td>\n",
       "      <td>799.000000</td>\n",
       "    </tr>\n",
       "    <tr>\n",
       "      <th>mean</th>\n",
       "      <td>7.563496e+05</td>\n",
       "      <td>2014-04-13 19:07:03.529411840</td>\n",
       "      <td>0.094363</td>\n",
       "      <td>17.321652</td>\n",
       "    </tr>\n",
       "    <tr>\n",
       "      <th>min</th>\n",
       "      <td>3.359820e+05</td>\n",
       "      <td>2008-04-18 00:00:00</td>\n",
       "      <td>0.000000</td>\n",
       "      <td>1.000000</td>\n",
       "    </tr>\n",
       "    <tr>\n",
       "      <th>25%</th>\n",
       "      <td>5.012278e+05</td>\n",
       "      <td>2011-04-26 18:00:00</td>\n",
       "      <td>0.000000</td>\n",
       "      <td>6.000000</td>\n",
       "    </tr>\n",
       "    <tr>\n",
       "      <th>50%</th>\n",
       "      <td>7.292980e+05</td>\n",
       "      <td>2014-04-23 12:00:00</td>\n",
       "      <td>0.000000</td>\n",
       "      <td>8.000000</td>\n",
       "    </tr>\n",
       "    <tr>\n",
       "      <th>75%</th>\n",
       "      <td>1.082626e+06</td>\n",
       "      <td>2017-04-30 00:00:00</td>\n",
       "      <td>0.000000</td>\n",
       "      <td>19.500000</td>\n",
       "    </tr>\n",
       "    <tr>\n",
       "      <th>max</th>\n",
       "      <td>1.237181e+06</td>\n",
       "      <td>2020-11-10 00:00:00</td>\n",
       "      <td>1.000000</td>\n",
       "      <td>146.000000</td>\n",
       "    </tr>\n",
       "    <tr>\n",
       "      <th>std</th>\n",
       "      <td>3.058943e+05</td>\n",
       "      <td>NaN</td>\n",
       "      <td>0.292512</td>\n",
       "      <td>22.068427</td>\n",
       "    </tr>\n",
       "  </tbody>\n",
       "</table>\n",
       "</div>"
      ],
      "text/plain": [
       "                 id                           date  neutral_venue  \\\n",
       "count  8.160000e+02                            816     816.000000   \n",
       "mean   7.563496e+05  2014-04-13 19:07:03.529411840       0.094363   \n",
       "min    3.359820e+05            2008-04-18 00:00:00       0.000000   \n",
       "25%    5.012278e+05            2011-04-26 18:00:00       0.000000   \n",
       "50%    7.292980e+05            2014-04-23 12:00:00       0.000000   \n",
       "75%    1.082626e+06            2017-04-30 00:00:00       0.000000   \n",
       "max    1.237181e+06            2020-11-10 00:00:00       1.000000   \n",
       "std    3.058943e+05                            NaN       0.292512   \n",
       "\n",
       "       result_margin  \n",
       "count     799.000000  \n",
       "mean       17.321652  \n",
       "min         1.000000  \n",
       "25%         6.000000  \n",
       "50%         8.000000  \n",
       "75%        19.500000  \n",
       "max       146.000000  \n",
       "std        22.068427  "
      ]
     },
     "execution_count": 8,
     "metadata": {},
     "output_type": "execute_result"
    }
   ],
   "source": [
    "df_match.describe()"
   ]
  },
  {
   "cell_type": "code",
   "execution_count": 9,
   "id": "16859320-d9c5-402b-a769-43fc11867e41",
   "metadata": {
    "tags": []
   },
   "outputs": [
    {
     "name": "stdout",
     "output_type": "stream",
     "text": [
      "<class 'pandas.core.frame.DataFrame'>\n",
      "RangeIndex: 816 entries, 0 to 815\n",
      "Data columns (total 17 columns):\n",
      " #   Column           Non-Null Count  Dtype         \n",
      "---  ------           --------------  -----         \n",
      " 0   id               816 non-null    int64         \n",
      " 1   city             803 non-null    object        \n",
      " 2   date             816 non-null    datetime64[ns]\n",
      " 3   player_of_match  812 non-null    object        \n",
      " 4   venue            816 non-null    object        \n",
      " 5   neutral_venue    816 non-null    int64         \n",
      " 6   team1            816 non-null    object        \n",
      " 7   team2            816 non-null    object        \n",
      " 8   toss_winner      816 non-null    object        \n",
      " 9   toss_decision    816 non-null    object        \n",
      " 10  winner           812 non-null    object        \n",
      " 11  result           812 non-null    object        \n",
      " 12  result_margin    799 non-null    float64       \n",
      " 13  eliminator       812 non-null    object        \n",
      " 14  method           19 non-null     object        \n",
      " 15  umpire1          816 non-null    object        \n",
      " 16  umpire2          816 non-null    object        \n",
      "dtypes: datetime64[ns](1), float64(1), int64(2), object(13)\n",
      "memory usage: 108.5+ KB\n"
     ]
    }
   ],
   "source": [
    "df_match.info()"
   ]
  },
  {
   "cell_type": "code",
   "execution_count": 10,
   "id": "2a81dddc-c7a9-43f4-a09f-6c68f715744e",
   "metadata": {
    "tags": []
   },
   "outputs": [
    {
     "name": "stdout",
     "output_type": "stream",
     "text": [
      "Null values in Matches Dataset:\n"
     ]
    },
    {
     "data": {
      "text/plain": [
       "id                   0\n",
       "city                13\n",
       "date                 0\n",
       "player_of_match      4\n",
       "venue                0\n",
       "neutral_venue        0\n",
       "team1                0\n",
       "team2                0\n",
       "toss_winner          0\n",
       "toss_decision        0\n",
       "winner               4\n",
       "result               4\n",
       "result_margin       17\n",
       "eliminator           4\n",
       "method             797\n",
       "umpire1              0\n",
       "umpire2              0\n",
       "dtype: int64"
      ]
     },
     "execution_count": 10,
     "metadata": {},
     "output_type": "execute_result"
    }
   ],
   "source": [
    "print(\"Null values in Matches Dataset:\")\n",
    "df_match.isnull().sum()"
   ]
  },
  {
   "cell_type": "code",
   "execution_count": 11,
   "id": "90c56bf6-67b8-491d-961b-771b974cd751",
   "metadata": {
    "tags": []
   },
   "outputs": [
    {
     "data": {
      "text/plain": [
       "array([nan, 'D/L'], dtype=object)"
      ]
     },
     "execution_count": 11,
     "metadata": {},
     "output_type": "execute_result"
    }
   ],
   "source": [
    "# unique methods\n",
    "df_match['method'].unique()"
   ]
  },
  {
   "cell_type": "code",
   "execution_count": 12,
   "id": "828bdd72-2494-4799-ad5d-b1ad70fe2318",
   "metadata": {
    "tags": []
   },
   "outputs": [],
   "source": [
    "# There are only two method wither D/L or match is played regularly.\n",
    "# I replaced NaN values with 'regular' because there is no iterruption of rain in these matches\n",
    "df_match['method']=df_match['method'].fillna('Regular')"
   ]
  },
  {
   "cell_type": "code",
   "execution_count": 13,
   "id": "2f83a3a5-1f0b-410c-ab72-5210dafd2a3e",
   "metadata": {
    "tags": []
   },
   "outputs": [
    {
     "data": {
      "text/html": [
       "<div>\n",
       "<style scoped>\n",
       "    .dataframe tbody tr th:only-of-type {\n",
       "        vertical-align: middle;\n",
       "    }\n",
       "\n",
       "    .dataframe tbody tr th {\n",
       "        vertical-align: top;\n",
       "    }\n",
       "\n",
       "    .dataframe thead th {\n",
       "        text-align: right;\n",
       "    }\n",
       "</style>\n",
       "<table border=\"1\" class=\"dataframe\">\n",
       "  <thead>\n",
       "    <tr style=\"text-align: right;\">\n",
       "      <th></th>\n",
       "      <th>id</th>\n",
       "      <th>city</th>\n",
       "      <th>date</th>\n",
       "      <th>player_of_match</th>\n",
       "      <th>venue</th>\n",
       "      <th>neutral_venue</th>\n",
       "      <th>team1</th>\n",
       "      <th>team2</th>\n",
       "      <th>toss_winner</th>\n",
       "      <th>toss_decision</th>\n",
       "      <th>winner</th>\n",
       "      <th>result</th>\n",
       "      <th>result_margin</th>\n",
       "      <th>eliminator</th>\n",
       "      <th>method</th>\n",
       "      <th>umpire1</th>\n",
       "      <th>umpire2</th>\n",
       "    </tr>\n",
       "  </thead>\n",
       "  <tbody>\n",
       "    <tr>\n",
       "      <th>399</th>\n",
       "      <td>729281</td>\n",
       "      <td>NaN</td>\n",
       "      <td>2014-04-17</td>\n",
       "      <td>YS Chahal</td>\n",
       "      <td>Sharjah Cricket Stadium</td>\n",
       "      <td>1</td>\n",
       "      <td>Delhi Daredevils</td>\n",
       "      <td>Royal Challengers Bangalore</td>\n",
       "      <td>Royal Challengers Bangalore</td>\n",
       "      <td>field</td>\n",
       "      <td>Royal Challengers Bangalore</td>\n",
       "      <td>wickets</td>\n",
       "      <td>8.0</td>\n",
       "      <td>N</td>\n",
       "      <td>Regular</td>\n",
       "      <td>Aleem Dar</td>\n",
       "      <td>S Ravi</td>\n",
       "    </tr>\n",
       "    <tr>\n",
       "      <th>402</th>\n",
       "      <td>729287</td>\n",
       "      <td>NaN</td>\n",
       "      <td>2014-04-19</td>\n",
       "      <td>PA Patel</td>\n",
       "      <td>Dubai International Cricket Stadium</td>\n",
       "      <td>1</td>\n",
       "      <td>Royal Challengers Bangalore</td>\n",
       "      <td>Mumbai Indians</td>\n",
       "      <td>Royal Challengers Bangalore</td>\n",
       "      <td>field</td>\n",
       "      <td>Royal Challengers Bangalore</td>\n",
       "      <td>wickets</td>\n",
       "      <td>7.0</td>\n",
       "      <td>N</td>\n",
       "      <td>Regular</td>\n",
       "      <td>Aleem Dar</td>\n",
       "      <td>AK Chaudhary</td>\n",
       "    </tr>\n",
       "    <tr>\n",
       "      <th>403</th>\n",
       "      <td>729289</td>\n",
       "      <td>NaN</td>\n",
       "      <td>2014-04-19</td>\n",
       "      <td>JP Duminy</td>\n",
       "      <td>Dubai International Cricket Stadium</td>\n",
       "      <td>1</td>\n",
       "      <td>Kolkata Knight Riders</td>\n",
       "      <td>Delhi Daredevils</td>\n",
       "      <td>Kolkata Knight Riders</td>\n",
       "      <td>bat</td>\n",
       "      <td>Delhi Daredevils</td>\n",
       "      <td>wickets</td>\n",
       "      <td>4.0</td>\n",
       "      <td>N</td>\n",
       "      <td>Regular</td>\n",
       "      <td>Aleem Dar</td>\n",
       "      <td>VA Kulkarni</td>\n",
       "    </tr>\n",
       "    <tr>\n",
       "      <th>404</th>\n",
       "      <td>729291</td>\n",
       "      <td>NaN</td>\n",
       "      <td>2014-04-20</td>\n",
       "      <td>GJ Maxwell</td>\n",
       "      <td>Sharjah Cricket Stadium</td>\n",
       "      <td>1</td>\n",
       "      <td>Rajasthan Royals</td>\n",
       "      <td>Kings XI Punjab</td>\n",
       "      <td>Kings XI Punjab</td>\n",
       "      <td>field</td>\n",
       "      <td>Kings XI Punjab</td>\n",
       "      <td>wickets</td>\n",
       "      <td>7.0</td>\n",
       "      <td>N</td>\n",
       "      <td>Regular</td>\n",
       "      <td>BF Bowden</td>\n",
       "      <td>M Erasmus</td>\n",
       "    </tr>\n",
       "    <tr>\n",
       "      <th>406</th>\n",
       "      <td>729295</td>\n",
       "      <td>NaN</td>\n",
       "      <td>2014-04-22</td>\n",
       "      <td>GJ Maxwell</td>\n",
       "      <td>Sharjah Cricket Stadium</td>\n",
       "      <td>1</td>\n",
       "      <td>Kings XI Punjab</td>\n",
       "      <td>Sunrisers Hyderabad</td>\n",
       "      <td>Sunrisers Hyderabad</td>\n",
       "      <td>field</td>\n",
       "      <td>Kings XI Punjab</td>\n",
       "      <td>runs</td>\n",
       "      <td>72.0</td>\n",
       "      <td>N</td>\n",
       "      <td>Regular</td>\n",
       "      <td>M Erasmus</td>\n",
       "      <td>S Ravi</td>\n",
       "    </tr>\n",
       "    <tr>\n",
       "      <th>407</th>\n",
       "      <td>729297</td>\n",
       "      <td>NaN</td>\n",
       "      <td>2014-04-23</td>\n",
       "      <td>RA Jadeja</td>\n",
       "      <td>Dubai International Cricket Stadium</td>\n",
       "      <td>1</td>\n",
       "      <td>Rajasthan Royals</td>\n",
       "      <td>Chennai Super Kings</td>\n",
       "      <td>Rajasthan Royals</td>\n",
       "      <td>field</td>\n",
       "      <td>Chennai Super Kings</td>\n",
       "      <td>runs</td>\n",
       "      <td>7.0</td>\n",
       "      <td>N</td>\n",
       "      <td>Regular</td>\n",
       "      <td>HDPK Dharmasena</td>\n",
       "      <td>RK Illingworth</td>\n",
       "    </tr>\n",
       "    <tr>\n",
       "      <th>408</th>\n",
       "      <td>729299</td>\n",
       "      <td>NaN</td>\n",
       "      <td>2014-04-24</td>\n",
       "      <td>CA Lynn</td>\n",
       "      <td>Sharjah Cricket Stadium</td>\n",
       "      <td>1</td>\n",
       "      <td>Royal Challengers Bangalore</td>\n",
       "      <td>Kolkata Knight Riders</td>\n",
       "      <td>Royal Challengers Bangalore</td>\n",
       "      <td>field</td>\n",
       "      <td>Kolkata Knight Riders</td>\n",
       "      <td>runs</td>\n",
       "      <td>2.0</td>\n",
       "      <td>N</td>\n",
       "      <td>Regular</td>\n",
       "      <td>Aleem Dar</td>\n",
       "      <td>VA Kulkarni</td>\n",
       "    </tr>\n",
       "    <tr>\n",
       "      <th>409</th>\n",
       "      <td>729301</td>\n",
       "      <td>NaN</td>\n",
       "      <td>2014-04-25</td>\n",
       "      <td>AJ Finch</td>\n",
       "      <td>Dubai International Cricket Stadium</td>\n",
       "      <td>1</td>\n",
       "      <td>Sunrisers Hyderabad</td>\n",
       "      <td>Delhi Daredevils</td>\n",
       "      <td>Sunrisers Hyderabad</td>\n",
       "      <td>bat</td>\n",
       "      <td>Sunrisers Hyderabad</td>\n",
       "      <td>runs</td>\n",
       "      <td>4.0</td>\n",
       "      <td>N</td>\n",
       "      <td>Regular</td>\n",
       "      <td>M Erasmus</td>\n",
       "      <td>S Ravi</td>\n",
       "    </tr>\n",
       "    <tr>\n",
       "      <th>410</th>\n",
       "      <td>729303</td>\n",
       "      <td>NaN</td>\n",
       "      <td>2014-04-25</td>\n",
       "      <td>MM Sharma</td>\n",
       "      <td>Dubai International Cricket Stadium</td>\n",
       "      <td>1</td>\n",
       "      <td>Chennai Super Kings</td>\n",
       "      <td>Mumbai Indians</td>\n",
       "      <td>Mumbai Indians</td>\n",
       "      <td>bat</td>\n",
       "      <td>Chennai Super Kings</td>\n",
       "      <td>wickets</td>\n",
       "      <td>7.0</td>\n",
       "      <td>N</td>\n",
       "      <td>Regular</td>\n",
       "      <td>BF Bowden</td>\n",
       "      <td>M Erasmus</td>\n",
       "    </tr>\n",
       "    <tr>\n",
       "      <th>413</th>\n",
       "      <td>729309</td>\n",
       "      <td>NaN</td>\n",
       "      <td>2014-04-27</td>\n",
       "      <td>M Vijay</td>\n",
       "      <td>Sharjah Cricket Stadium</td>\n",
       "      <td>1</td>\n",
       "      <td>Delhi Daredevils</td>\n",
       "      <td>Mumbai Indians</td>\n",
       "      <td>Mumbai Indians</td>\n",
       "      <td>bat</td>\n",
       "      <td>Delhi Daredevils</td>\n",
       "      <td>wickets</td>\n",
       "      <td>6.0</td>\n",
       "      <td>N</td>\n",
       "      <td>Regular</td>\n",
       "      <td>Aleem Dar</td>\n",
       "      <td>VA Kulkarni</td>\n",
       "    </tr>\n",
       "    <tr>\n",
       "      <th>414</th>\n",
       "      <td>729311</td>\n",
       "      <td>NaN</td>\n",
       "      <td>2014-04-27</td>\n",
       "      <td>DR Smith</td>\n",
       "      <td>Sharjah Cricket Stadium</td>\n",
       "      <td>1</td>\n",
       "      <td>Sunrisers Hyderabad</td>\n",
       "      <td>Chennai Super Kings</td>\n",
       "      <td>Sunrisers Hyderabad</td>\n",
       "      <td>bat</td>\n",
       "      <td>Chennai Super Kings</td>\n",
       "      <td>wickets</td>\n",
       "      <td>5.0</td>\n",
       "      <td>N</td>\n",
       "      <td>Regular</td>\n",
       "      <td>AK Chaudhary</td>\n",
       "      <td>VA Kulkarni</td>\n",
       "    </tr>\n",
       "    <tr>\n",
       "      <th>415</th>\n",
       "      <td>729313</td>\n",
       "      <td>NaN</td>\n",
       "      <td>2014-04-28</td>\n",
       "      <td>Sandeep Sharma</td>\n",
       "      <td>Dubai International Cricket Stadium</td>\n",
       "      <td>1</td>\n",
       "      <td>Kings XI Punjab</td>\n",
       "      <td>Royal Challengers Bangalore</td>\n",
       "      <td>Kings XI Punjab</td>\n",
       "      <td>field</td>\n",
       "      <td>Kings XI Punjab</td>\n",
       "      <td>wickets</td>\n",
       "      <td>5.0</td>\n",
       "      <td>N</td>\n",
       "      <td>Regular</td>\n",
       "      <td>BF Bowden</td>\n",
       "      <td>S Ravi</td>\n",
       "    </tr>\n",
       "    <tr>\n",
       "      <th>417</th>\n",
       "      <td>729317</td>\n",
       "      <td>NaN</td>\n",
       "      <td>2014-04-30</td>\n",
       "      <td>B Kumar</td>\n",
       "      <td>Dubai International Cricket Stadium</td>\n",
       "      <td>1</td>\n",
       "      <td>Mumbai Indians</td>\n",
       "      <td>Sunrisers Hyderabad</td>\n",
       "      <td>Mumbai Indians</td>\n",
       "      <td>field</td>\n",
       "      <td>Sunrisers Hyderabad</td>\n",
       "      <td>runs</td>\n",
       "      <td>15.0</td>\n",
       "      <td>N</td>\n",
       "      <td>Regular</td>\n",
       "      <td>HDPK Dharmasena</td>\n",
       "      <td>M Erasmus</td>\n",
       "    </tr>\n",
       "  </tbody>\n",
       "</table>\n",
       "</div>"
      ],
      "text/plain": [
       "         id city       date player_of_match  \\\n",
       "399  729281  NaN 2014-04-17       YS Chahal   \n",
       "402  729287  NaN 2014-04-19        PA Patel   \n",
       "403  729289  NaN 2014-04-19       JP Duminy   \n",
       "404  729291  NaN 2014-04-20      GJ Maxwell   \n",
       "406  729295  NaN 2014-04-22      GJ Maxwell   \n",
       "407  729297  NaN 2014-04-23       RA Jadeja   \n",
       "408  729299  NaN 2014-04-24         CA Lynn   \n",
       "409  729301  NaN 2014-04-25        AJ Finch   \n",
       "410  729303  NaN 2014-04-25       MM Sharma   \n",
       "413  729309  NaN 2014-04-27         M Vijay   \n",
       "414  729311  NaN 2014-04-27        DR Smith   \n",
       "415  729313  NaN 2014-04-28  Sandeep Sharma   \n",
       "417  729317  NaN 2014-04-30         B Kumar   \n",
       "\n",
       "                                   venue  neutral_venue  \\\n",
       "399              Sharjah Cricket Stadium              1   \n",
       "402  Dubai International Cricket Stadium              1   \n",
       "403  Dubai International Cricket Stadium              1   \n",
       "404              Sharjah Cricket Stadium              1   \n",
       "406              Sharjah Cricket Stadium              1   \n",
       "407  Dubai International Cricket Stadium              1   \n",
       "408              Sharjah Cricket Stadium              1   \n",
       "409  Dubai International Cricket Stadium              1   \n",
       "410  Dubai International Cricket Stadium              1   \n",
       "413              Sharjah Cricket Stadium              1   \n",
       "414              Sharjah Cricket Stadium              1   \n",
       "415  Dubai International Cricket Stadium              1   \n",
       "417  Dubai International Cricket Stadium              1   \n",
       "\n",
       "                           team1                        team2  \\\n",
       "399             Delhi Daredevils  Royal Challengers Bangalore   \n",
       "402  Royal Challengers Bangalore               Mumbai Indians   \n",
       "403        Kolkata Knight Riders             Delhi Daredevils   \n",
       "404             Rajasthan Royals              Kings XI Punjab   \n",
       "406              Kings XI Punjab          Sunrisers Hyderabad   \n",
       "407             Rajasthan Royals          Chennai Super Kings   \n",
       "408  Royal Challengers Bangalore        Kolkata Knight Riders   \n",
       "409          Sunrisers Hyderabad             Delhi Daredevils   \n",
       "410          Chennai Super Kings               Mumbai Indians   \n",
       "413             Delhi Daredevils               Mumbai Indians   \n",
       "414          Sunrisers Hyderabad          Chennai Super Kings   \n",
       "415              Kings XI Punjab  Royal Challengers Bangalore   \n",
       "417               Mumbai Indians          Sunrisers Hyderabad   \n",
       "\n",
       "                     toss_winner toss_decision                       winner  \\\n",
       "399  Royal Challengers Bangalore         field  Royal Challengers Bangalore   \n",
       "402  Royal Challengers Bangalore         field  Royal Challengers Bangalore   \n",
       "403        Kolkata Knight Riders           bat             Delhi Daredevils   \n",
       "404              Kings XI Punjab         field              Kings XI Punjab   \n",
       "406          Sunrisers Hyderabad         field              Kings XI Punjab   \n",
       "407             Rajasthan Royals         field          Chennai Super Kings   \n",
       "408  Royal Challengers Bangalore         field        Kolkata Knight Riders   \n",
       "409          Sunrisers Hyderabad           bat          Sunrisers Hyderabad   \n",
       "410               Mumbai Indians           bat          Chennai Super Kings   \n",
       "413               Mumbai Indians           bat             Delhi Daredevils   \n",
       "414          Sunrisers Hyderabad           bat          Chennai Super Kings   \n",
       "415              Kings XI Punjab         field              Kings XI Punjab   \n",
       "417               Mumbai Indians         field          Sunrisers Hyderabad   \n",
       "\n",
       "      result  result_margin eliminator   method          umpire1  \\\n",
       "399  wickets            8.0          N  Regular        Aleem Dar   \n",
       "402  wickets            7.0          N  Regular        Aleem Dar   \n",
       "403  wickets            4.0          N  Regular        Aleem Dar   \n",
       "404  wickets            7.0          N  Regular        BF Bowden   \n",
       "406     runs           72.0          N  Regular        M Erasmus   \n",
       "407     runs            7.0          N  Regular  HDPK Dharmasena   \n",
       "408     runs            2.0          N  Regular        Aleem Dar   \n",
       "409     runs            4.0          N  Regular        M Erasmus   \n",
       "410  wickets            7.0          N  Regular        BF Bowden   \n",
       "413  wickets            6.0          N  Regular        Aleem Dar   \n",
       "414  wickets            5.0          N  Regular     AK Chaudhary   \n",
       "415  wickets            5.0          N  Regular        BF Bowden   \n",
       "417     runs           15.0          N  Regular  HDPK Dharmasena   \n",
       "\n",
       "            umpire2  \n",
       "399          S Ravi  \n",
       "402    AK Chaudhary  \n",
       "403     VA Kulkarni  \n",
       "404       M Erasmus  \n",
       "406          S Ravi  \n",
       "407  RK Illingworth  \n",
       "408     VA Kulkarni  \n",
       "409          S Ravi  \n",
       "410       M Erasmus  \n",
       "413     VA Kulkarni  \n",
       "414     VA Kulkarni  \n",
       "415          S Ravi  \n",
       "417       M Erasmus  "
      ]
     },
     "execution_count": 13,
     "metadata": {},
     "output_type": "execute_result"
    }
   ],
   "source": [
    "# these matches were played in UAE as we can clearly is in venue.bb\n",
    "df_match[df_match['city'].isnull()]"
   ]
  },
  {
   "cell_type": "code",
   "execution_count": 14,
   "id": "98a7e3d1-45bf-4de3-ad80-bdb409ea5184",
   "metadata": {
    "tags": []
   },
   "outputs": [],
   "source": [
    "data = np.array(df_match)\n",
    "venues = set(data[: , 4])\n",
    "city = set(data[: , 1])"
   ]
  },
  {
   "cell_type": "code",
   "execution_count": null,
   "id": "f8b0f630-babc-4e3f-8e47-859d9e794c2c",
   "metadata": {
    "tags": []
   },
   "outputs": [],
   "source": []
  },
  {
   "cell_type": "code",
   "execution_count": 15,
   "id": "f1c14a92-56bf-46af-81e2-8c47a9debb91",
   "metadata": {
    "tags": []
   },
   "outputs": [],
   "source": [
    "# filling missing values in city column\n",
    "# match[1] != match[1] is used to check null values because np.isnan does not work on string values\n",
    "\n",
    "for match in data:\n",
    "    if match[1] != match[1] and match[4] == 'Dubai International Cricket Stadium':\n",
    "        match[1] = 'Dubai'\n",
    "    elif match[1] != match[1] and match[4] == 'Sharjah Cricket Stadium':\n",
    "        match[1] = 'Sharjah'\n"
   ]
  },
  {
   "cell_type": "code",
   "execution_count": 16,
   "id": "11f48e03-d2fa-412a-b1c6-ca01fe7bd112",
   "metadata": {
    "tags": []
   },
   "outputs": [],
   "source": [
    "# filling missing values in result margin \n",
    "# filled values 0 because these matches were ties\n",
    "\n",
    "for match in data:\n",
    "    if match[12] != match[12] and match[11] == 'tie':\n",
    "        match[12] = float(0)"
   ]
  },
  {
   "cell_type": "code",
   "execution_count": 17,
   "id": "cb589a9e-c088-49ae-a47b-0b42f3e1ba44",
   "metadata": {
    "tags": []
   },
   "outputs": [],
   "source": [
    "df_match = pd.DataFrame(data , columns=['id', 'city', 'date', 'player_of_match', 'venue', 'neutral_venue',\n",
    "       'team1', 'team2', 'toss_winner', 'toss_decision', 'winner', 'result',\n",
    "       'result_margin', 'eliminator', 'method', 'umpire1', 'umpire2'] )"
   ]
  },
  {
   "cell_type": "code",
   "execution_count": 18,
   "id": "b04a0ec6-fee6-4150-8403-b820dda9bb07",
   "metadata": {
    "tags": []
   },
   "outputs": [],
   "source": [
    "# dropped cancelled matches\n",
    "df_match = df_match.dropna()"
   ]
  },
  {
   "cell_type": "code",
   "execution_count": 19,
   "id": "d1bb7866-c7ba-4ba3-b6af-5c36b6a97e20",
   "metadata": {
    "tags": []
   },
   "outputs": [
    {
     "data": {
      "text/plain": [
       "(812, 17)"
      ]
     },
     "execution_count": 19,
     "metadata": {},
     "output_type": "execute_result"
    }
   ],
   "source": [
    "df_match.shape"
   ]
  },
  {
   "cell_type": "code",
   "execution_count": 20,
   "id": "122f4db2-0120-470e-a8e2-611cd9d4aedf",
   "metadata": {
    "tags": []
   },
   "outputs": [
    {
     "name": "stdout",
     "output_type": "stream",
     "text": [
      "id                 0\n",
      "city               0\n",
      "date               0\n",
      "player_of_match    0\n",
      "venue              0\n",
      "neutral_venue      0\n",
      "team1              0\n",
      "team2              0\n",
      "toss_winner        0\n",
      "toss_decision      0\n",
      "winner             0\n",
      "result             0\n",
      "result_margin      0\n",
      "eliminator         0\n",
      "method             0\n",
      "umpire1            0\n",
      "umpire2            0\n",
      "dtype: int64\n",
      "no more missing values\n"
     ]
    }
   ],
   "source": [
    "print(df_match.isnull().sum())\n",
    "print(\"no more missing values\")"
   ]
  },
  {
   "cell_type": "markdown",
   "id": "2c394898-d9c7-4382-8350-2947fce079f7",
   "metadata": {
    "tags": []
   },
   "source": [
    "### IPL Ball by Ball data "
   ]
  },
  {
   "cell_type": "code",
   "execution_count": 21,
   "id": "19a886a4-cffe-4f3c-b4ef-df8b3dbe3bc4",
   "metadata": {
    "tags": []
   },
   "outputs": [
    {
     "data": {
      "text/plain": [
       "(193468, 18)"
      ]
     },
     "execution_count": 21,
     "metadata": {},
     "output_type": "execute_result"
    }
   ],
   "source": [
    "df_details.shape"
   ]
  },
  {
   "cell_type": "code",
   "execution_count": 22,
   "id": "16731245-6559-48f1-a94a-7aa8e0aa0152",
   "metadata": {
    "tags": []
   },
   "outputs": [
    {
     "data": {
      "text/html": [
       "<div>\n",
       "<style scoped>\n",
       "    .dataframe tbody tr th:only-of-type {\n",
       "        vertical-align: middle;\n",
       "    }\n",
       "\n",
       "    .dataframe tbody tr th {\n",
       "        vertical-align: top;\n",
       "    }\n",
       "\n",
       "    .dataframe thead th {\n",
       "        text-align: right;\n",
       "    }\n",
       "</style>\n",
       "<table border=\"1\" class=\"dataframe\">\n",
       "  <thead>\n",
       "    <tr style=\"text-align: right;\">\n",
       "      <th></th>\n",
       "      <th>id</th>\n",
       "      <th>inning</th>\n",
       "      <th>over</th>\n",
       "      <th>ball</th>\n",
       "      <th>batsman_runs</th>\n",
       "      <th>extra_runs</th>\n",
       "      <th>total_runs</th>\n",
       "      <th>non_boundary</th>\n",
       "      <th>is_wicket</th>\n",
       "    </tr>\n",
       "  </thead>\n",
       "  <tbody>\n",
       "    <tr>\n",
       "      <th>count</th>\n",
       "      <td>1.934680e+05</td>\n",
       "      <td>193468.000000</td>\n",
       "      <td>193468.000000</td>\n",
       "      <td>193468.000000</td>\n",
       "      <td>193468.000000</td>\n",
       "      <td>193468.000000</td>\n",
       "      <td>193468.000000</td>\n",
       "      <td>193468.000000</td>\n",
       "      <td>193468.000000</td>\n",
       "    </tr>\n",
       "    <tr>\n",
       "      <th>mean</th>\n",
       "      <td>7.567688e+05</td>\n",
       "      <td>1.482131</td>\n",
       "      <td>9.177027</td>\n",
       "      <td>3.615967</td>\n",
       "      <td>1.240231</td>\n",
       "      <td>0.066414</td>\n",
       "      <td>1.306645</td>\n",
       "      <td>0.000083</td>\n",
       "      <td>0.049078</td>\n",
       "    </tr>\n",
       "    <tr>\n",
       "      <th>std</th>\n",
       "      <td>3.060971e+05</td>\n",
       "      <td>0.499682</td>\n",
       "      <td>5.676848</td>\n",
       "      <td>1.807128</td>\n",
       "      <td>1.610867</td>\n",
       "      <td>0.339991</td>\n",
       "      <td>1.598802</td>\n",
       "      <td>0.009094</td>\n",
       "      <td>0.216031</td>\n",
       "    </tr>\n",
       "    <tr>\n",
       "      <th>min</th>\n",
       "      <td>3.359820e+05</td>\n",
       "      <td>1.000000</td>\n",
       "      <td>0.000000</td>\n",
       "      <td>1.000000</td>\n",
       "      <td>0.000000</td>\n",
       "      <td>0.000000</td>\n",
       "      <td>0.000000</td>\n",
       "      <td>0.000000</td>\n",
       "      <td>0.000000</td>\n",
       "    </tr>\n",
       "    <tr>\n",
       "      <th>25%</th>\n",
       "      <td>5.012270e+05</td>\n",
       "      <td>1.000000</td>\n",
       "      <td>4.000000</td>\n",
       "      <td>2.000000</td>\n",
       "      <td>0.000000</td>\n",
       "      <td>0.000000</td>\n",
       "      <td>0.000000</td>\n",
       "      <td>0.000000</td>\n",
       "      <td>0.000000</td>\n",
       "    </tr>\n",
       "    <tr>\n",
       "      <th>50%</th>\n",
       "      <td>7.292970e+05</td>\n",
       "      <td>1.000000</td>\n",
       "      <td>9.000000</td>\n",
       "      <td>4.000000</td>\n",
       "      <td>1.000000</td>\n",
       "      <td>0.000000</td>\n",
       "      <td>1.000000</td>\n",
       "      <td>0.000000</td>\n",
       "      <td>0.000000</td>\n",
       "    </tr>\n",
       "    <tr>\n",
       "      <th>75%</th>\n",
       "      <td>1.082628e+06</td>\n",
       "      <td>2.000000</td>\n",
       "      <td>14.000000</td>\n",
       "      <td>5.000000</td>\n",
       "      <td>1.000000</td>\n",
       "      <td>0.000000</td>\n",
       "      <td>1.000000</td>\n",
       "      <td>0.000000</td>\n",
       "      <td>0.000000</td>\n",
       "    </tr>\n",
       "    <tr>\n",
       "      <th>max</th>\n",
       "      <td>1.237181e+06</td>\n",
       "      <td>2.000000</td>\n",
       "      <td>19.000000</td>\n",
       "      <td>9.000000</td>\n",
       "      <td>6.000000</td>\n",
       "      <td>7.000000</td>\n",
       "      <td>7.000000</td>\n",
       "      <td>1.000000</td>\n",
       "      <td>1.000000</td>\n",
       "    </tr>\n",
       "  </tbody>\n",
       "</table>\n",
       "</div>"
      ],
      "text/plain": [
       "                 id         inning           over           ball  \\\n",
       "count  1.934680e+05  193468.000000  193468.000000  193468.000000   \n",
       "mean   7.567688e+05       1.482131       9.177027       3.615967   \n",
       "std    3.060971e+05       0.499682       5.676848       1.807128   \n",
       "min    3.359820e+05       1.000000       0.000000       1.000000   \n",
       "25%    5.012270e+05       1.000000       4.000000       2.000000   \n",
       "50%    7.292970e+05       1.000000       9.000000       4.000000   \n",
       "75%    1.082628e+06       2.000000      14.000000       5.000000   \n",
       "max    1.237181e+06       2.000000      19.000000       9.000000   \n",
       "\n",
       "        batsman_runs     extra_runs     total_runs   non_boundary  \\\n",
       "count  193468.000000  193468.000000  193468.000000  193468.000000   \n",
       "mean        1.240231       0.066414       1.306645       0.000083   \n",
       "std         1.610867       0.339991       1.598802       0.009094   \n",
       "min         0.000000       0.000000       0.000000       0.000000   \n",
       "25%         0.000000       0.000000       0.000000       0.000000   \n",
       "50%         1.000000       0.000000       1.000000       0.000000   \n",
       "75%         1.000000       0.000000       1.000000       0.000000   \n",
       "max         6.000000       7.000000       7.000000       1.000000   \n",
       "\n",
       "           is_wicket  \n",
       "count  193468.000000  \n",
       "mean        0.049078  \n",
       "std         0.216031  \n",
       "min         0.000000  \n",
       "25%         0.000000  \n",
       "50%         0.000000  \n",
       "75%         0.000000  \n",
       "max         1.000000  "
      ]
     },
     "execution_count": 22,
     "metadata": {},
     "output_type": "execute_result"
    }
   ],
   "source": [
    "df_details.describe()"
   ]
  },
  {
   "cell_type": "code",
   "execution_count": 23,
   "id": "9e49b00a-3472-40b1-901b-ebcce22c36dd",
   "metadata": {
    "tags": []
   },
   "outputs": [
    {
     "name": "stdout",
     "output_type": "stream",
     "text": [
      "<class 'pandas.core.frame.DataFrame'>\n",
      "RangeIndex: 193468 entries, 0 to 193467\n",
      "Data columns (total 18 columns):\n",
      " #   Column            Non-Null Count   Dtype \n",
      "---  ------            --------------   ----- \n",
      " 0   id                193468 non-null  int64 \n",
      " 1   inning            193468 non-null  int64 \n",
      " 2   over              193468 non-null  int64 \n",
      " 3   ball              193468 non-null  int64 \n",
      " 4   batsman           193468 non-null  object\n",
      " 5   non_striker       193468 non-null  object\n",
      " 6   bowler            193468 non-null  object\n",
      " 7   batsman_runs      193468 non-null  int64 \n",
      " 8   extra_runs        193468 non-null  int64 \n",
      " 9   total_runs        193468 non-null  int64 \n",
      " 10  non_boundary      193468 non-null  int64 \n",
      " 11  is_wicket         193468 non-null  int64 \n",
      " 12  dismissal_kind    9495 non-null    object\n",
      " 13  player_dismissed  9495 non-null    object\n",
      " 14  fielder           6784 non-null    object\n",
      " 15  extras_type       10233 non-null   object\n",
      " 16  batting_team      193468 non-null  object\n",
      " 17  bowling_team      193277 non-null  object\n",
      "dtypes: int64(9), object(9)\n",
      "memory usage: 26.6+ MB\n"
     ]
    }
   ],
   "source": [
    "df_details.info()"
   ]
  },
  {
   "cell_type": "code",
   "execution_count": 24,
   "id": "b1a2628e-15bb-42af-b705-b1e0eb31b1ab",
   "metadata": {
    "tags": []
   },
   "outputs": [
    {
     "data": {
      "text/plain": [
       "id                       0\n",
       "inning                   0\n",
       "over                     0\n",
       "ball                     0\n",
       "batsman                  0\n",
       "non_striker              0\n",
       "bowler                   0\n",
       "batsman_runs             0\n",
       "extra_runs               0\n",
       "total_runs               0\n",
       "non_boundary             0\n",
       "is_wicket                0\n",
       "dismissal_kind      183973\n",
       "player_dismissed    183973\n",
       "fielder             186684\n",
       "extras_type         183235\n",
       "batting_team             0\n",
       "bowling_team           191\n",
       "dtype: int64"
      ]
     },
     "execution_count": 24,
     "metadata": {},
     "output_type": "execute_result"
    }
   ],
   "source": [
    "df_details.isnull().sum()"
   ]
  },
  {
   "cell_type": "code",
   "execution_count": 25,
   "id": "539d2301-6f21-44df-b0b3-35d6ef05a368",
   "metadata": {
    "tags": []
   },
   "outputs": [
    {
     "data": {
      "text/html": [
       "<div>\n",
       "<style scoped>\n",
       "    .dataframe tbody tr th:only-of-type {\n",
       "        vertical-align: middle;\n",
       "    }\n",
       "\n",
       "    .dataframe tbody tr th {\n",
       "        vertical-align: top;\n",
       "    }\n",
       "\n",
       "    .dataframe thead th {\n",
       "        text-align: right;\n",
       "    }\n",
       "</style>\n",
       "<table border=\"1\" class=\"dataframe\">\n",
       "  <thead>\n",
       "    <tr style=\"text-align: right;\">\n",
       "      <th></th>\n",
       "      <th>id</th>\n",
       "      <th>city</th>\n",
       "      <th>date</th>\n",
       "      <th>player_of_match</th>\n",
       "      <th>venue</th>\n",
       "      <th>neutral_venue</th>\n",
       "      <th>team1</th>\n",
       "      <th>team2</th>\n",
       "      <th>toss_winner</th>\n",
       "      <th>toss_decision</th>\n",
       "      <th>winner</th>\n",
       "      <th>result</th>\n",
       "      <th>result_margin</th>\n",
       "      <th>eliminator</th>\n",
       "      <th>method</th>\n",
       "      <th>umpire1</th>\n",
       "      <th>umpire2</th>\n",
       "    </tr>\n",
       "  </thead>\n",
       "  <tbody>\n",
       "    <tr>\n",
       "      <th>0</th>\n",
       "      <td>335982</td>\n",
       "      <td>Bangalore</td>\n",
       "      <td>2008-04-18</td>\n",
       "      <td>BB McCullum</td>\n",
       "      <td>M Chinnaswamy Stadium</td>\n",
       "      <td>0</td>\n",
       "      <td>Royal Challengers Bangalore</td>\n",
       "      <td>Kolkata Knight Riders</td>\n",
       "      <td>Royal Challengers Bangalore</td>\n",
       "      <td>field</td>\n",
       "      <td>Kolkata Knight Riders</td>\n",
       "      <td>runs</td>\n",
       "      <td>140.0</td>\n",
       "      <td>N</td>\n",
       "      <td>Regular</td>\n",
       "      <td>Asad Rauf</td>\n",
       "      <td>RE Koertzen</td>\n",
       "    </tr>\n",
       "  </tbody>\n",
       "</table>\n",
       "</div>"
      ],
      "text/plain": [
       "       id       city       date player_of_match                  venue  \\\n",
       "0  335982  Bangalore 2008-04-18     BB McCullum  M Chinnaswamy Stadium   \n",
       "\n",
       "  neutral_venue                        team1                  team2  \\\n",
       "0             0  Royal Challengers Bangalore  Kolkata Knight Riders   \n",
       "\n",
       "                   toss_winner toss_decision                 winner result  \\\n",
       "0  Royal Challengers Bangalore         field  Kolkata Knight Riders   runs   \n",
       "\n",
       "  result_margin eliminator   method    umpire1      umpire2  \n",
       "0         140.0          N  Regular  Asad Rauf  RE Koertzen  "
      ]
     },
     "execution_count": 25,
     "metadata": {},
     "output_type": "execute_result"
    }
   ],
   "source": [
    "df_match[df_match['id'] == 335982]"
   ]
  },
  {
   "cell_type": "code",
   "execution_count": 26,
   "id": "65da75a8-638e-44ab-b4c6-3dc1af77c28e",
   "metadata": {
    "tags": []
   },
   "outputs": [
    {
     "data": {
      "text/plain": [
       "(array([nan, 'caught', 'run out', 'bowled', 'lbw', 'retired hurt',\n",
       "        'stumped', 'caught and bowled', 'hit wicket',\n",
       "        'obstructing the field'], dtype=object),\n",
       " array([nan, 'byes', 'wides', 'legbyes', 'noballs', 'penalty'],\n",
       "       dtype=object))"
      ]
     },
     "execution_count": 26,
     "metadata": {},
     "output_type": "execute_result"
    }
   ],
   "source": [
    "# type of values in dismissal_kind and player_dismissed\n",
    "# nan means player is not out\n",
    "df_details['dismissal_kind'].unique(),df_details['extras_type'].unique()"
   ]
  },
  {
   "cell_type": "code",
   "execution_count": 27,
   "id": "0dc9c0a9-0976-4495-b3fd-497558666de9",
   "metadata": {
    "tags": []
   },
   "outputs": [],
   "source": [
    "df = df_details[df_details['bowling_team'].isnull()]"
   ]
  },
  {
   "cell_type": "code",
   "execution_count": 28,
   "id": "d6a9cdc4-cf66-400d-89ad-d76e5f8ddb60",
   "metadata": {
    "tags": []
   },
   "outputs": [
    {
     "data": {
      "text/plain": [
       "array([501265, 829763], dtype=int64)"
      ]
     },
     "execution_count": 28,
     "metadata": {},
     "output_type": "execute_result"
    }
   ],
   "source": [
    "df['id'].unique()"
   ]
  },
  {
   "cell_type": "code",
   "execution_count": 29,
   "id": "808d0791-cb3e-4ffe-a6f7-adc414a4538a",
   "metadata": {
    "tags": []
   },
   "outputs": [
    {
     "data": {
      "text/plain": [
       "(False, False)"
      ]
     },
     "execution_count": 29,
     "metadata": {},
     "output_type": "execute_result"
    }
   ],
   "source": [
    "# these two matches are deleted that means these matches were suspended\n",
    "501265 in df_match['id'].unique() , 829763 in df_match['id'].unique() "
   ]
  },
  {
   "cell_type": "code",
   "execution_count": 30,
   "id": "4a6acab6-4e1b-49d4-89c6-fa1ca477a643",
   "metadata": {
    "tags": []
   },
   "outputs": [],
   "source": [
    "# filled missing values\n",
    "df_details['dismissal_kind'] = df_details['dismissal_kind'].fillna('not out')\n",
    "df_details['player_dismissed'] = df_details['player_dismissed'].fillna('none')\n",
    "df_details['fielder'] = df_details['fielder'].fillna('unknown')\n",
    "df_details['extras_type'] = df_details['extras_type'].fillna('no extra')\n",
    "# df_details = df_details.dropna()"
   ]
  },
  {
   "cell_type": "code",
   "execution_count": 31,
   "id": "42af691e-abf1-40a4-b099-9bf3d78d6697",
   "metadata": {
    "tags": []
   },
   "outputs": [
    {
     "data": {
      "text/plain": [
       "array([501265, 829763], dtype=int64)"
      ]
     },
     "execution_count": 31,
     "metadata": {},
     "output_type": "execute_result"
    }
   ],
   "source": [
    "df_details[df_details['bowling_team'].isnull()]['id'].unique()"
   ]
  },
  {
   "cell_type": "code",
   "execution_count": 32,
   "id": "55cdeb84-68da-4af2-9d1e-1ddfc18e655d",
   "metadata": {
    "tags": []
   },
   "outputs": [
    {
     "data": {
      "text/plain": [
       "((812, 17), 816)"
      ]
     },
     "execution_count": 32,
     "metadata": {},
     "output_type": "execute_result"
    }
   ],
   "source": [
    "df_match.shape , len(df_details['id'].unique())"
   ]
  },
  {
   "cell_type": "code",
   "execution_count": 33,
   "id": "9d6ed910-9555-4fd9-8307-f354a4b3cc7f",
   "metadata": {
    "tags": []
   },
   "outputs": [],
   "source": [
    "lst = []\n",
    "for match in df_details['id'].unique():\n",
    "    if match not in list(df_match['id']):\n",
    "        lst.append(match)"
   ]
  },
  {
   "cell_type": "code",
   "execution_count": 34,
   "id": "cc41e8cf-ddc9-497e-af41-f0fd652e8d40",
   "metadata": {
    "tags": []
   },
   "outputs": [
    {
     "data": {
      "text/plain": [
       "[501265, 829763, 829813, 1178424]"
      ]
     },
     "execution_count": 34,
     "metadata": {},
     "output_type": "execute_result"
    }
   ],
   "source": [
    "lst"
   ]
  },
  {
   "cell_type": "code",
   "execution_count": 35,
   "id": "f9b23e90-0d1d-4920-b798-e5129945e343",
   "metadata": {
    "tags": []
   },
   "outputs": [],
   "source": [
    "df_details.drop(df_details[df_details['id'].isin(lst)].index , inplace = True)"
   ]
  },
  {
   "cell_type": "code",
   "execution_count": 36,
   "id": "c832034a-7c0e-4246-b4e7-fc0619878e0d",
   "metadata": {
    "tags": []
   },
   "outputs": [
    {
     "data": {
      "text/plain": [
       "812"
      ]
     },
     "execution_count": 36,
     "metadata": {},
     "output_type": "execute_result"
    }
   ],
   "source": [
    "len(df_details['id'].unique())"
   ]
  },
  {
   "cell_type": "markdown",
   "id": "40ec5ab1-c349-433b-822d-d04ce8644dbd",
   "metadata": {},
   "source": [
    "## Questions to answer\n",
    "---\n",
    "- Count of matches played each season\n",
    "- How many runs scored each season ?\n",
    "- What were the runs scored per match in each season?\n",
    "- Who has umpired the most ?\n",
    "- What does the team decide after winning the toss ?\n",
    "- How does the toss decision vary across the seasons ?\n",
    "- Does winning the does imply winnig the match ?"
   ]
  },
  {
   "cell_type": "code",
   "execution_count": 37,
   "id": "49b94deb-4a38-4d28-a25e-c72c3831d1d5",
   "metadata": {
    "tags": []
   },
   "outputs": [
    {
     "name": "stdout",
     "output_type": "stream",
     "text": [
      "number of matches affected by rain  19\n"
     ]
    }
   ],
   "source": [
    "print(\"number of matches affected by rain \", df_match[df_match['method'] == 'D/L'].shape[0])"
   ]
  },
  {
   "cell_type": "markdown",
   "id": "60bb21e9-3e69-492a-b67b-a8328ccd40d8",
   "metadata": {
    "tags": []
   },
   "source": [
    "#### How many matches played in each IPL season ?"
   ]
  },
  {
   "cell_type": "code",
   "execution_count": 38,
   "id": "009dee81-33ed-4c38-9fc4-ab58821cc88b",
   "metadata": {
    "tags": []
   },
   "outputs": [
    {
     "name": "stdout",
     "output_type": "stream",
     "text": [
      "Matches per season (2008 - 2020)\n",
      "--------------------------------\n",
      "2008 : 58\n",
      "2009 : 57\n",
      "2010 : 60\n",
      "2011 : 72\n",
      "2012 : 74\n",
      "2013 : 76\n",
      "2014 : 60\n",
      "2015 : 57\n",
      "2016 : 60\n",
      "2017 : 59\n",
      "2018 : 60\n",
      "2019 : 59\n",
      "2020 : 60\n",
      "--------------------------------\n"
     ]
    }
   ],
   "source": [
    "df_match['season'] = df_match['date'].dt.year\n",
    "\n",
    "df = df_match.groupby('season').count()\n",
    "df.rename(columns={'id':'matches'} , inplace = True)\n",
    "\n",
    "matches_per_season = dict(df['matches'])\n",
    "\n",
    "print(\"Matches per season (2008 - 2020)\")\n",
    "\n",
    "print(\"-\"*32)\n",
    "for i in matches_per_season :\n",
    "    print(i, \":\" , matches_per_season[i] )\n",
    "print(\"-\"*32)\n"
   ]
  },
  {
   "cell_type": "markdown",
   "id": "2f5f780a-4f96-4d70-8ecc-04e159d97890",
   "metadata": {
    "tags": []
   },
   "source": [
    "#### Runs scored in each season"
   ]
  },
  {
   "cell_type": "code",
   "execution_count": 39,
   "id": "93c108bc-5fb5-4497-b8fe-fd0236862f2f",
   "metadata": {
    "tags": []
   },
   "outputs": [],
   "source": [
    "df = df_details.groupby(['id', 'inning']).sum()\n",
    "\n",
    "first_inning = []\n",
    "second_inning = []\n",
    "\n",
    "runs = dict(df['total_runs'])\n",
    "for i in dict(df['total_runs']).keys():\n",
    "    if i[1] == 1:\n",
    "        first_inning.append(runs[i])\n",
    "    else:\n",
    "        second_inning.append(runs[i])\n",
    "        "
   ]
  },
  {
   "cell_type": "code",
   "execution_count": 40,
   "id": "5a0f657d-e609-4c03-9d8e-e50d6bc8b040",
   "metadata": {
    "tags": []
   },
   "outputs": [],
   "source": [
    "df_match['first_inning_runs'] = first_inning\n",
    "df_match['second_inning_runs'] = second_inning\n",
    "df_match['total_runs'] = df_match['first_inning_runs'] + df_match['second_inning_runs']"
   ]
  },
  {
   "cell_type": "code",
   "execution_count": 41,
   "id": "db03c54a-f25f-400f-9824-7ce08619cc85",
   "metadata": {
    "tags": []
   },
   "outputs": [
    {
     "data": {
      "text/html": [
       "<div>\n",
       "<style scoped>\n",
       "    .dataframe tbody tr th:only-of-type {\n",
       "        vertical-align: middle;\n",
       "    }\n",
       "\n",
       "    .dataframe tbody tr th {\n",
       "        vertical-align: top;\n",
       "    }\n",
       "\n",
       "    .dataframe thead th {\n",
       "        text-align: right;\n",
       "    }\n",
       "</style>\n",
       "<table border=\"1\" class=\"dataframe\">\n",
       "  <thead>\n",
       "    <tr style=\"text-align: right;\">\n",
       "      <th></th>\n",
       "      <th>id</th>\n",
       "      <th>city</th>\n",
       "      <th>date</th>\n",
       "      <th>player_of_match</th>\n",
       "      <th>venue</th>\n",
       "      <th>neutral_venue</th>\n",
       "      <th>team1</th>\n",
       "      <th>team2</th>\n",
       "      <th>toss_winner</th>\n",
       "      <th>toss_decision</th>\n",
       "      <th>...</th>\n",
       "      <th>result</th>\n",
       "      <th>result_margin</th>\n",
       "      <th>eliminator</th>\n",
       "      <th>method</th>\n",
       "      <th>umpire1</th>\n",
       "      <th>umpire2</th>\n",
       "      <th>season</th>\n",
       "      <th>first_inning_runs</th>\n",
       "      <th>second_inning_runs</th>\n",
       "      <th>total_runs</th>\n",
       "    </tr>\n",
       "  </thead>\n",
       "  <tbody>\n",
       "    <tr>\n",
       "      <th>0</th>\n",
       "      <td>335982</td>\n",
       "      <td>Bangalore</td>\n",
       "      <td>2008-04-18</td>\n",
       "      <td>BB McCullum</td>\n",
       "      <td>M Chinnaswamy Stadium</td>\n",
       "      <td>0</td>\n",
       "      <td>Royal Challengers Bangalore</td>\n",
       "      <td>Kolkata Knight Riders</td>\n",
       "      <td>Royal Challengers Bangalore</td>\n",
       "      <td>field</td>\n",
       "      <td>...</td>\n",
       "      <td>runs</td>\n",
       "      <td>140.0</td>\n",
       "      <td>N</td>\n",
       "      <td>Regular</td>\n",
       "      <td>Asad Rauf</td>\n",
       "      <td>RE Koertzen</td>\n",
       "      <td>2008</td>\n",
       "      <td>222</td>\n",
       "      <td>82</td>\n",
       "      <td>304</td>\n",
       "    </tr>\n",
       "    <tr>\n",
       "      <th>1</th>\n",
       "      <td>335983</td>\n",
       "      <td>Chandigarh</td>\n",
       "      <td>2008-04-19</td>\n",
       "      <td>MEK Hussey</td>\n",
       "      <td>Punjab Cricket Association Stadium, Mohali</td>\n",
       "      <td>0</td>\n",
       "      <td>Kings XI Punjab</td>\n",
       "      <td>Chennai Super Kings</td>\n",
       "      <td>Chennai Super Kings</td>\n",
       "      <td>bat</td>\n",
       "      <td>...</td>\n",
       "      <td>runs</td>\n",
       "      <td>33.0</td>\n",
       "      <td>N</td>\n",
       "      <td>Regular</td>\n",
       "      <td>MR Benson</td>\n",
       "      <td>SL Shastri</td>\n",
       "      <td>2008</td>\n",
       "      <td>240</td>\n",
       "      <td>207</td>\n",
       "      <td>447</td>\n",
       "    </tr>\n",
       "    <tr>\n",
       "      <th>2</th>\n",
       "      <td>335984</td>\n",
       "      <td>Delhi</td>\n",
       "      <td>2008-04-19</td>\n",
       "      <td>MF Maharoof</td>\n",
       "      <td>Feroz Shah Kotla</td>\n",
       "      <td>0</td>\n",
       "      <td>Delhi Daredevils</td>\n",
       "      <td>Rajasthan Royals</td>\n",
       "      <td>Rajasthan Royals</td>\n",
       "      <td>bat</td>\n",
       "      <td>...</td>\n",
       "      <td>wickets</td>\n",
       "      <td>9.0</td>\n",
       "      <td>N</td>\n",
       "      <td>Regular</td>\n",
       "      <td>Aleem Dar</td>\n",
       "      <td>GA Pratapkumar</td>\n",
       "      <td>2008</td>\n",
       "      <td>129</td>\n",
       "      <td>132</td>\n",
       "      <td>261</td>\n",
       "    </tr>\n",
       "    <tr>\n",
       "      <th>3</th>\n",
       "      <td>335985</td>\n",
       "      <td>Mumbai</td>\n",
       "      <td>2008-04-20</td>\n",
       "      <td>MV Boucher</td>\n",
       "      <td>Wankhede Stadium</td>\n",
       "      <td>0</td>\n",
       "      <td>Mumbai Indians</td>\n",
       "      <td>Royal Challengers Bangalore</td>\n",
       "      <td>Mumbai Indians</td>\n",
       "      <td>bat</td>\n",
       "      <td>...</td>\n",
       "      <td>wickets</td>\n",
       "      <td>5.0</td>\n",
       "      <td>N</td>\n",
       "      <td>Regular</td>\n",
       "      <td>SJ Davis</td>\n",
       "      <td>DJ Harper</td>\n",
       "      <td>2008</td>\n",
       "      <td>165</td>\n",
       "      <td>166</td>\n",
       "      <td>331</td>\n",
       "    </tr>\n",
       "    <tr>\n",
       "      <th>4</th>\n",
       "      <td>335986</td>\n",
       "      <td>Kolkata</td>\n",
       "      <td>2008-04-20</td>\n",
       "      <td>DJ Hussey</td>\n",
       "      <td>Eden Gardens</td>\n",
       "      <td>0</td>\n",
       "      <td>Kolkata Knight Riders</td>\n",
       "      <td>Deccan Chargers</td>\n",
       "      <td>Deccan Chargers</td>\n",
       "      <td>bat</td>\n",
       "      <td>...</td>\n",
       "      <td>wickets</td>\n",
       "      <td>5.0</td>\n",
       "      <td>N</td>\n",
       "      <td>Regular</td>\n",
       "      <td>BF Bowden</td>\n",
       "      <td>K Hariharan</td>\n",
       "      <td>2008</td>\n",
       "      <td>110</td>\n",
       "      <td>112</td>\n",
       "      <td>222</td>\n",
       "    </tr>\n",
       "  </tbody>\n",
       "</table>\n",
       "<p>5 rows × 21 columns</p>\n",
       "</div>"
      ],
      "text/plain": [
       "       id        city       date player_of_match  \\\n",
       "0  335982   Bangalore 2008-04-18     BB McCullum   \n",
       "1  335983  Chandigarh 2008-04-19      MEK Hussey   \n",
       "2  335984       Delhi 2008-04-19     MF Maharoof   \n",
       "3  335985      Mumbai 2008-04-20      MV Boucher   \n",
       "4  335986     Kolkata 2008-04-20       DJ Hussey   \n",
       "\n",
       "                                        venue neutral_venue  \\\n",
       "0                       M Chinnaswamy Stadium             0   \n",
       "1  Punjab Cricket Association Stadium, Mohali             0   \n",
       "2                            Feroz Shah Kotla             0   \n",
       "3                            Wankhede Stadium             0   \n",
       "4                                Eden Gardens             0   \n",
       "\n",
       "                         team1                        team2  \\\n",
       "0  Royal Challengers Bangalore        Kolkata Knight Riders   \n",
       "1              Kings XI Punjab          Chennai Super Kings   \n",
       "2             Delhi Daredevils             Rajasthan Royals   \n",
       "3               Mumbai Indians  Royal Challengers Bangalore   \n",
       "4        Kolkata Knight Riders              Deccan Chargers   \n",
       "\n",
       "                   toss_winner toss_decision  ...   result result_margin  \\\n",
       "0  Royal Challengers Bangalore         field  ...     runs         140.0   \n",
       "1          Chennai Super Kings           bat  ...     runs          33.0   \n",
       "2             Rajasthan Royals           bat  ...  wickets           9.0   \n",
       "3               Mumbai Indians           bat  ...  wickets           5.0   \n",
       "4              Deccan Chargers           bat  ...  wickets           5.0   \n",
       "\n",
       "  eliminator   method    umpire1         umpire2 season  first_inning_runs  \\\n",
       "0          N  Regular  Asad Rauf     RE Koertzen   2008                222   \n",
       "1          N  Regular  MR Benson      SL Shastri   2008                240   \n",
       "2          N  Regular  Aleem Dar  GA Pratapkumar   2008                129   \n",
       "3          N  Regular   SJ Davis       DJ Harper   2008                165   \n",
       "4          N  Regular  BF Bowden     K Hariharan   2008                110   \n",
       "\n",
       "   second_inning_runs  total_runs  \n",
       "0                  82         304  \n",
       "1                 207         447  \n",
       "2                 132         261  \n",
       "3                 166         331  \n",
       "4                 112         222  \n",
       "\n",
       "[5 rows x 21 columns]"
      ]
     },
     "execution_count": 41,
     "metadata": {},
     "output_type": "execute_result"
    }
   ],
   "source": [
    "df_match.head()"
   ]
  },
  {
   "cell_type": "code",
   "execution_count": 42,
   "id": "044e9bc5-ee5d-46b1-9cbd-6d450bb8b2ea",
   "metadata": {
    "tags": []
   },
   "outputs": [
    {
     "name": "stdout",
     "output_type": "stream",
     "text": [
      "Runs scored each season (2008 -2020)\n",
      "------------------------------\n"
     ]
    },
    {
     "data": {
      "text/html": [
       "<style type=\"text/css\">\n",
       "</style>\n",
       "<table id=\"T_becee\">\n",
       "  <thead>\n",
       "    <tr>\n",
       "      <th id=\"T_becee_level0_col0\" class=\"col_heading level0 col0\" >season</th>\n",
       "      <th id=\"T_becee_level0_col1\" class=\"col_heading level0 col1\" >total_runs</th>\n",
       "    </tr>\n",
       "  </thead>\n",
       "  <tbody>\n",
       "    <tr>\n",
       "      <td id=\"T_becee_row0_col0\" class=\"data row0 col0\" >2008</td>\n",
       "      <td id=\"T_becee_row0_col1\" class=\"data row0 col1\" >17937</td>\n",
       "    </tr>\n",
       "    <tr>\n",
       "      <td id=\"T_becee_row1_col0\" class=\"data row1 col0\" >2009</td>\n",
       "      <td id=\"T_becee_row1_col1\" class=\"data row1 col1\" >16320</td>\n",
       "    </tr>\n",
       "    <tr>\n",
       "      <td id=\"T_becee_row2_col0\" class=\"data row2 col0\" >2010</td>\n",
       "      <td id=\"T_becee_row2_col1\" class=\"data row2 col1\" >18864</td>\n",
       "    </tr>\n",
       "    <tr>\n",
       "      <td id=\"T_becee_row3_col0\" class=\"data row3 col0\" >2011</td>\n",
       "      <td id=\"T_becee_row3_col1\" class=\"data row3 col1\" >21098</td>\n",
       "    </tr>\n",
       "    <tr>\n",
       "      <td id=\"T_becee_row4_col0\" class=\"data row4 col0\" >2012</td>\n",
       "      <td id=\"T_becee_row4_col1\" class=\"data row4 col1\" >22453</td>\n",
       "    </tr>\n",
       "    <tr>\n",
       "      <td id=\"T_becee_row5_col0\" class=\"data row5 col0\" >2013</td>\n",
       "      <td id=\"T_becee_row5_col1\" class=\"data row5 col1\" >22541</td>\n",
       "    </tr>\n",
       "    <tr>\n",
       "      <td id=\"T_becee_row6_col0\" class=\"data row6 col0\" >2014</td>\n",
       "      <td id=\"T_becee_row6_col1\" class=\"data row6 col1\" >18909</td>\n",
       "    </tr>\n",
       "    <tr>\n",
       "      <td id=\"T_becee_row7_col0\" class=\"data row7 col0\" >2015</td>\n",
       "      <td id=\"T_becee_row7_col1\" class=\"data row7 col1\" >17943</td>\n",
       "    </tr>\n",
       "    <tr>\n",
       "      <td id=\"T_becee_row8_col0\" class=\"data row8 col0\" >2016</td>\n",
       "      <td id=\"T_becee_row8_col1\" class=\"data row8 col1\" >18862</td>\n",
       "    </tr>\n",
       "    <tr>\n",
       "      <td id=\"T_becee_row9_col0\" class=\"data row9 col0\" >2017</td>\n",
       "      <td id=\"T_becee_row9_col1\" class=\"data row9 col1\" >18769</td>\n",
       "    </tr>\n",
       "    <tr>\n",
       "      <td id=\"T_becee_row10_col0\" class=\"data row10 col0\" >2018</td>\n",
       "      <td id=\"T_becee_row10_col1\" class=\"data row10 col1\" >19901</td>\n",
       "    </tr>\n",
       "    <tr>\n",
       "      <td id=\"T_becee_row11_col0\" class=\"data row11 col0\" >2019</td>\n",
       "      <td id=\"T_becee_row11_col1\" class=\"data row11 col1\" >19297</td>\n",
       "    </tr>\n",
       "    <tr>\n",
       "      <td id=\"T_becee_row12_col0\" class=\"data row12 col0\" >2020</td>\n",
       "      <td id=\"T_becee_row12_col1\" class=\"data row12 col1\" >19352</td>\n",
       "    </tr>\n",
       "  </tbody>\n",
       "</table>\n"
      ],
      "text/plain": [
       "<pandas.io.formats.style.Styler at 0x299f77f41d0>"
      ]
     },
     "execution_count": 42,
     "metadata": {},
     "output_type": "execute_result"
    }
   ],
   "source": [
    "df = df_match[['season' , 'total_runs']]\n",
    "print(\"Runs scored each season (2008 -2020)\")\n",
    "print(\"-\"*30)\n",
    "df = df.groupby('season').sum().reset_index()\n",
    "df.style.hide()\n",
    "\n"
   ]
  },
  {
   "cell_type": "code",
   "execution_count": 43,
   "id": "84399aea-1c22-4127-9186-c8ffd92a8c60",
   "metadata": {
    "tags": []
   },
   "outputs": [
    {
     "data": {
      "text/plain": [
       "[<matplotlib.lines.Line2D at 0x299f79e5310>]"
      ]
     },
     "execution_count": 43,
     "metadata": {},
     "output_type": "execute_result"
    },
    {
     "data": {
      "image/png": "[encoded data removed]",
      "text/plain": [
       "<Figure size 640x480 with 1 Axes>"
      ]
     },
     "metadata": {},
     "output_type": "display_data"
    }
   ],
   "source": [
    "plt.plot(df.season , df.total_runs)"
   ]
  },
  {
   "cell_type": "markdown",
   "id": "3ad0a288-1053-49ca-98b5-ec38ee8b5a6b",
   "metadata": {},
   "source": [
    "            Most runs were scored in 2013 season , having 22541 runs scored in a single season, 2011 and 2012 season are also among the high scoring seasons crossing 20k runs marks.\n",
    "            In year 2011 , BCCI introduced 2 more franchises that indirectly increases number matches although these teams were terminated after 2013 that's why we can see decrease in runs scored."
   ]
  },
  {
   "cell_type": "markdown",
   "id": "d898b571-17ba-48da-9679-d931938d0184",
   "metadata": {},
   "source": [
    "### Runs scored per match in each season"
   ]
  },
  {
   "cell_type": "code",
   "execution_count": 44,
   "id": "c5c8650e-b70a-43d6-a087-2824787eade7",
   "metadata": {
    "tags": []
   },
   "outputs": [
    {
     "data": {
      "text/html": [
       "<style type=\"text/css\">\n",
       "</style>\n",
       "<table id=\"T_35faa\">\n",
       "  <thead>\n",
       "    <tr>\n",
       "      <th id=\"T_35faa_level0_col0\" class=\"col_heading level0 col0\" >season</th>\n",
       "      <th id=\"T_35faa_level0_col1\" class=\"col_heading level0 col1\" >average_runs</th>\n",
       "    </tr>\n",
       "  </thead>\n",
       "  <tbody>\n",
       "    <tr>\n",
       "      <td id=\"T_35faa_row0_col0\" class=\"data row0 col0\" >2008</td>\n",
       "      <td id=\"T_35faa_row0_col1\" class=\"data row0 col1\" >309.258621</td>\n",
       "    </tr>\n",
       "    <tr>\n",
       "      <td id=\"T_35faa_row1_col0\" class=\"data row1 col0\" >2009</td>\n",
       "      <td id=\"T_35faa_row1_col1\" class=\"data row1 col1\" >286.315789</td>\n",
       "    </tr>\n",
       "    <tr>\n",
       "      <td id=\"T_35faa_row2_col0\" class=\"data row2 col0\" >2010</td>\n",
       "      <td id=\"T_35faa_row2_col1\" class=\"data row2 col1\" >314.400000</td>\n",
       "    </tr>\n",
       "    <tr>\n",
       "      <td id=\"T_35faa_row3_col0\" class=\"data row3 col0\" >2011</td>\n",
       "      <td id=\"T_35faa_row3_col1\" class=\"data row3 col1\" >293.027778</td>\n",
       "    </tr>\n",
       "    <tr>\n",
       "      <td id=\"T_35faa_row4_col0\" class=\"data row4 col0\" >2012</td>\n",
       "      <td id=\"T_35faa_row4_col1\" class=\"data row4 col1\" >303.418919</td>\n",
       "    </tr>\n",
       "    <tr>\n",
       "      <td id=\"T_35faa_row5_col0\" class=\"data row5 col0\" >2013</td>\n",
       "      <td id=\"T_35faa_row5_col1\" class=\"data row5 col1\" >296.592105</td>\n",
       "    </tr>\n",
       "    <tr>\n",
       "      <td id=\"T_35faa_row6_col0\" class=\"data row6 col0\" >2014</td>\n",
       "      <td id=\"T_35faa_row6_col1\" class=\"data row6 col1\" >315.150000</td>\n",
       "    </tr>\n",
       "    <tr>\n",
       "      <td id=\"T_35faa_row7_col0\" class=\"data row7 col0\" >2015</td>\n",
       "      <td id=\"T_35faa_row7_col1\" class=\"data row7 col1\" >314.789474</td>\n",
       "    </tr>\n",
       "    <tr>\n",
       "      <td id=\"T_35faa_row8_col0\" class=\"data row8 col0\" >2016</td>\n",
       "      <td id=\"T_35faa_row8_col1\" class=\"data row8 col1\" >314.366667</td>\n",
       "    </tr>\n",
       "    <tr>\n",
       "      <td id=\"T_35faa_row9_col0\" class=\"data row9 col0\" >2017</td>\n",
       "      <td id=\"T_35faa_row9_col1\" class=\"data row9 col1\" >318.118644</td>\n",
       "    </tr>\n",
       "    <tr>\n",
       "      <td id=\"T_35faa_row10_col0\" class=\"data row10 col0\" >2018</td>\n",
       "      <td id=\"T_35faa_row10_col1\" class=\"data row10 col1\" >331.683333</td>\n",
       "    </tr>\n",
       "    <tr>\n",
       "      <td id=\"T_35faa_row11_col0\" class=\"data row11 col0\" >2019</td>\n",
       "      <td id=\"T_35faa_row11_col1\" class=\"data row11 col1\" >327.067797</td>\n",
       "    </tr>\n",
       "    <tr>\n",
       "      <td id=\"T_35faa_row12_col0\" class=\"data row12 col0\" >2020</td>\n",
       "      <td id=\"T_35faa_row12_col1\" class=\"data row12 col1\" >322.533333</td>\n",
       "    </tr>\n",
       "  </tbody>\n",
       "</table>\n"
      ],
      "text/plain": [
       "<pandas.io.formats.style.Styler at 0x299f7a5a5d0>"
      ]
     },
     "execution_count": 44,
     "metadata": {},
     "output_type": "execute_result"
    }
   ],
   "source": [
    "df = df_match[['season','total_runs']].groupby('season').mean().reset_index()\n",
    "df.rename(columns = {'total_runs':'average_runs'} , inplace = True)\n",
    "df.style.hide()"
   ]
  },
  {
   "cell_type": "markdown",
   "id": "270f0416-e12e-4c12-8dda-727dff38e1a5",
   "metadata": {},
   "source": [
    "#### Who has umpired the most?"
   ]
  },
  {
   "cell_type": "code",
   "execution_count": 45,
   "id": "82a3696e-9c07-4739-94d4-1bb839b551bb",
   "metadata": {
    "tags": []
   },
   "outputs": [],
   "source": [
    "# find unique umpires\n",
    "umpires = list(df_match['umpire1'])\n",
    "\n",
    "for umpire in list(df_match['umpire2']):\n",
    "    umpires.append(umpire)\n",
    "    \n",
    "umpires = list(set(umpires))"
   ]
  },
  {
   "cell_type": "code",
   "execution_count": 46,
   "id": "4dbce7fd",
   "metadata": {},
   "outputs": [],
   "source": [
    "# count number of matches for each umpire\n",
    "lst = []\n",
    "\n",
    "for umpire in umpires:\n",
    "    c = 0\n",
    "    for i in range(len(df_match[['umpire1','umpire2']])): \n",
    "        \n",
    "        if umpire in df_match[['umpire1','umpire2']].values[i]:\n",
    "            c+=1\n",
    "\n",
    "    lst.append([umpire, c])"
   ]
  },
  {
   "cell_type": "code",
   "execution_count": 47,
   "id": "237e4351",
   "metadata": {
    "scrolled": true
   },
   "outputs": [
    {
     "data": {
      "text/html": [
       "<style type=\"text/css\">\n",
       "</style>\n",
       "<table id=\"T_bc009\">\n",
       "  <thead>\n",
       "    <tr>\n",
       "      <th id=\"T_bc009_level0_col0\" class=\"col_heading level0 col0\" >Umpire</th>\n",
       "      <th id=\"T_bc009_level0_col1\" class=\"col_heading level0 col1\" >No of Matches</th>\n",
       "    </tr>\n",
       "  </thead>\n",
       "  <tbody>\n",
       "    <tr>\n",
       "      <td id=\"T_bc009_row0_col0\" class=\"data row0 col0\" >S Ravi</td>\n",
       "      <td id=\"T_bc009_row0_col1\" class=\"data row0 col1\" >121</td>\n",
       "    </tr>\n",
       "    <tr>\n",
       "      <td id=\"T_bc009_row1_col0\" class=\"data row1 col0\" >HDPK Dharmasena</td>\n",
       "      <td id=\"T_bc009_row1_col1\" class=\"data row1 col1\" >93</td>\n",
       "    </tr>\n",
       "    <tr>\n",
       "      <td id=\"T_bc009_row2_col0\" class=\"data row2 col0\" >AK Chaudhary</td>\n",
       "      <td id=\"T_bc009_row2_col1\" class=\"data row2 col1\" >87</td>\n",
       "    </tr>\n",
       "    <tr>\n",
       "      <td id=\"T_bc009_row3_col0\" class=\"data row3 col0\" >C Shamshuddin</td>\n",
       "      <td id=\"T_bc009_row3_col1\" class=\"data row3 col1\" >82</td>\n",
       "    </tr>\n",
       "    <tr>\n",
       "      <td id=\"T_bc009_row4_col0\" class=\"data row4 col0\" >M Erasmus</td>\n",
       "      <td id=\"T_bc009_row4_col1\" class=\"data row4 col1\" >65</td>\n",
       "    </tr>\n",
       "    <tr>\n",
       "      <td id=\"T_bc009_row5_col0\" class=\"data row5 col0\" >Nitin Menon</td>\n",
       "      <td id=\"T_bc009_row5_col1\" class=\"data row5 col1\" >57</td>\n",
       "    </tr>\n",
       "    <tr>\n",
       "      <td id=\"T_bc009_row6_col0\" class=\"data row6 col0\" >CK Nandan</td>\n",
       "      <td id=\"T_bc009_row6_col1\" class=\"data row6 col1\" >57</td>\n",
       "    </tr>\n",
       "    <tr>\n",
       "      <td id=\"T_bc009_row7_col0\" class=\"data row7 col0\" >SJA Taufel</td>\n",
       "      <td id=\"T_bc009_row7_col1\" class=\"data row7 col1\" >55</td>\n",
       "    </tr>\n",
       "    <tr>\n",
       "      <td id=\"T_bc009_row8_col0\" class=\"data row8 col0\" >Asad Rauf</td>\n",
       "      <td id=\"T_bc009_row8_col1\" class=\"data row8 col1\" >51</td>\n",
       "    </tr>\n",
       "    <tr>\n",
       "      <td id=\"T_bc009_row9_col0\" class=\"data row9 col0\" >VA Kulkarni</td>\n",
       "      <td id=\"T_bc009_row9_col1\" class=\"data row9 col1\" >50</td>\n",
       "    </tr>\n",
       "  </tbody>\n",
       "</table>\n"
      ],
      "text/plain": [
       "<pandas.io.formats.style.Styler at 0x299f780e350>"
      ]
     },
     "execution_count": 47,
     "metadata": {},
     "output_type": "execute_result"
    }
   ],
   "source": [
    "pd.DataFrame(lst , columns=['Umpire' , 'No of Matches']).sort_values(by = 'No of Matches' , ascending=False).head(10).style.hide()"
   ]
  },
  {
   "cell_type": "markdown",
   "id": "4548b796",
   "metadata": {},
   "source": [
    "#### What does the team decide after winnig the toss ?"
   ]
  },
  {
   "cell_type": "code",
   "execution_count": 48,
   "id": "529ae8ff",
   "metadata": {
    "scrolled": true
   },
   "outputs": [
    {
     "data": {
      "text/plain": [
       "'field'"
      ]
     },
     "execution_count": 48,
     "metadata": {},
     "output_type": "execute_result"
    }
   ],
   "source": [
    "df_match['toss_decision'].mode()[0]"
   ]
  },
  {
   "cell_type": "code",
   "execution_count": 49,
   "id": "2f433cd0",
   "metadata": {
    "scrolled": true
   },
   "outputs": [
    {
     "data": {
      "text/plain": [
       "<BarContainer object of 2 artists>"
      ]
     },
     "execution_count": 49,
     "metadata": {},
     "output_type": "execute_result"
    },
    {
     "data": {
      "image/png": "[encoded data removed]",
      "text/plain": [
       "<Figure size 640x480 with 1 Axes>"
      ]
     },
     "metadata": {},
     "output_type": "display_data"
    }
   ],
   "source": [
    "plt.xlabel('Choices')\n",
    "plt.ylabel('number of decisions made')\n",
    "plt.bar(df_match['toss_decision'].unique()   , list(df_match['toss_decision'].value_counts()))"
   ]
  },
  {
   "cell_type": "code",
   "execution_count": 50,
   "id": "3fa7ea4b",
   "metadata": {},
   "outputs": [
    {
     "data": {
      "text/plain": [
       "toss_decision\n",
       "field    493\n",
       "bat      319\n",
       "Name: count, dtype: int64"
      ]
     },
     "execution_count": 50,
     "metadata": {},
     "output_type": "execute_result"
    }
   ],
   "source": [
    "df_match['toss_decision'].value_counts()"
   ]
  },
  {
   "cell_type": "markdown",
   "id": "1eedb1fc",
   "metadata": {},
   "source": [
    "majority of teams chose to field first after winnig the toss\n"
   ]
  },
  {
   "cell_type": "markdown",
   "id": "295fdd44",
   "metadata": {},
   "source": [
    "#### Variations in toss decisions across the seasons"
   ]
  },
  {
   "cell_type": "code",
   "execution_count": 51,
   "id": "6f961403",
   "metadata": {},
   "outputs": [],
   "source": [
    "df_vals = df_match[['season' , 'toss_decision']].values\n",
    "\n",
    "dic = {}\n",
    "for s in df_match['season'].unique():\n",
    "    lst = []\n",
    "    for values in df_vals:\n",
    "        if values[0] == s:\n",
    "            lst.append(values[1])\n",
    "    dic[s] = lst\n",
    "\n"
   ]
  },
  {
   "cell_type": "code",
   "execution_count": 52,
   "id": "c0941cb2",
   "metadata": {},
   "outputs": [
    {
     "name": "stdout",
     "output_type": "stream",
     "text": [
      "Mode of Choices made in each season\n",
      "------------------------------\n",
      "2008 : field\n",
      "2009 : bat\n",
      "2010 : bat\n",
      "2011 : field\n",
      "2012 : field\n",
      "2013 : bat\n",
      "2014 : field\n",
      "2015 : field\n",
      "2016 : field\n",
      "2017 : field\n",
      "2018 : field\n",
      "2019 : field\n",
      "2020 : field\n",
      "------------------------------\n"
     ]
    }
   ],
   "source": [
    "print(\"Mode of Choices made in each season\")\n",
    "print(\"-\"*30)\n",
    "for s in df_match['season'].unique():\n",
    "    print(s ,':', st.mode(dic[s]))\n",
    "print(\"-\"*30)\n"
   ]
  },
  {
   "cell_type": "markdown",
   "id": "8b3b7556",
   "metadata": {},
   "source": [
    "We can see that in majority of seasons teams chose field first after winning the toss."
   ]
  },
  {
   "cell_type": "markdown",
   "id": "4d46d51c",
   "metadata": {},
   "source": [
    "#### Does winning the toss imply winning the game"
   ]
  },
  {
   "cell_type": "code",
   "execution_count": 53,
   "id": "6d98e9fc",
   "metadata": {
    "scrolled": true
   },
   "outputs": [
    {
     "data": {
      "text/plain": [
       "Index(['id', 'city', 'date', 'player_of_match', 'venue', 'neutral_venue',\n",
       "       'team1', 'team2', 'toss_winner', 'toss_decision', 'winner', 'result',\n",
       "       'result_margin', 'eliminator', 'method', 'umpire1', 'umpire2', 'season',\n",
       "       'first_inning_runs', 'second_inning_runs', 'total_runs'],\n",
       "      dtype='object')"
      ]
     },
     "execution_count": 53,
     "metadata": {},
     "output_type": "execute_result"
    }
   ],
   "source": [
    "df_match.columns"
   ]
  },
  {
   "cell_type": "code",
   "execution_count": 54,
   "id": "1de0d620",
   "metadata": {},
   "outputs": [
    {
     "data": {
      "text/html": [
       "<div>\n",
       "<style scoped>\n",
       "    .dataframe tbody tr th:only-of-type {\n",
       "        vertical-align: middle;\n",
       "    }\n",
       "\n",
       "    .dataframe tbody tr th {\n",
       "        vertical-align: top;\n",
       "    }\n",
       "\n",
       "    .dataframe thead th {\n",
       "        text-align: right;\n",
       "    }\n",
       "</style>\n",
       "<table border=\"1\" class=\"dataframe\">\n",
       "  <thead>\n",
       "    <tr style=\"text-align: right;\">\n",
       "      <th></th>\n",
       "      <th>team1</th>\n",
       "      <th>team2</th>\n",
       "      <th>toss_winner</th>\n",
       "      <th>toss_decision</th>\n",
       "      <th>winner</th>\n",
       "    </tr>\n",
       "  </thead>\n",
       "  <tbody>\n",
       "    <tr>\n",
       "      <th>0</th>\n",
       "      <td>Royal Challengers Bangalore</td>\n",
       "      <td>Kolkata Knight Riders</td>\n",
       "      <td>Royal Challengers Bangalore</td>\n",
       "      <td>field</td>\n",
       "      <td>Kolkata Knight Riders</td>\n",
       "    </tr>\n",
       "    <tr>\n",
       "      <th>1</th>\n",
       "      <td>Kings XI Punjab</td>\n",
       "      <td>Chennai Super Kings</td>\n",
       "      <td>Chennai Super Kings</td>\n",
       "      <td>bat</td>\n",
       "      <td>Chennai Super Kings</td>\n",
       "    </tr>\n",
       "    <tr>\n",
       "      <th>2</th>\n",
       "      <td>Delhi Daredevils</td>\n",
       "      <td>Rajasthan Royals</td>\n",
       "      <td>Rajasthan Royals</td>\n",
       "      <td>bat</td>\n",
       "      <td>Delhi Daredevils</td>\n",
       "    </tr>\n",
       "    <tr>\n",
       "      <th>3</th>\n",
       "      <td>Mumbai Indians</td>\n",
       "      <td>Royal Challengers Bangalore</td>\n",
       "      <td>Mumbai Indians</td>\n",
       "      <td>bat</td>\n",
       "      <td>Royal Challengers Bangalore</td>\n",
       "    </tr>\n",
       "    <tr>\n",
       "      <th>4</th>\n",
       "      <td>Kolkata Knight Riders</td>\n",
       "      <td>Deccan Chargers</td>\n",
       "      <td>Deccan Chargers</td>\n",
       "      <td>bat</td>\n",
       "      <td>Kolkata Knight Riders</td>\n",
       "    </tr>\n",
       "    <tr>\n",
       "      <th>...</th>\n",
       "      <td>...</td>\n",
       "      <td>...</td>\n",
       "      <td>...</td>\n",
       "      <td>...</td>\n",
       "      <td>...</td>\n",
       "    </tr>\n",
       "    <tr>\n",
       "      <th>811</th>\n",
       "      <td>Royal Challengers Bangalore</td>\n",
       "      <td>Mumbai Indians</td>\n",
       "      <td>Mumbai Indians</td>\n",
       "      <td>field</td>\n",
       "      <td>Royal Challengers Bangalore</td>\n",
       "    </tr>\n",
       "    <tr>\n",
       "      <th>812</th>\n",
       "      <td>Mumbai Indians</td>\n",
       "      <td>Delhi Capitals</td>\n",
       "      <td>Delhi Capitals</td>\n",
       "      <td>field</td>\n",
       "      <td>Mumbai Indians</td>\n",
       "    </tr>\n",
       "    <tr>\n",
       "      <th>813</th>\n",
       "      <td>Royal Challengers Bangalore</td>\n",
       "      <td>Sunrisers Hyderabad</td>\n",
       "      <td>Sunrisers Hyderabad</td>\n",
       "      <td>field</td>\n",
       "      <td>Sunrisers Hyderabad</td>\n",
       "    </tr>\n",
       "    <tr>\n",
       "      <th>814</th>\n",
       "      <td>Delhi Capitals</td>\n",
       "      <td>Sunrisers Hyderabad</td>\n",
       "      <td>Delhi Capitals</td>\n",
       "      <td>bat</td>\n",
       "      <td>Delhi Capitals</td>\n",
       "    </tr>\n",
       "    <tr>\n",
       "      <th>815</th>\n",
       "      <td>Delhi Capitals</td>\n",
       "      <td>Mumbai Indians</td>\n",
       "      <td>Delhi Capitals</td>\n",
       "      <td>bat</td>\n",
       "      <td>Mumbai Indians</td>\n",
       "    </tr>\n",
       "  </tbody>\n",
       "</table>\n",
       "<p>812 rows × 5 columns</p>\n",
       "</div>"
      ],
      "text/plain": [
       "                           team1                        team2  \\\n",
       "0    Royal Challengers Bangalore        Kolkata Knight Riders   \n",
       "1                Kings XI Punjab          Chennai Super Kings   \n",
       "2               Delhi Daredevils             Rajasthan Royals   \n",
       "3                 Mumbai Indians  Royal Challengers Bangalore   \n",
       "4          Kolkata Knight Riders              Deccan Chargers   \n",
       "..                           ...                          ...   \n",
       "811  Royal Challengers Bangalore               Mumbai Indians   \n",
       "812               Mumbai Indians               Delhi Capitals   \n",
       "813  Royal Challengers Bangalore          Sunrisers Hyderabad   \n",
       "814               Delhi Capitals          Sunrisers Hyderabad   \n",
       "815               Delhi Capitals               Mumbai Indians   \n",
       "\n",
       "                     toss_winner toss_decision                       winner  \n",
       "0    Royal Challengers Bangalore         field        Kolkata Knight Riders  \n",
       "1            Chennai Super Kings           bat          Chennai Super Kings  \n",
       "2               Rajasthan Royals           bat             Delhi Daredevils  \n",
       "3                 Mumbai Indians           bat  Royal Challengers Bangalore  \n",
       "4                Deccan Chargers           bat        Kolkata Knight Riders  \n",
       "..                           ...           ...                          ...  \n",
       "811               Mumbai Indians         field  Royal Challengers Bangalore  \n",
       "812               Delhi Capitals         field               Mumbai Indians  \n",
       "813          Sunrisers Hyderabad         field          Sunrisers Hyderabad  \n",
       "814               Delhi Capitals           bat               Delhi Capitals  \n",
       "815               Delhi Capitals           bat               Mumbai Indians  \n",
       "\n",
       "[812 rows x 5 columns]"
      ]
     },
     "execution_count": 54,
     "metadata": {},
     "output_type": "execute_result"
    }
   ],
   "source": [
    "df_match[['team1', 'team2','toss_winner','toss_decision', 'winner']]"
   ]
  },
  {
   "cell_type": "code",
   "execution_count": 55,
   "id": "82da33ae",
   "metadata": {},
   "outputs": [
    {
     "name": "stdout",
     "output_type": "stream",
     "text": [
      "total matches played : 812\n",
      "number of times toss winner and match winner is same : 418\n",
      "percentage : 51.47783251231527\n"
     ]
    }
   ],
   "source": [
    "toss_winners = list(df_match['toss_winner'])\n",
    "match_winner = list(df_match['winner'])\n",
    "\n",
    "c = 0\n",
    "for team in range(len(toss_winners)):\n",
    "    \n",
    "    if toss_winners[team] == match_winner[team]:\n",
    "        c+=1\n",
    "\n",
    "total_matches = len(match_winner)\n",
    "\n",
    "ratio = (c/total_matches)*100\n",
    "\n",
    "print(\"total matches played :\",total_matches )\n",
    "print(\"number of times toss winner and match winner is same :\",c)\n",
    "print(\"percentage :\",ratio)"
   ]
  },
  {
   "cell_type": "markdown",
   "id": "22a5767c",
   "metadata": {},
   "source": [
    "In IPL 812 matched are played in total in which 418 times match winnig team won the toss , that is 51% of matches of total matches played. So we can say that winning the toss favours the team, but T20 cricket is very dynamic game that's why these numbers are not very high."
   ]
  },
  {
   "cell_type": "markdown",
   "id": "cfcfd4a5",
   "metadata": {},
   "source": [
    "#### how many times chasing team wins the match ?"
   ]
  },
  {
   "cell_type": "markdown",
   "id": "06ec51e0",
   "metadata": {},
   "source": [
    "When a chasing team wins the game the result is decided by the wickets. We will use attribute to answer this questions"
   ]
  },
  {
   "cell_type": "code",
   "execution_count": 56,
   "id": "10ac2efa",
   "metadata": {
    "scrolled": false
   },
   "outputs": [
    {
     "name": "stdout",
     "output_type": "stream",
     "text": [
      "number of times chasing teams won:  435\n",
      "ratio chasing teams won to total matches:  53.57142857142857\n"
     ]
    }
   ],
   "source": [
    "chasers = df_match[df_match['result'] == 'wickets'].shape[0]\n",
    "\n",
    "print(\"number of times chasing teams won: \" , chasers)\n",
    "\n",
    "ratio = (chasers/total_matches)*100\n",
    "\n",
    "print(\"ratio chasing teams won to total matches: \", ratio)"
   ]
  },
  {
   "cell_type": "markdown",
   "id": "d5beb1d2",
   "metadata": {},
   "source": [
    "We can see 53 times of 100 chasing team wins the match."
   ]
  },
  {
   "cell_type": "markdown",
   "id": "5e576551",
   "metadata": {},
   "source": [
    "#### Which all teams have won this tournament before\n"
   ]
  },
  {
   "cell_type": "code",
   "execution_count": 57,
   "id": "99e2a77d",
   "metadata": {},
   "outputs": [
    {
     "data": {
      "text/plain": [
       "array(['Rajasthan Royals', 'Kings XI Punjab', 'Sunrisers Hyderabad',\n",
       "       'Royal Challengers Bangalore', 'Mumbai Indians', 'Delhi Capitals',\n",
       "       'Kolkata Knight Riders'], dtype=object)"
      ]
     },
     "execution_count": 57,
     "metadata": {},
     "output_type": "execute_result"
    }
   ],
   "source": [
    "df_match[df_match['eliminator'] == 'Y']['winner'].unique()"
   ]
  },
  {
   "cell_type": "code",
   "execution_count": 58,
   "id": "ba80d593",
   "metadata": {},
   "outputs": [
    {
     "name": "stdout",
     "output_type": "stream",
     "text": [
      "IPL Champions form 2008 - 2020\n",
      "------------------------------\n",
      "2008  -  Rajasthan Royals\n",
      "2009  -  Deccan Chargers\n",
      "2010  -  Chennai Super Kings\n",
      "2011  -  Chennai Super Kings\n",
      "2012  -  Kolkata Knight Riders\n",
      "2013  -  Mumbai Indians\n",
      "2014  -  Kolkata Knight Riders\n",
      "2015  -  Mumbai Indians\n",
      "2016  -  Sunrisers Hyderabad\n",
      "2017  -  Mumbai Indians\n",
      "2018  -  Chennai Super Kings\n",
      "2019  -  Mumbai Indians\n",
      "2020  -  Mumbai Indians\n",
      "------------------------------\n"
     ]
    }
   ],
   "source": [
    "seasons = df_match['season'].unique()\n",
    "\n",
    "print(\"IPL Champions form 2008 - 2020\")\n",
    "print(\"-\"*30)\n",
    "\n",
    "for s in seasons:\n",
    "    champions = df_match[df_match['season'] == s].values[-1][10]\n",
    "    print(s,' - ',champions)\n",
    "    \n",
    "print(\"-\"*30)"
   ]
  },
  {
   "cell_type": "markdown",
   "id": "b4545a7f",
   "metadata": {},
   "source": [
    "Mumbai Indians is most successful team winnig most number of titles in 2013,2015,2017,2019,2020 seasons respectively."
   ]
  },
  {
   "cell_type": "markdown",
   "id": "ec0ddde2",
   "metadata": {},
   "source": [
    "#### Which team has won most number of times? "
   ]
  },
  {
   "cell_type": "code",
   "execution_count": 59,
   "id": "932399d7",
   "metadata": {
    "scrolled": true
   },
   "outputs": [
    {
     "name": "stdout",
     "output_type": "stream",
     "text": [
      "Top 5 teams with most number of wins\n",
      "----------------------------------------\n"
     ]
    },
    {
     "data": {
      "text/plain": [
       "winner\n",
       "Mumbai Indians                 120\n",
       "Chennai Super Kings            106\n",
       "Kolkata Knight Riders           99\n",
       "Royal Challengers Bangalore     91\n",
       "Kings XI Punjab                 88\n",
       "Name: team1, dtype: int64"
      ]
     },
     "execution_count": 59,
     "metadata": {},
     "output_type": "execute_result"
    }
   ],
   "source": [
    "team_ser = df_match.groupby('winner').count()\n",
    "team_ser = team_ser['team1'].sort_values(ascending=False)\n",
    "print(\"Top 5 teams with most number of wins\")\n",
    "print(\"-\"*40)\n",
    "team_ser.head()"
   ]
  },
  {
   "cell_type": "code",
   "execution_count": null,
   "id": "662a3243",
   "metadata": {},
   "outputs": [],
   "source": []
  },
  {
   "cell_type": "code",
   "execution_count": 60,
   "id": "1f976654",
   "metadata": {
    "scrolled": false
   },
   "outputs": [
    {
     "data": {
      "text/html": [
       "<div>\n",
       "<style scoped>\n",
       "    .dataframe tbody tr th:only-of-type {\n",
       "        vertical-align: middle;\n",
       "    }\n",
       "\n",
       "    .dataframe tbody tr th {\n",
       "        vertical-align: top;\n",
       "    }\n",
       "\n",
       "    .dataframe thead th {\n",
       "        text-align: right;\n",
       "    }\n",
       "</style>\n",
       "<table border=\"1\" class=\"dataframe\">\n",
       "  <thead>\n",
       "    <tr style=\"text-align: right;\">\n",
       "      <th></th>\n",
       "      <th>winner</th>\n",
       "      <th>team1</th>\n",
       "    </tr>\n",
       "  </thead>\n",
       "  <tbody>\n",
       "    <tr>\n",
       "      <th>0</th>\n",
       "      <td>Mumbai Indians</td>\n",
       "      <td>120</td>\n",
       "    </tr>\n",
       "    <tr>\n",
       "      <th>1</th>\n",
       "      <td>Chennai Super Kings</td>\n",
       "      <td>106</td>\n",
       "    </tr>\n",
       "    <tr>\n",
       "      <th>2</th>\n",
       "      <td>Kolkata Knight Riders</td>\n",
       "      <td>99</td>\n",
       "    </tr>\n",
       "    <tr>\n",
       "      <th>3</th>\n",
       "      <td>Royal Challengers Bangalore</td>\n",
       "      <td>91</td>\n",
       "    </tr>\n",
       "    <tr>\n",
       "      <th>4</th>\n",
       "      <td>Kings XI Punjab</td>\n",
       "      <td>88</td>\n",
       "    </tr>\n",
       "    <tr>\n",
       "      <th>5</th>\n",
       "      <td>Rajasthan Royals</td>\n",
       "      <td>81</td>\n",
       "    </tr>\n",
       "    <tr>\n",
       "      <th>6</th>\n",
       "      <td>Delhi Daredevils</td>\n",
       "      <td>67</td>\n",
       "    </tr>\n",
       "    <tr>\n",
       "      <th>7</th>\n",
       "      <td>Sunrisers Hyderabad</td>\n",
       "      <td>66</td>\n",
       "    </tr>\n",
       "    <tr>\n",
       "      <th>8</th>\n",
       "      <td>Deccan Chargers</td>\n",
       "      <td>29</td>\n",
       "    </tr>\n",
       "    <tr>\n",
       "      <th>9</th>\n",
       "      <td>Delhi Capitals</td>\n",
       "      <td>19</td>\n",
       "    </tr>\n",
       "    <tr>\n",
       "      <th>10</th>\n",
       "      <td>Rising Pune Supergiants</td>\n",
       "      <td>15</td>\n",
       "    </tr>\n",
       "    <tr>\n",
       "      <th>11</th>\n",
       "      <td>Gujarat Lions</td>\n",
       "      <td>13</td>\n",
       "    </tr>\n",
       "    <tr>\n",
       "      <th>12</th>\n",
       "      <td>Pune Warriors</td>\n",
       "      <td>12</td>\n",
       "    </tr>\n",
       "    <tr>\n",
       "      <th>13</th>\n",
       "      <td>Kochi Tuskers Kerala</td>\n",
       "      <td>6</td>\n",
       "    </tr>\n",
       "  </tbody>\n",
       "</table>\n",
       "</div>"
      ],
      "text/plain": [
       "                         winner  team1\n",
       "0                Mumbai Indians    120\n",
       "1           Chennai Super Kings    106\n",
       "2         Kolkata Knight Riders     99\n",
       "3   Royal Challengers Bangalore     91\n",
       "4               Kings XI Punjab     88\n",
       "5              Rajasthan Royals     81\n",
       "6              Delhi Daredevils     67\n",
       "7           Sunrisers Hyderabad     66\n",
       "8               Deccan Chargers     29\n",
       "9                Delhi Capitals     19\n",
       "10      Rising Pune Supergiants     15\n",
       "11                Gujarat Lions     13\n",
       "12                Pune Warriors     12\n",
       "13         Kochi Tuskers Kerala      6"
      ]
     },
     "execution_count": 60,
     "metadata": {},
     "output_type": "execute_result"
    }
   ],
   "source": [
    "# creating new data frame for future use\n",
    "df_teams = pd.DataFrame(data=team_ser , index=team_ser.index)\n",
    "df_teams.reset_index(inplace=True)\n",
    "df_teams"
   ]
  },
  {
   "cell_type": "code",
   "execution_count": 61,
   "id": "d061252b",
   "metadata": {},
   "outputs": [
    {
     "data": {
      "image/png": "[encoded data removed]",
      "text/plain": [
       "<Figure size 640x480 with 1 Axes>"
      ]
     },
     "metadata": {},
     "output_type": "display_data"
    }
   ],
   "source": [
    "temp_df = df_teams.sort_values(by = 'team1')\n",
    "\n",
    "plt.title(\"Top 5 teams with most number of wins\")\n",
    "\n",
    "plt.ylabel(\"Team names\")\n",
    "plt.xlabel(\"Number of macthes won\")\n",
    "\n",
    "\n",
    "plt.barh(temp_df['winner'],temp_df['team1'] ,height=0.6)\n",
    "plt.show()"
   ]
  },
  {
   "cell_type": "code",
   "execution_count": null,
   "id": "f30752a8",
   "metadata": {},
   "outputs": [],
   "source": []
  },
  {
   "cell_type": "code",
   "execution_count": null,
   "id": "0dff13d1",
   "metadata": {},
   "outputs": [],
   "source": []
  },
  {
   "cell_type": "markdown",
   "id": "7e25e22d",
   "metadata": {},
   "source": [
    "#### Which team has most number of matches? \n"
   ]
  },
  {
   "cell_type": "code",
   "execution_count": 62,
   "id": "79ec6127",
   "metadata": {},
   "outputs": [
    {
     "name": "stdout",
     "output_type": "stream",
     "text": [
      "Top 5 teams having most number of matches\n"
     ]
    },
    {
     "data": {
      "text/html": [
       "<style type=\"text/css\">\n",
       "</style>\n",
       "<table id=\"T_e4789\">\n",
       "  <thead>\n",
       "    <tr>\n",
       "      <th id=\"T_e4789_level0_col0\" class=\"col_heading level0 col0\" >team1</th>\n",
       "      <th id=\"T_e4789_level0_col1\" class=\"col_heading level0 col1\" >count</th>\n",
       "    </tr>\n",
       "  </thead>\n",
       "  <tbody>\n",
       "    <tr>\n",
       "      <td id=\"T_e4789_row0_col0\" class=\"data row0 col0\" >Mumbai Indians</td>\n",
       "      <td id=\"T_e4789_row0_col1\" class=\"data row0 col1\" >203</td>\n",
       "    </tr>\n",
       "    <tr>\n",
       "      <td id=\"T_e4789_row1_col0\" class=\"data row1 col0\" >Kolkata Knight Riders</td>\n",
       "      <td id=\"T_e4789_row1_col1\" class=\"data row1 col1\" >192</td>\n",
       "    </tr>\n",
       "    <tr>\n",
       "      <td id=\"T_e4789_row2_col0\" class=\"data row2 col0\" >Royal Challengers Bangalore</td>\n",
       "      <td id=\"T_e4789_row2_col1\" class=\"data row2 col1\" >192</td>\n",
       "    </tr>\n",
       "    <tr>\n",
       "      <td id=\"T_e4789_row3_col0\" class=\"data row3 col0\" >Kings XI Punjab</td>\n",
       "      <td id=\"T_e4789_row3_col1\" class=\"data row3 col1\" >190</td>\n",
       "    </tr>\n",
       "    <tr>\n",
       "      <td id=\"T_e4789_row4_col0\" class=\"data row4 col0\" >Chennai Super Kings</td>\n",
       "      <td id=\"T_e4789_row4_col1\" class=\"data row4 col1\" >178</td>\n",
       "    </tr>\n",
       "  </tbody>\n",
       "</table>\n"
      ],
      "text/plain": [
       "<pandas.io.formats.style.Styler at 0x299f7794fd0>"
      ]
     },
     "execution_count": 62,
     "metadata": {},
     "output_type": "execute_result"
    }
   ],
   "source": [
    "ser = df_match['team1'].value_counts().sort_index() + df_match['team2'].value_counts().sort_index()\n",
    "\n",
    "df = pd.DataFrame(data = ser, index = ser.index).reset_index()\n",
    "\n",
    "print(\"Top 5 teams having most number of matches\")\n",
    "\n",
    "temp_df = df.sort_values(by = 'count' , ascending=False)\n",
    "temp_df.head().style.hide()"
   ]
  },
  {
   "cell_type": "code",
   "execution_count": 63,
   "id": "f4485231",
   "metadata": {},
   "outputs": [
    {
     "data": {
      "image/png": "[encoded data removed]",
      "text/plain": [
       "<Figure size 640x480 with 1 Axes>"
      ]
     },
     "metadata": {},
     "output_type": "display_data"
    }
   ],
   "source": [
    "\n",
    "plt.title(\"Top 5 teams with most number of matches\")\n",
    "\n",
    "plt.ylabel(\"Team names\")\n",
    "plt.xlabel(\"Number of macthes played\")\n",
    "\n",
    "\n",
    "plt.barh(temp_df['team1'] , temp_df['count'])\n",
    "plt.show()"
   ]
  },
  {
   "cell_type": "markdown",
   "id": "055a26fb",
   "metadata": {},
   "source": [
    "#### Highest match winning percentage "
   ]
  },
  {
   "cell_type": "code",
   "execution_count": 64,
   "id": "50873056",
   "metadata": {},
   "outputs": [],
   "source": [
    "# sorting values of df_teams to order it same way as df\n",
    "df_teams.sort_values(by = 'winner' , inplace=True) # no of wins\n",
    "temp_df = temp_df.sort_values(by='team1')      # no of matches"
   ]
  },
  {
   "cell_type": "code",
   "execution_count": 65,
   "id": "60337d0a",
   "metadata": {},
   "outputs": [
    {
     "data": {
      "text/html": [
       "<div>\n",
       "<style scoped>\n",
       "    .dataframe tbody tr th:only-of-type {\n",
       "        vertical-align: middle;\n",
       "    }\n",
       "\n",
       "    .dataframe tbody tr th {\n",
       "        vertical-align: top;\n",
       "    }\n",
       "\n",
       "    .dataframe thead th {\n",
       "        text-align: right;\n",
       "    }\n",
       "</style>\n",
       "<table border=\"1\" class=\"dataframe\">\n",
       "  <thead>\n",
       "    <tr style=\"text-align: right;\">\n",
       "      <th></th>\n",
       "      <th>team1</th>\n",
       "      <th>count</th>\n",
       "    </tr>\n",
       "  </thead>\n",
       "  <tbody>\n",
       "    <tr>\n",
       "      <th>0</th>\n",
       "      <td>Chennai Super Kings</td>\n",
       "      <td>178</td>\n",
       "    </tr>\n",
       "    <tr>\n",
       "      <th>1</th>\n",
       "      <td>Deccan Chargers</td>\n",
       "      <td>75</td>\n",
       "    </tr>\n",
       "    <tr>\n",
       "      <th>2</th>\n",
       "      <td>Delhi Capitals</td>\n",
       "      <td>33</td>\n",
       "    </tr>\n",
       "    <tr>\n",
       "      <th>3</th>\n",
       "      <td>Delhi Daredevils</td>\n",
       "      <td>159</td>\n",
       "    </tr>\n",
       "    <tr>\n",
       "      <th>4</th>\n",
       "      <td>Gujarat Lions</td>\n",
       "      <td>30</td>\n",
       "    </tr>\n",
       "    <tr>\n",
       "      <th>5</th>\n",
       "      <td>Kings XI Punjab</td>\n",
       "      <td>190</td>\n",
       "    </tr>\n",
       "    <tr>\n",
       "      <th>6</th>\n",
       "      <td>Kochi Tuskers Kerala</td>\n",
       "      <td>14</td>\n",
       "    </tr>\n",
       "    <tr>\n",
       "      <th>7</th>\n",
       "      <td>Kolkata Knight Riders</td>\n",
       "      <td>192</td>\n",
       "    </tr>\n",
       "    <tr>\n",
       "      <th>8</th>\n",
       "      <td>Mumbai Indians</td>\n",
       "      <td>203</td>\n",
       "    </tr>\n",
       "    <tr>\n",
       "      <th>9</th>\n",
       "      <td>Pune Warriors</td>\n",
       "      <td>45</td>\n",
       "    </tr>\n",
       "    <tr>\n",
       "      <th>10</th>\n",
       "      <td>Rajasthan Royals</td>\n",
       "      <td>159</td>\n",
       "    </tr>\n",
       "    <tr>\n",
       "      <th>11</th>\n",
       "      <td>Rising Pune Supergiants</td>\n",
       "      <td>30</td>\n",
       "    </tr>\n",
       "    <tr>\n",
       "      <th>12</th>\n",
       "      <td>Royal Challengers Bangalore</td>\n",
       "      <td>192</td>\n",
       "    </tr>\n",
       "    <tr>\n",
       "      <th>13</th>\n",
       "      <td>Sunrisers Hyderabad</td>\n",
       "      <td>124</td>\n",
       "    </tr>\n",
       "  </tbody>\n",
       "</table>\n",
       "</div>"
      ],
      "text/plain": [
       "                          team1  count\n",
       "0           Chennai Super Kings    178\n",
       "1               Deccan Chargers     75\n",
       "2                Delhi Capitals     33\n",
       "3              Delhi Daredevils    159\n",
       "4                 Gujarat Lions     30\n",
       "5               Kings XI Punjab    190\n",
       "6          Kochi Tuskers Kerala     14\n",
       "7         Kolkata Knight Riders    192\n",
       "8                Mumbai Indians    203\n",
       "9                 Pune Warriors     45\n",
       "10             Rajasthan Royals    159\n",
       "11      Rising Pune Supergiants     30\n",
       "12  Royal Challengers Bangalore    192\n",
       "13          Sunrisers Hyderabad    124"
      ]
     },
     "execution_count": 65,
     "metadata": {},
     "output_type": "execute_result"
    }
   ],
   "source": [
    "# temp_df['wins'] = df_teams['team1']\n",
    "temp_df"
   ]
  },
  {
   "cell_type": "code",
   "execution_count": 66,
   "id": "3b7bcccf",
   "metadata": {},
   "outputs": [
    {
     "data": {
      "text/html": [
       "<div>\n",
       "<style scoped>\n",
       "    .dataframe tbody tr th:only-of-type {\n",
       "        vertical-align: middle;\n",
       "    }\n",
       "\n",
       "    .dataframe tbody tr th {\n",
       "        vertical-align: top;\n",
       "    }\n",
       "\n",
       "    .dataframe thead th {\n",
       "        text-align: right;\n",
       "    }\n",
       "</style>\n",
       "<table border=\"1\" class=\"dataframe\">\n",
       "  <thead>\n",
       "    <tr style=\"text-align: right;\">\n",
       "      <th></th>\n",
       "      <th>winner</th>\n",
       "      <th>team1</th>\n",
       "    </tr>\n",
       "  </thead>\n",
       "  <tbody>\n",
       "    <tr>\n",
       "      <th>1</th>\n",
       "      <td>Chennai Super Kings</td>\n",
       "      <td>106</td>\n",
       "    </tr>\n",
       "    <tr>\n",
       "      <th>8</th>\n",
       "      <td>Deccan Chargers</td>\n",
       "      <td>29</td>\n",
       "    </tr>\n",
       "    <tr>\n",
       "      <th>9</th>\n",
       "      <td>Delhi Capitals</td>\n",
       "      <td>19</td>\n",
       "    </tr>\n",
       "    <tr>\n",
       "      <th>6</th>\n",
       "      <td>Delhi Daredevils</td>\n",
       "      <td>67</td>\n",
       "    </tr>\n",
       "    <tr>\n",
       "      <th>11</th>\n",
       "      <td>Gujarat Lions</td>\n",
       "      <td>13</td>\n",
       "    </tr>\n",
       "    <tr>\n",
       "      <th>4</th>\n",
       "      <td>Kings XI Punjab</td>\n",
       "      <td>88</td>\n",
       "    </tr>\n",
       "    <tr>\n",
       "      <th>13</th>\n",
       "      <td>Kochi Tuskers Kerala</td>\n",
       "      <td>6</td>\n",
       "    </tr>\n",
       "    <tr>\n",
       "      <th>2</th>\n",
       "      <td>Kolkata Knight Riders</td>\n",
       "      <td>99</td>\n",
       "    </tr>\n",
       "    <tr>\n",
       "      <th>0</th>\n",
       "      <td>Mumbai Indians</td>\n",
       "      <td>120</td>\n",
       "    </tr>\n",
       "    <tr>\n",
       "      <th>12</th>\n",
       "      <td>Pune Warriors</td>\n",
       "      <td>12</td>\n",
       "    </tr>\n",
       "    <tr>\n",
       "      <th>5</th>\n",
       "      <td>Rajasthan Royals</td>\n",
       "      <td>81</td>\n",
       "    </tr>\n",
       "    <tr>\n",
       "      <th>10</th>\n",
       "      <td>Rising Pune Supergiants</td>\n",
       "      <td>15</td>\n",
       "    </tr>\n",
       "    <tr>\n",
       "      <th>3</th>\n",
       "      <td>Royal Challengers Bangalore</td>\n",
       "      <td>91</td>\n",
       "    </tr>\n",
       "    <tr>\n",
       "      <th>7</th>\n",
       "      <td>Sunrisers Hyderabad</td>\n",
       "      <td>66</td>\n",
       "    </tr>\n",
       "  </tbody>\n",
       "</table>\n",
       "</div>"
      ],
      "text/plain": [
       "                         winner  team1\n",
       "1           Chennai Super Kings    106\n",
       "8               Deccan Chargers     29\n",
       "9                Delhi Capitals     19\n",
       "6              Delhi Daredevils     67\n",
       "11                Gujarat Lions     13\n",
       "4               Kings XI Punjab     88\n",
       "13         Kochi Tuskers Kerala      6\n",
       "2         Kolkata Knight Riders     99\n",
       "0                Mumbai Indians    120\n",
       "12                Pune Warriors     12\n",
       "5              Rajasthan Royals     81\n",
       "10      Rising Pune Supergiants     15\n",
       "3   Royal Challengers Bangalore     91\n",
       "7           Sunrisers Hyderabad     66"
      ]
     },
     "execution_count": 66,
     "metadata": {},
     "output_type": "execute_result"
    }
   ],
   "source": [
    "df_teams"
   ]
  },
  {
   "cell_type": "code",
   "execution_count": 67,
   "id": "abdf008c",
   "metadata": {},
   "outputs": [],
   "source": [
    "temp_df['wins'] = list(df_teams['team1'].values)"
   ]
  },
  {
   "cell_type": "code",
   "execution_count": 68,
   "id": "48bb41e5",
   "metadata": {},
   "outputs": [
    {
     "data": {
      "text/html": [
       "<div>\n",
       "<style scoped>\n",
       "    .dataframe tbody tr th:only-of-type {\n",
       "        vertical-align: middle;\n",
       "    }\n",
       "\n",
       "    .dataframe tbody tr th {\n",
       "        vertical-align: top;\n",
       "    }\n",
       "\n",
       "    .dataframe thead th {\n",
       "        text-align: right;\n",
       "    }\n",
       "</style>\n",
       "<table border=\"1\" class=\"dataframe\">\n",
       "  <thead>\n",
       "    <tr style=\"text-align: right;\">\n",
       "      <th></th>\n",
       "      <th>teams</th>\n",
       "      <th>matches</th>\n",
       "      <th>wins</th>\n",
       "    </tr>\n",
       "  </thead>\n",
       "  <tbody>\n",
       "    <tr>\n",
       "      <th>0</th>\n",
       "      <td>Chennai Super Kings</td>\n",
       "      <td>178</td>\n",
       "      <td>106</td>\n",
       "    </tr>\n",
       "    <tr>\n",
       "      <th>1</th>\n",
       "      <td>Deccan Chargers</td>\n",
       "      <td>75</td>\n",
       "      <td>29</td>\n",
       "    </tr>\n",
       "    <tr>\n",
       "      <th>2</th>\n",
       "      <td>Delhi Capitals</td>\n",
       "      <td>33</td>\n",
       "      <td>19</td>\n",
       "    </tr>\n",
       "    <tr>\n",
       "      <th>3</th>\n",
       "      <td>Delhi Daredevils</td>\n",
       "      <td>159</td>\n",
       "      <td>67</td>\n",
       "    </tr>\n",
       "    <tr>\n",
       "      <th>4</th>\n",
       "      <td>Gujarat Lions</td>\n",
       "      <td>30</td>\n",
       "      <td>13</td>\n",
       "    </tr>\n",
       "    <tr>\n",
       "      <th>5</th>\n",
       "      <td>Kings XI Punjab</td>\n",
       "      <td>190</td>\n",
       "      <td>88</td>\n",
       "    </tr>\n",
       "    <tr>\n",
       "      <th>6</th>\n",
       "      <td>Kochi Tuskers Kerala</td>\n",
       "      <td>14</td>\n",
       "      <td>6</td>\n",
       "    </tr>\n",
       "    <tr>\n",
       "      <th>7</th>\n",
       "      <td>Kolkata Knight Riders</td>\n",
       "      <td>192</td>\n",
       "      <td>99</td>\n",
       "    </tr>\n",
       "    <tr>\n",
       "      <th>8</th>\n",
       "      <td>Mumbai Indians</td>\n",
       "      <td>203</td>\n",
       "      <td>120</td>\n",
       "    </tr>\n",
       "    <tr>\n",
       "      <th>9</th>\n",
       "      <td>Pune Warriors</td>\n",
       "      <td>45</td>\n",
       "      <td>12</td>\n",
       "    </tr>\n",
       "    <tr>\n",
       "      <th>10</th>\n",
       "      <td>Rajasthan Royals</td>\n",
       "      <td>159</td>\n",
       "      <td>81</td>\n",
       "    </tr>\n",
       "    <tr>\n",
       "      <th>11</th>\n",
       "      <td>Rising Pune Supergiants</td>\n",
       "      <td>30</td>\n",
       "      <td>15</td>\n",
       "    </tr>\n",
       "    <tr>\n",
       "      <th>12</th>\n",
       "      <td>Royal Challengers Bangalore</td>\n",
       "      <td>192</td>\n",
       "      <td>91</td>\n",
       "    </tr>\n",
       "    <tr>\n",
       "      <th>13</th>\n",
       "      <td>Sunrisers Hyderabad</td>\n",
       "      <td>124</td>\n",
       "      <td>66</td>\n",
       "    </tr>\n",
       "  </tbody>\n",
       "</table>\n",
       "</div>"
      ],
      "text/plain": [
       "                          teams  matches  wins\n",
       "0           Chennai Super Kings      178   106\n",
       "1               Deccan Chargers       75    29\n",
       "2                Delhi Capitals       33    19\n",
       "3              Delhi Daredevils      159    67\n",
       "4                 Gujarat Lions       30    13\n",
       "5               Kings XI Punjab      190    88\n",
       "6          Kochi Tuskers Kerala       14     6\n",
       "7         Kolkata Knight Riders      192    99\n",
       "8                Mumbai Indians      203   120\n",
       "9                 Pune Warriors       45    12\n",
       "10             Rajasthan Royals      159    81\n",
       "11      Rising Pune Supergiants       30    15\n",
       "12  Royal Challengers Bangalore      192    91\n",
       "13          Sunrisers Hyderabad      124    66"
      ]
     },
     "execution_count": 68,
     "metadata": {},
     "output_type": "execute_result"
    }
   ],
   "source": [
    "df_teams = temp_df\n",
    "df_teams.rename(columns = {'team1':'teams' , 'count':'matches'} , inplace= True)\n",
    "df_teams"
   ]
  },
  {
   "cell_type": "code",
   "execution_count": 69,
   "id": "c69cc9e7",
   "metadata": {},
   "outputs": [
    {
     "name": "stdout",
     "output_type": "stream",
     "text": [
      "top 5 teams with highest winnig percentage\n"
     ]
    },
    {
     "data": {
      "text/html": [
       "<style type=\"text/css\">\n",
       "</style>\n",
       "<table id=\"T_24f9b\">\n",
       "  <thead>\n",
       "    <tr>\n",
       "      <th id=\"T_24f9b_level0_col0\" class=\"col_heading level0 col0\" >teams</th>\n",
       "      <th id=\"T_24f9b_level0_col1\" class=\"col_heading level0 col1\" >matches</th>\n",
       "      <th id=\"T_24f9b_level0_col2\" class=\"col_heading level0 col2\" >wins</th>\n",
       "      <th id=\"T_24f9b_level0_col3\" class=\"col_heading level0 col3\" >win_perc</th>\n",
       "    </tr>\n",
       "  </thead>\n",
       "  <tbody>\n",
       "    <tr>\n",
       "      <td id=\"T_24f9b_row0_col0\" class=\"data row0 col0\" >Chennai Super Kings</td>\n",
       "      <td id=\"T_24f9b_row0_col1\" class=\"data row0 col1\" >178</td>\n",
       "      <td id=\"T_24f9b_row0_col2\" class=\"data row0 col2\" >106</td>\n",
       "      <td id=\"T_24f9b_row0_col3\" class=\"data row0 col3\" >59.550562</td>\n",
       "    </tr>\n",
       "    <tr>\n",
       "      <td id=\"T_24f9b_row1_col0\" class=\"data row1 col0\" >Mumbai Indians</td>\n",
       "      <td id=\"T_24f9b_row1_col1\" class=\"data row1 col1\" >203</td>\n",
       "      <td id=\"T_24f9b_row1_col2\" class=\"data row1 col2\" >120</td>\n",
       "      <td id=\"T_24f9b_row1_col3\" class=\"data row1 col3\" >59.113300</td>\n",
       "    </tr>\n",
       "    <tr>\n",
       "      <td id=\"T_24f9b_row2_col0\" class=\"data row2 col0\" >Delhi Capitals</td>\n",
       "      <td id=\"T_24f9b_row2_col1\" class=\"data row2 col1\" >33</td>\n",
       "      <td id=\"T_24f9b_row2_col2\" class=\"data row2 col2\" >19</td>\n",
       "      <td id=\"T_24f9b_row2_col3\" class=\"data row2 col3\" >57.575758</td>\n",
       "    </tr>\n",
       "    <tr>\n",
       "      <td id=\"T_24f9b_row3_col0\" class=\"data row3 col0\" >Sunrisers Hyderabad</td>\n",
       "      <td id=\"T_24f9b_row3_col1\" class=\"data row3 col1\" >124</td>\n",
       "      <td id=\"T_24f9b_row3_col2\" class=\"data row3 col2\" >66</td>\n",
       "      <td id=\"T_24f9b_row3_col3\" class=\"data row3 col3\" >53.225806</td>\n",
       "    </tr>\n",
       "    <tr>\n",
       "      <td id=\"T_24f9b_row4_col0\" class=\"data row4 col0\" >Kolkata Knight Riders</td>\n",
       "      <td id=\"T_24f9b_row4_col1\" class=\"data row4 col1\" >192</td>\n",
       "      <td id=\"T_24f9b_row4_col2\" class=\"data row4 col2\" >99</td>\n",
       "      <td id=\"T_24f9b_row4_col3\" class=\"data row4 col3\" >51.562500</td>\n",
       "    </tr>\n",
       "  </tbody>\n",
       "</table>\n"
      ],
      "text/plain": [
       "<pandas.io.formats.style.Styler at 0x299f7dd54d0>"
      ]
     },
     "execution_count": 69,
     "metadata": {},
     "output_type": "execute_result"
    }
   ],
   "source": [
    "# claculate match winning percentage \n",
    "\n",
    "df_teams['win_perc'] = (df_teams['wins']/df_teams['matches'] )*100\n",
    "\n",
    "print(\"top 5 teams with highest winnig percentage\")\n",
    "df_teams.sort_values(by = 'win_perc' , ascending=False).head().style.hide()"
   ]
  },
  {
   "cell_type": "markdown",
   "id": "f3b09a57",
   "metadata": {},
   "source": [
    "Chennai Super kings have slightly higher winnig percentage than Mumbai Indians both have won 59% of there matches"
   ]
  },
  {
   "cell_type": "markdown",
   "id": "21b21dc1",
   "metadata": {},
   "source": [
    "#### is there any lucky venue for any team"
   ]
  },
  {
   "cell_type": "code",
   "execution_count": 70,
   "id": "dd637e8a",
   "metadata": {
    "scrolled": false
   },
   "outputs": [
    {
     "data": {
      "text/plain": [
       "team1\n",
       "Delhi Daredevils    6\n",
       "Name: count, dtype: int64"
      ]
     },
     "execution_count": 70,
     "metadata": {},
     "output_type": "execute_result"
    }
   ],
   "source": [
    "venues = list(set(df_match['venue']))\n",
    "\n",
    "df_match[df_match['venue'] == venues[1]]['team1'].value_counts()\n",
    "# df_match[df_match['venue'] == '']\n",
    "\n"
   ]
  },
  {
   "cell_type": "markdown",
   "id": "08bf4667",
   "metadata": {},
   "source": [
    "#### Which team scored modt 200s"
   ]
  },
  {
   "cell_type": "code",
   "execution_count": 71,
   "id": "0115eff2",
   "metadata": {},
   "outputs": [],
   "source": [
    "lst = []\n",
    "for i in df_details['id'].unique():\n",
    "    teams = []\n",
    "    for team in df_details[df_details['id'] == i]['batting_team'].unique():\n",
    "        teams.append(team)\n",
    "        if len(teams) == 2:\n",
    "            second_inning = df_details[(df_details['id'] == i) & (df_details['batting_team'] == teams[1])]['total_runs'].sum()\n",
    "        else:\n",
    "            first_inning = df_details[(df_details['id'] == i) & (df_details['batting_team'] == teams[0])]['total_runs'].sum()\n",
    "        \n",
    "    lst.append([i,teams[0],first_inning , teams[1] , second_inning])"
   ]
  },
  {
   "cell_type": "code",
   "execution_count": 72,
   "id": "3bbfb72c",
   "metadata": {},
   "outputs": [],
   "source": [
    "df_runs_scored = pd.DataFrame(lst , columns=['id','team1','team1_runs','team2','team2_runs'])"
   ]
  },
  {
   "cell_type": "code",
   "execution_count": 73,
   "id": "ef8d34f6",
   "metadata": {},
   "outputs": [],
   "source": [
    "# teams 1 scored\n",
    "ser1 = df_runs_scored[(df_runs_scored['team1_runs' ]>=200)  ]['team1'].value_counts().sort_index()\n",
    "# team 2 scored\n",
    "ser2 = df_runs_scored[(df_runs_scored['team2_runs' ]>=200)  ]['team2'].value_counts().sort_index()\n",
    "#total\n",
    "ser3 = ser1 + ser2"
   ]
  },
  {
   "cell_type": "code",
   "execution_count": null,
   "id": "48e77b32",
   "metadata": {},
   "outputs": [],
   "source": []
  },
  {
   "cell_type": "code",
   "execution_count": null,
   "id": "64477e2f",
   "metadata": {},
   "outputs": [],
   "source": []
  },
  {
   "cell_type": "code",
   "execution_count": 74,
   "id": "9b9c6012",
   "metadata": {},
   "outputs": [],
   "source": [
    "ser3['Deccan Chargers'] = 1\n",
    "ser3['Gujarat Lions'] = 1"
   ]
  },
  {
   "cell_type": "code",
   "execution_count": 75,
   "id": "1670ebe8",
   "metadata": {},
   "outputs": [
    {
     "name": "stdout",
     "output_type": "stream",
     "text": [
      "Number of times teams have scored 200+ runs\n"
     ]
    },
    {
     "data": {
      "text/plain": [
       "Royal Challengers Bangalore    18.0\n",
       "Chennai Super Kings            17.0\n",
       "Kings XI Punjab                14.0\n",
       "Mumbai Indians                 14.0\n",
       "Kolkata Knight Riders          12.0\n",
       "Sunrisers Hyderabad            12.0\n",
       "Rajasthan Royals                9.0\n",
       "Delhi Daredevils                5.0\n",
       "Delhi Capitals                  2.0\n",
       "Deccan Chargers                 1.0\n",
       "Gujarat Lions                   1.0\n",
       "Name: count, dtype: float64"
      ]
     },
     "execution_count": 75,
     "metadata": {},
     "output_type": "execute_result"
    }
   ],
   "source": [
    "print(\"Number of times teams have scored 200+ runs\")\n",
    "ser3.sort_values(ascending=False)"
   ]
  },
  {
   "cell_type": "markdown",
   "id": "110e087f",
   "metadata": {},
   "source": [
    "Royal Challengers banglore have scored most number of 200+ runs oi.e 18 times."
   ]
  },
  {
   "cell_type": "markdown",
   "id": "a5b56eb0",
   "metadata": {},
   "source": [
    "#### Which team conceded 200+ runs most number of times ?"
   ]
  },
  {
   "cell_type": "code",
   "execution_count": 76,
   "id": "49dd028d",
   "metadata": {},
   "outputs": [
    {
     "data": {
      "text/html": [
       "<div>\n",
       "<style scoped>\n",
       "    .dataframe tbody tr th:only-of-type {\n",
       "        vertical-align: middle;\n",
       "    }\n",
       "\n",
       "    .dataframe tbody tr th {\n",
       "        vertical-align: top;\n",
       "    }\n",
       "\n",
       "    .dataframe thead th {\n",
       "        text-align: right;\n",
       "    }\n",
       "</style>\n",
       "<table border=\"1\" class=\"dataframe\">\n",
       "  <thead>\n",
       "    <tr style=\"text-align: right;\">\n",
       "      <th></th>\n",
       "      <th>id</th>\n",
       "      <th>team1</th>\n",
       "      <th>team1_runs</th>\n",
       "      <th>team2</th>\n",
       "      <th>team2_runs</th>\n",
       "    </tr>\n",
       "  </thead>\n",
       "  <tbody>\n",
       "    <tr>\n",
       "      <th>0</th>\n",
       "      <td>335982</td>\n",
       "      <td>Kolkata Knight Riders</td>\n",
       "      <td>222</td>\n",
       "      <td>Royal Challengers Bangalore</td>\n",
       "      <td>82</td>\n",
       "    </tr>\n",
       "    <tr>\n",
       "      <th>1</th>\n",
       "      <td>335983</td>\n",
       "      <td>Kings XI Punjab</td>\n",
       "      <td>207</td>\n",
       "      <td>Chennai Super Kings</td>\n",
       "      <td>240</td>\n",
       "    </tr>\n",
       "    <tr>\n",
       "      <th>2</th>\n",
       "      <td>335984</td>\n",
       "      <td>Rajasthan Royals</td>\n",
       "      <td>129</td>\n",
       "      <td>Delhi Daredevils</td>\n",
       "      <td>132</td>\n",
       "    </tr>\n",
       "    <tr>\n",
       "      <th>3</th>\n",
       "      <td>335985</td>\n",
       "      <td>Mumbai Indians</td>\n",
       "      <td>165</td>\n",
       "      <td>Royal Challengers Bangalore</td>\n",
       "      <td>166</td>\n",
       "    </tr>\n",
       "    <tr>\n",
       "      <th>4</th>\n",
       "      <td>335986</td>\n",
       "      <td>Kolkata Knight Riders</td>\n",
       "      <td>112</td>\n",
       "      <td>Deccan Chargers</td>\n",
       "      <td>110</td>\n",
       "    </tr>\n",
       "    <tr>\n",
       "      <th>...</th>\n",
       "      <td>...</td>\n",
       "      <td>...</td>\n",
       "      <td>...</td>\n",
       "      <td>...</td>\n",
       "      <td>...</td>\n",
       "    </tr>\n",
       "    <tr>\n",
       "      <th>807</th>\n",
       "      <td>1216547</td>\n",
       "      <td>Royal Challengers Bangalore</td>\n",
       "      <td>201</td>\n",
       "      <td>Mumbai Indians</td>\n",
       "      <td>201</td>\n",
       "    </tr>\n",
       "    <tr>\n",
       "      <th>808</th>\n",
       "      <td>1237177</td>\n",
       "      <td>Delhi Capitals</td>\n",
       "      <td>143</td>\n",
       "      <td>Mumbai Indians</td>\n",
       "      <td>200</td>\n",
       "    </tr>\n",
       "    <tr>\n",
       "      <th>809</th>\n",
       "      <td>1237178</td>\n",
       "      <td>Royal Challengers Bangalore</td>\n",
       "      <td>131</td>\n",
       "      <td>Sunrisers Hyderabad</td>\n",
       "      <td>132</td>\n",
       "    </tr>\n",
       "    <tr>\n",
       "      <th>810</th>\n",
       "      <td>1237180</td>\n",
       "      <td>Delhi Capitals</td>\n",
       "      <td>189</td>\n",
       "      <td>Sunrisers Hyderabad</td>\n",
       "      <td>172</td>\n",
       "    </tr>\n",
       "    <tr>\n",
       "      <th>811</th>\n",
       "      <td>1237181</td>\n",
       "      <td>Delhi Capitals</td>\n",
       "      <td>156</td>\n",
       "      <td>Mumbai Indians</td>\n",
       "      <td>157</td>\n",
       "    </tr>\n",
       "  </tbody>\n",
       "</table>\n",
       "<p>812 rows × 5 columns</p>\n",
       "</div>"
      ],
      "text/plain": [
       "          id                        team1  team1_runs  \\\n",
       "0     335982        Kolkata Knight Riders         222   \n",
       "1     335983              Kings XI Punjab         207   \n",
       "2     335984             Rajasthan Royals         129   \n",
       "3     335985               Mumbai Indians         165   \n",
       "4     335986        Kolkata Knight Riders         112   \n",
       "..       ...                          ...         ...   \n",
       "807  1216547  Royal Challengers Bangalore         201   \n",
       "808  1237177               Delhi Capitals         143   \n",
       "809  1237178  Royal Challengers Bangalore         131   \n",
       "810  1237180               Delhi Capitals         189   \n",
       "811  1237181               Delhi Capitals         156   \n",
       "\n",
       "                           team2  team2_runs  \n",
       "0    Royal Challengers Bangalore          82  \n",
       "1            Chennai Super Kings         240  \n",
       "2               Delhi Daredevils         132  \n",
       "3    Royal Challengers Bangalore         166  \n",
       "4                Deccan Chargers         110  \n",
       "..                           ...         ...  \n",
       "807               Mumbai Indians         201  \n",
       "808               Mumbai Indians         200  \n",
       "809          Sunrisers Hyderabad         132  \n",
       "810          Sunrisers Hyderabad         172  \n",
       "811               Mumbai Indians         157  \n",
       "\n",
       "[812 rows x 5 columns]"
      ]
     },
     "execution_count": 76,
     "metadata": {},
     "output_type": "execute_result"
    }
   ],
   "source": [
    "df_runs_scored"
   ]
  },
  {
   "cell_type": "code",
   "execution_count": 77,
   "id": "3c21b56a",
   "metadata": {},
   "outputs": [],
   "source": [
    "runs_conc = df_runs_scored"
   ]
  },
  {
   "cell_type": "code",
   "execution_count": 78,
   "id": "38da4e75",
   "metadata": {},
   "outputs": [],
   "source": [
    "team1_conc = df_runs_scored['team2_runs'].values\n",
    "team2_conc = df_runs_scored['team1_runs'].values\n",
    "runs_conc['team1_runs'] = team1_conc\n",
    "runs_conc['team2_runs'] = team2_conc\n"
   ]
  },
  {
   "cell_type": "code",
   "execution_count": 79,
   "id": "e1788c09",
   "metadata": {},
   "outputs": [],
   "source": [
    "# teams 1 concede\n",
    "ser1 = runs_conc[(runs_conc['team1_runs' ]>=200)  ]['team1'].value_counts().sort_index()\n",
    "# team 2 scored\n",
    "ser2 = runs_conc[(runs_conc['team2_runs' ]>=200)  ]['team2'].value_counts().sort_index()\n",
    "#total\n",
    "ser3 = ser1 + ser2"
   ]
  },
  {
   "cell_type": "code",
   "execution_count": null,
   "id": "94098890",
   "metadata": {
    "scrolled": true
   },
   "outputs": [],
   "source": []
  },
  {
   "cell_type": "code",
   "execution_count": null,
   "id": "9202c0e0",
   "metadata": {},
   "outputs": [],
   "source": []
  },
  {
   "cell_type": "code",
   "execution_count": 80,
   "id": "5637145d",
   "metadata": {},
   "outputs": [
    {
     "data": {
      "text/plain": [
       "Chennai Super Kings            12.0\n",
       "Deccan Chargers                 NaN\n",
       "Delhi Capitals                  3.0\n",
       "Delhi Daredevils               11.0\n",
       "Gujarat Lions                   3.0\n",
       "Kings XI Punjab                20.0\n",
       "Kolkata Knight Riders          10.0\n",
       "Mumbai Indians                  8.0\n",
       "Pune Warriors                   NaN\n",
       "Rajasthan Royals               10.0\n",
       "Rising Pune Supergiant          NaN\n",
       "Royal Challengers Bangalore    17.0\n",
       "Sunrisers Hyderabad             7.0\n",
       "Name: count, dtype: float64"
      ]
     },
     "execution_count": 80,
     "metadata": {},
     "output_type": "execute_result"
    }
   ],
   "source": [
    "ser3"
   ]
  },
  {
   "cell_type": "code",
   "execution_count": 81,
   "id": "01f19954",
   "metadata": {},
   "outputs": [],
   "source": [
    "# filling missing values manually\n",
    "ser3['Deccan Chargers'] = 2\n",
    "ser3['Pune Warriors'] = 1\n",
    "ser3['Rising Pune Supergiant'] = 1"
   ]
  },
  {
   "cell_type": "code",
   "execution_count": 82,
   "id": "f3659c6a",
   "metadata": {},
   "outputs": [
    {
     "name": "stdout",
     "output_type": "stream",
     "text": [
      "Teams who concede 200+ runs most\n"
     ]
    },
    {
     "data": {
      "text/plain": [
       "Kings XI Punjab                20.0\n",
       "Royal Challengers Bangalore    17.0\n",
       "Chennai Super Kings            12.0\n",
       "Delhi Daredevils               11.0\n",
       "Kolkata Knight Riders          10.0\n",
       "Rajasthan Royals               10.0\n",
       "Mumbai Indians                  8.0\n",
       "Sunrisers Hyderabad             7.0\n",
       "Delhi Capitals                  3.0\n",
       "Gujarat Lions                   3.0\n",
       "Deccan Chargers                 2.0\n",
       "Pune Warriors                   1.0\n",
       "Rising Pune Supergiant          1.0\n",
       "Name: count, dtype: float64"
      ]
     },
     "execution_count": 82,
     "metadata": {},
     "output_type": "execute_result"
    }
   ],
   "source": [
    "print(\"Teams who concede 200+ runs most\")\n",
    "ser3.sort_values(ascending=False)"
   ]
  },
  {
   "cell_type": "markdown",
   "id": "973b5ea8",
   "metadata": {},
   "source": [
    "KXIP has concede most number of 200+ scores in IPL"
   ]
  },
  {
   "cell_type": "markdown",
   "id": "2f830e98",
   "metadata": {},
   "source": [
    "#### What was the highest run scored in a single match ?"
   ]
  },
  {
   "cell_type": "code",
   "execution_count": 83,
   "id": "021796bd",
   "metadata": {
    "scrolled": true
   },
   "outputs": [
    {
     "data": {
      "text/html": [
       "<div>\n",
       "<style scoped>\n",
       "    .dataframe tbody tr th:only-of-type {\n",
       "        vertical-align: middle;\n",
       "    }\n",
       "\n",
       "    .dataframe tbody tr th {\n",
       "        vertical-align: top;\n",
       "    }\n",
       "\n",
       "    .dataframe thead th {\n",
       "        text-align: right;\n",
       "    }\n",
       "</style>\n",
       "<table border=\"1\" class=\"dataframe\">\n",
       "  <thead>\n",
       "    <tr style=\"text-align: right;\">\n",
       "      <th></th>\n",
       "      <th>id</th>\n",
       "      <th>city</th>\n",
       "      <th>date</th>\n",
       "      <th>player_of_match</th>\n",
       "      <th>venue</th>\n",
       "      <th>neutral_venue</th>\n",
       "      <th>team1</th>\n",
       "      <th>team2</th>\n",
       "      <th>toss_winner</th>\n",
       "      <th>toss_decision</th>\n",
       "      <th>...</th>\n",
       "      <th>result</th>\n",
       "      <th>result_margin</th>\n",
       "      <th>eliminator</th>\n",
       "      <th>method</th>\n",
       "      <th>umpire1</th>\n",
       "      <th>umpire2</th>\n",
       "      <th>season</th>\n",
       "      <th>first_inning_runs</th>\n",
       "      <th>second_inning_runs</th>\n",
       "      <th>total_runs</th>\n",
       "    </tr>\n",
       "  </thead>\n",
       "  <tbody>\n",
       "    <tr>\n",
       "      <th>351</th>\n",
       "      <td>598027</td>\n",
       "      <td>Bangalore</td>\n",
       "      <td>2013-04-23</td>\n",
       "      <td>CH Gayle</td>\n",
       "      <td>M Chinnaswamy Stadium</td>\n",
       "      <td>0</td>\n",
       "      <td>Royal Challengers Bangalore</td>\n",
       "      <td>Pune Warriors</td>\n",
       "      <td>Pune Warriors</td>\n",
       "      <td>field</td>\n",
       "      <td>...</td>\n",
       "      <td>runs</td>\n",
       "      <td>130.0</td>\n",
       "      <td>N</td>\n",
       "      <td>Regular</td>\n",
       "      <td>Aleem Dar</td>\n",
       "      <td>C Shamshuddin</td>\n",
       "      <td>2013</td>\n",
       "      <td>263</td>\n",
       "      <td>133</td>\n",
       "      <td>396</td>\n",
       "    </tr>\n",
       "  </tbody>\n",
       "</table>\n",
       "<p>1 rows × 21 columns</p>\n",
       "</div>"
      ],
      "text/plain": [
       "         id       city       date player_of_match                  venue  \\\n",
       "351  598027  Bangalore 2013-04-23        CH Gayle  M Chinnaswamy Stadium   \n",
       "\n",
       "    neutral_venue                        team1          team2    toss_winner  \\\n",
       "351             0  Royal Challengers Bangalore  Pune Warriors  Pune Warriors   \n",
       "\n",
       "    toss_decision  ... result result_margin eliminator   method    umpire1  \\\n",
       "351         field  ...   runs         130.0          N  Regular  Aleem Dar   \n",
       "\n",
       "           umpire2 season  first_inning_runs  second_inning_runs  total_runs  \n",
       "351  C Shamshuddin   2013                263                 133         396  \n",
       "\n",
       "[1 rows x 21 columns]"
      ]
     },
     "execution_count": 83,
     "metadata": {},
     "output_type": "execute_result"
    }
   ],
   "source": [
    "df_match[df_match['first_inning_runs'] == df_match['first_inning_runs'].max()  ]"
   ]
  },
  {
   "cell_type": "markdown",
   "id": "d5fde4cd",
   "metadata": {},
   "source": [
    "RCB scored Highest total of all time in IPL in 2013 against Pune Warriors"
   ]
  },
  {
   "cell_type": "code",
   "execution_count": 84,
   "id": "ee4de353",
   "metadata": {},
   "outputs": [
    {
     "data": {
      "text/html": [
       "<div>\n",
       "<style scoped>\n",
       "    .dataframe tbody tr th:only-of-type {\n",
       "        vertical-align: middle;\n",
       "    }\n",
       "\n",
       "    .dataframe tbody tr th {\n",
       "        vertical-align: top;\n",
       "    }\n",
       "\n",
       "    .dataframe thead th {\n",
       "        text-align: right;\n",
       "    }\n",
       "</style>\n",
       "<table border=\"1\" class=\"dataframe\">\n",
       "  <thead>\n",
       "    <tr style=\"text-align: right;\">\n",
       "      <th></th>\n",
       "      <th>id</th>\n",
       "      <th>city</th>\n",
       "      <th>date</th>\n",
       "      <th>player_of_match</th>\n",
       "      <th>venue</th>\n",
       "      <th>neutral_venue</th>\n",
       "      <th>team1</th>\n",
       "      <th>team2</th>\n",
       "      <th>toss_winner</th>\n",
       "      <th>toss_decision</th>\n",
       "      <th>...</th>\n",
       "      <th>result</th>\n",
       "      <th>result_margin</th>\n",
       "      <th>eliminator</th>\n",
       "      <th>method</th>\n",
       "      <th>umpire1</th>\n",
       "      <th>umpire2</th>\n",
       "      <th>season</th>\n",
       "      <th>first_inning_runs</th>\n",
       "      <th>second_inning_runs</th>\n",
       "      <th>total_runs</th>\n",
       "    </tr>\n",
       "  </thead>\n",
       "  <tbody>\n",
       "    <tr>\n",
       "      <th>620</th>\n",
       "      <td>1082635</td>\n",
       "      <td>Delhi</td>\n",
       "      <td>2017-05-06</td>\n",
       "      <td>LMP Simmons</td>\n",
       "      <td>Feroz Shah Kotla</td>\n",
       "      <td>0</td>\n",
       "      <td>Delhi Daredevils</td>\n",
       "      <td>Mumbai Indians</td>\n",
       "      <td>Delhi Daredevils</td>\n",
       "      <td>field</td>\n",
       "      <td>...</td>\n",
       "      <td>runs</td>\n",
       "      <td>146.0</td>\n",
       "      <td>N</td>\n",
       "      <td>Regular</td>\n",
       "      <td>Nitin Menon</td>\n",
       "      <td>CK Nandan</td>\n",
       "      <td>2017</td>\n",
       "      <td>212</td>\n",
       "      <td>66</td>\n",
       "      <td>278</td>\n",
       "    </tr>\n",
       "  </tbody>\n",
       "</table>\n",
       "<p>1 rows × 21 columns</p>\n",
       "</div>"
      ],
      "text/plain": [
       "          id   city       date player_of_match             venue  \\\n",
       "620  1082635  Delhi 2017-05-06     LMP Simmons  Feroz Shah Kotla   \n",
       "\n",
       "    neutral_venue             team1           team2       toss_winner  \\\n",
       "620             0  Delhi Daredevils  Mumbai Indians  Delhi Daredevils   \n",
       "\n",
       "    toss_decision  ... result result_margin eliminator   method      umpire1  \\\n",
       "620         field  ...   runs         146.0          N  Regular  Nitin Menon   \n",
       "\n",
       "       umpire2 season  first_inning_runs  second_inning_runs  total_runs  \n",
       "620  CK Nandan   2017                212                  66         278  \n",
       "\n",
       "[1 rows x 21 columns]"
      ]
     },
     "execution_count": 84,
     "metadata": {},
     "output_type": "execute_result"
    }
   ],
   "source": [
    "df_match[df_match['result_margin'] == df_match['result_margin'].max()  ]"
   ]
  },
  {
   "cell_type": "markdown",
   "id": "07a58f36",
   "metadata": {},
   "source": [
    "Mumbai Indians won with biggest run margin 146 in 2017 against Delhi Daredevils at Feroz Shah Kotla DD's home ground"
   ]
  },
  {
   "cell_type": "code",
   "execution_count": 85,
   "id": "e29d7a9d",
   "metadata": {},
   "outputs": [],
   "source": [
    "temp_df = pd.DataFrame(data=df_details['batsman'].value_counts()).reset_index()\n",
    "temp_df.rename(columns={'count':'balls_faced'}, inplace = True)\n",
    "batsman_balls = temp_df #for future use"
   ]
  },
  {
   "cell_type": "code",
   "execution_count": 86,
   "id": "4eb2bbda",
   "metadata": {},
   "outputs": [
    {
     "name": "stdout",
     "output_type": "stream",
     "text": [
      "top 5 batsman who faced most number of balls\n"
     ]
    },
    {
     "data": {
      "text/html": [
       "<div>\n",
       "<style scoped>\n",
       "    .dataframe tbody tr th:only-of-type {\n",
       "        vertical-align: middle;\n",
       "    }\n",
       "\n",
       "    .dataframe tbody tr th {\n",
       "        vertical-align: top;\n",
       "    }\n",
       "\n",
       "    .dataframe thead th {\n",
       "        text-align: right;\n",
       "    }\n",
       "</style>\n",
       "<table border=\"1\" class=\"dataframe\">\n",
       "  <thead>\n",
       "    <tr style=\"text-align: right;\">\n",
       "      <th></th>\n",
       "      <th>batsman</th>\n",
       "      <th>balls_faced</th>\n",
       "    </tr>\n",
       "  </thead>\n",
       "  <tbody>\n",
       "    <tr>\n",
       "      <th>0</th>\n",
       "      <td>V Kohli</td>\n",
       "      <td>4596</td>\n",
       "    </tr>\n",
       "    <tr>\n",
       "      <th>1</th>\n",
       "      <td>S Dhawan</td>\n",
       "      <td>4208</td>\n",
       "    </tr>\n",
       "    <tr>\n",
       "      <th>2</th>\n",
       "      <td>RG Sharma</td>\n",
       "      <td>4088</td>\n",
       "    </tr>\n",
       "    <tr>\n",
       "      <th>3</th>\n",
       "      <td>SK Raina</td>\n",
       "      <td>4041</td>\n",
       "    </tr>\n",
       "    <tr>\n",
       "      <th>4</th>\n",
       "      <td>DA Warner</td>\n",
       "      <td>3809</td>\n",
       "    </tr>\n",
       "  </tbody>\n",
       "</table>\n",
       "</div>"
      ],
      "text/plain": [
       "     batsman  balls_faced\n",
       "0    V Kohli         4596\n",
       "1   S Dhawan         4208\n",
       "2  RG Sharma         4088\n",
       "3   SK Raina         4041\n",
       "4  DA Warner         3809"
      ]
     },
     "execution_count": 86,
     "metadata": {},
     "output_type": "execute_result"
    }
   ],
   "source": [
    "print(\"top 5 batsman who faced most number of balls\")\n",
    "temp_df.head()"
   ]
  },
  {
   "cell_type": "markdown",
   "id": "f8dcdfed",
   "metadata": {},
   "source": [
    "#### who is the highest run scorer"
   ]
  },
  {
   "cell_type": "code",
   "execution_count": 87,
   "id": "44a2dd25",
   "metadata": {},
   "outputs": [
    {
     "name": "stdout",
     "output_type": "stream",
     "text": [
      "Top 5 batsman 2008 - 2020\n"
     ]
    },
    {
     "data": {
      "text/html": [
       "<div>\n",
       "<style scoped>\n",
       "    .dataframe tbody tr th:only-of-type {\n",
       "        vertical-align: middle;\n",
       "    }\n",
       "\n",
       "    .dataframe tbody tr th {\n",
       "        vertical-align: top;\n",
       "    }\n",
       "\n",
       "    .dataframe thead th {\n",
       "        text-align: right;\n",
       "    }\n",
       "</style>\n",
       "<table border=\"1\" class=\"dataframe\">\n",
       "  <thead>\n",
       "    <tr style=\"text-align: right;\">\n",
       "      <th></th>\n",
       "      <th>batsman</th>\n",
       "      <th>batsman_runs</th>\n",
       "    </tr>\n",
       "  </thead>\n",
       "  <tbody>\n",
       "    <tr>\n",
       "      <th>505</th>\n",
       "      <td>V Kohli</td>\n",
       "      <td>5851</td>\n",
       "    </tr>\n",
       "    <tr>\n",
       "      <th>438</th>\n",
       "      <td>SK Raina</td>\n",
       "      <td>5368</td>\n",
       "    </tr>\n",
       "    <tr>\n",
       "      <th>116</th>\n",
       "      <td>DA Warner</td>\n",
       "      <td>5235</td>\n",
       "    </tr>\n",
       "    <tr>\n",
       "      <th>379</th>\n",
       "      <td>RG Sharma</td>\n",
       "      <td>5230</td>\n",
       "    </tr>\n",
       "    <tr>\n",
       "      <th>407</th>\n",
       "      <td>S Dhawan</td>\n",
       "      <td>5197</td>\n",
       "    </tr>\n",
       "  </tbody>\n",
       "</table>\n",
       "</div>"
      ],
      "text/plain": [
       "       batsman  batsman_runs\n",
       "505    V Kohli          5851\n",
       "438   SK Raina          5368\n",
       "116  DA Warner          5235\n",
       "379  RG Sharma          5230\n",
       "407   S Dhawan          5197"
      ]
     },
     "execution_count": 87,
     "metadata": {},
     "output_type": "execute_result"
    }
   ],
   "source": [
    "print(\"Top 5 batsman 2008 - 2020\")\n",
    "\n",
    "temp_df = df_details.groupby('batsman').sum().reset_index()\n",
    "batsman_runs = temp_df[['batsman','batsman_runs']] # for future use\n",
    "temp_df = temp_df.sort_values(by = 'batsman_runs' , ascending = False)\n",
    "\n",
    "temp_df[['batsman','batsman_runs']].head()\n"
   ]
  },
  {
   "cell_type": "markdown",
   "id": "e4c0fa67",
   "metadata": {},
   "source": [
    "#### Who has hit most number of 4s ?"
   ]
  },
  {
   "cell_type": "code",
   "execution_count": 88,
   "id": "99a1abb6",
   "metadata": {},
   "outputs": [
    {
     "name": "stdout",
     "output_type": "stream",
     "text": [
      "Batsman having most number of 4's\n"
     ]
    },
    {
     "data": {
      "text/html": [
       "<style type=\"text/css\">\n",
       "</style>\n",
       "<table id=\"T_9ea73\">\n",
       "  <thead>\n",
       "    <tr>\n",
       "      <th id=\"T_9ea73_level0_col0\" class=\"col_heading level0 col0\" >batsman</th>\n",
       "      <th id=\"T_9ea73_level0_col1\" class=\"col_heading level0 col1\" >no_4s</th>\n",
       "    </tr>\n",
       "  </thead>\n",
       "  <tbody>\n",
       "    <tr>\n",
       "      <td id=\"T_9ea73_row0_col0\" class=\"data row0 col0\" >S Dhawan</td>\n",
       "      <td id=\"T_9ea73_row0_col1\" class=\"data row0 col1\" >591</td>\n",
       "    </tr>\n",
       "    <tr>\n",
       "      <td id=\"T_9ea73_row1_col0\" class=\"data row1 col0\" >DA Warner</td>\n",
       "      <td id=\"T_9ea73_row1_col1\" class=\"data row1 col1\" >509</td>\n",
       "    </tr>\n",
       "    <tr>\n",
       "      <td id=\"T_9ea73_row2_col0\" class=\"data row2 col0\" >V Kohli</td>\n",
       "      <td id=\"T_9ea73_row2_col1\" class=\"data row2 col1\" >503</td>\n",
       "    </tr>\n",
       "    <tr>\n",
       "      <td id=\"T_9ea73_row3_col0\" class=\"data row3 col0\" >SK Raina</td>\n",
       "      <td id=\"T_9ea73_row3_col1\" class=\"data row3 col1\" >493</td>\n",
       "    </tr>\n",
       "    <tr>\n",
       "      <td id=\"T_9ea73_row4_col0\" class=\"data row4 col0\" >G Gambhir</td>\n",
       "      <td id=\"T_9ea73_row4_col1\" class=\"data row4 col1\" >492</td>\n",
       "    </tr>\n",
       "  </tbody>\n",
       "</table>\n"
      ],
      "text/plain": [
       "<pandas.io.formats.style.Styler at 0x299f7dd2cd0>"
      ]
     },
     "execution_count": 88,
     "metadata": {},
     "output_type": "execute_result"
    }
   ],
   "source": [
    "print(\"Batsman having most number of 4's\")\n",
    "temp_df = df_details[df_details['batsman_runs'] == 4]\n",
    "temp_df = temp_df.groupby('batsman').count().reset_index()\n",
    "temp_df = temp_df.sort_values(by = 'batsman_runs' , ascending=False)\n",
    "temp_df.rename(columns = {'batsman_runs':'no_4s'} , inplace=True)\n",
    "temp_df[['batsman','no_4s']].head().style.hide()"
   ]
  },
  {
   "cell_type": "markdown",
   "id": "f582e4f1",
   "metadata": {},
   "source": [
    "Shikhar Dhawan have hit most number of 4's"
   ]
  },
  {
   "cell_type": "markdown",
   "id": "afa906a6",
   "metadata": {},
   "source": [
    "#### Who has hit most number of 6s ?\n"
   ]
  },
  {
   "cell_type": "code",
   "execution_count": 89,
   "id": "0efa5641",
   "metadata": {},
   "outputs": [
    {
     "name": "stdout",
     "output_type": "stream",
     "text": [
      "Batsman having most number of 6's\n"
     ]
    },
    {
     "data": {
      "text/html": [
       "<style type=\"text/css\">\n",
       "</style>\n",
       "<table id=\"T_fe6c7\">\n",
       "  <thead>\n",
       "    <tr>\n",
       "      <th id=\"T_fe6c7_level0_col0\" class=\"col_heading level0 col0\" >batsman</th>\n",
       "      <th id=\"T_fe6c7_level0_col1\" class=\"col_heading level0 col1\" >no_6s</th>\n",
       "    </tr>\n",
       "  </thead>\n",
       "  <tbody>\n",
       "    <tr>\n",
       "      <td id=\"T_fe6c7_row0_col0\" class=\"data row0 col0\" >CH Gayle</td>\n",
       "      <td id=\"T_fe6c7_row0_col1\" class=\"data row0 col1\" >348</td>\n",
       "    </tr>\n",
       "    <tr>\n",
       "      <td id=\"T_fe6c7_row1_col0\" class=\"data row1 col0\" >AB de Villiers</td>\n",
       "      <td id=\"T_fe6c7_row1_col1\" class=\"data row1 col1\" >234</td>\n",
       "    </tr>\n",
       "    <tr>\n",
       "      <td id=\"T_fe6c7_row2_col0\" class=\"data row2 col0\" >MS Dhoni</td>\n",
       "      <td id=\"T_fe6c7_row2_col1\" class=\"data row2 col1\" >216</td>\n",
       "    </tr>\n",
       "    <tr>\n",
       "      <td id=\"T_fe6c7_row3_col0\" class=\"data row3 col0\" >RG Sharma</td>\n",
       "      <td id=\"T_fe6c7_row3_col1\" class=\"data row3 col1\" >214</td>\n",
       "    </tr>\n",
       "    <tr>\n",
       "      <td id=\"T_fe6c7_row4_col0\" class=\"data row4 col0\" >V Kohli</td>\n",
       "      <td id=\"T_fe6c7_row4_col1\" class=\"data row4 col1\" >199</td>\n",
       "    </tr>\n",
       "  </tbody>\n",
       "</table>\n"
      ],
      "text/plain": [
       "<pandas.io.formats.style.Styler at 0x299f77ffe10>"
      ]
     },
     "execution_count": 89,
     "metadata": {},
     "output_type": "execute_result"
    }
   ],
   "source": [
    "print(\"Batsman having most number of 6's\")\n",
    "temp_df = df_details[df_details['batsman_runs'] == 6]\n",
    "temp_df = temp_df.groupby('batsman').count().reset_index()\n",
    "temp_df = temp_df.sort_values(by = 'batsman_runs' , ascending=False)\n",
    "temp_df.rename(columns = {'batsman_runs':'no_6s'} , inplace=True)\n",
    "temp_df[['batsman','no_6s']].head().style.hide()"
   ]
  },
  {
   "cell_type": "markdown",
   "id": "d21524a2",
   "metadata": {},
   "source": [
    "#### Highest strike rate"
   ]
  },
  {
   "cell_type": "code",
   "execution_count": 90,
   "id": "3b0129ab",
   "metadata": {},
   "outputs": [],
   "source": [
    "batsman_balls.sort_values(by = 'batsman' , inplace = True)\n",
    "batsman_runs.sort_values(by = 'batsman' , inplace = True)"
   ]
  },
  {
   "cell_type": "code",
   "execution_count": 91,
   "id": "7ba48c2c",
   "metadata": {},
   "outputs": [
    {
     "data": {
      "text/html": [
       "<div>\n",
       "<style scoped>\n",
       "    .dataframe tbody tr th:only-of-type {\n",
       "        vertical-align: middle;\n",
       "    }\n",
       "\n",
       "    .dataframe tbody tr th {\n",
       "        vertical-align: top;\n",
       "    }\n",
       "\n",
       "    .dataframe thead th {\n",
       "        text-align: right;\n",
       "    }\n",
       "</style>\n",
       "<table border=\"1\" class=\"dataframe\">\n",
       "  <thead>\n",
       "    <tr style=\"text-align: right;\">\n",
       "      <th></th>\n",
       "      <th>batsman</th>\n",
       "      <th>balls_faced</th>\n",
       "    </tr>\n",
       "  </thead>\n",
       "  <tbody>\n",
       "    <tr>\n",
       "      <th>161</th>\n",
       "      <td>A Ashish Reddy</td>\n",
       "      <td>196</td>\n",
       "    </tr>\n",
       "    <tr>\n",
       "      <th>468</th>\n",
       "      <td>A Chandila</td>\n",
       "      <td>7</td>\n",
       "    </tr>\n",
       "    <tr>\n",
       "      <th>267</th>\n",
       "      <td>A Chopra</td>\n",
       "      <td>75</td>\n",
       "    </tr>\n",
       "    <tr>\n",
       "      <th>388</th>\n",
       "      <td>A Choudhary</td>\n",
       "      <td>20</td>\n",
       "    </tr>\n",
       "    <tr>\n",
       "      <th>490</th>\n",
       "      <td>A Dananjaya</td>\n",
       "      <td>5</td>\n",
       "    </tr>\n",
       "    <tr>\n",
       "      <th>...</th>\n",
       "      <td>...</td>\n",
       "      <td>...</td>\n",
       "    </tr>\n",
       "    <tr>\n",
       "      <th>164</th>\n",
       "      <td>YV Takawale</td>\n",
       "      <td>183</td>\n",
       "    </tr>\n",
       "    <tr>\n",
       "      <th>279</th>\n",
       "      <td>Yashpal Singh</td>\n",
       "      <td>67</td>\n",
       "    </tr>\n",
       "    <tr>\n",
       "      <th>470</th>\n",
       "      <td>Younis Khan</td>\n",
       "      <td>7</td>\n",
       "    </tr>\n",
       "    <tr>\n",
       "      <th>20</th>\n",
       "      <td>Yuvraj Singh</td>\n",
       "      <td>2198</td>\n",
       "    </tr>\n",
       "    <tr>\n",
       "      <th>192</th>\n",
       "      <td>Z Khan</td>\n",
       "      <td>141</td>\n",
       "    </tr>\n",
       "  </tbody>\n",
       "</table>\n",
       "<p>537 rows × 2 columns</p>\n",
       "</div>"
      ],
      "text/plain": [
       "            batsman  balls_faced\n",
       "161  A Ashish Reddy          196\n",
       "468      A Chandila            7\n",
       "267        A Chopra           75\n",
       "388     A Choudhary           20\n",
       "490     A Dananjaya            5\n",
       "..              ...          ...\n",
       "164     YV Takawale          183\n",
       "279   Yashpal Singh           67\n",
       "470     Younis Khan            7\n",
       "20     Yuvraj Singh         2198\n",
       "192          Z Khan          141\n",
       "\n",
       "[537 rows x 2 columns]"
      ]
     },
     "execution_count": 91,
     "metadata": {},
     "output_type": "execute_result"
    }
   ],
   "source": [
    "batsman_balls"
   ]
  },
  {
   "cell_type": "code",
   "execution_count": 92,
   "id": "19192aa3",
   "metadata": {
    "scrolled": false
   },
   "outputs": [
    {
     "data": {
      "text/html": [
       "<div>\n",
       "<style scoped>\n",
       "    .dataframe tbody tr th:only-of-type {\n",
       "        vertical-align: middle;\n",
       "    }\n",
       "\n",
       "    .dataframe tbody tr th {\n",
       "        vertical-align: top;\n",
       "    }\n",
       "\n",
       "    .dataframe thead th {\n",
       "        text-align: right;\n",
       "    }\n",
       "</style>\n",
       "<table border=\"1\" class=\"dataframe\">\n",
       "  <thead>\n",
       "    <tr style=\"text-align: right;\">\n",
       "      <th></th>\n",
       "      <th>batsman</th>\n",
       "      <th>batsman_runs</th>\n",
       "    </tr>\n",
       "  </thead>\n",
       "  <tbody>\n",
       "    <tr>\n",
       "      <th>0</th>\n",
       "      <td>A Ashish Reddy</td>\n",
       "      <td>280</td>\n",
       "    </tr>\n",
       "    <tr>\n",
       "      <th>1</th>\n",
       "      <td>A Chandila</td>\n",
       "      <td>4</td>\n",
       "    </tr>\n",
       "    <tr>\n",
       "      <th>2</th>\n",
       "      <td>A Chopra</td>\n",
       "      <td>53</td>\n",
       "    </tr>\n",
       "    <tr>\n",
       "      <th>3</th>\n",
       "      <td>A Choudhary</td>\n",
       "      <td>25</td>\n",
       "    </tr>\n",
       "    <tr>\n",
       "      <th>4</th>\n",
       "      <td>A Dananjaya</td>\n",
       "      <td>4</td>\n",
       "    </tr>\n",
       "    <tr>\n",
       "      <th>...</th>\n",
       "      <td>...</td>\n",
       "      <td>...</td>\n",
       "    </tr>\n",
       "    <tr>\n",
       "      <th>532</th>\n",
       "      <td>YV Takawale</td>\n",
       "      <td>192</td>\n",
       "    </tr>\n",
       "    <tr>\n",
       "      <th>533</th>\n",
       "      <td>Yashpal Singh</td>\n",
       "      <td>47</td>\n",
       "    </tr>\n",
       "    <tr>\n",
       "      <th>534</th>\n",
       "      <td>Younis Khan</td>\n",
       "      <td>3</td>\n",
       "    </tr>\n",
       "    <tr>\n",
       "      <th>535</th>\n",
       "      <td>Yuvraj Singh</td>\n",
       "      <td>2739</td>\n",
       "    </tr>\n",
       "    <tr>\n",
       "      <th>536</th>\n",
       "      <td>Z Khan</td>\n",
       "      <td>117</td>\n",
       "    </tr>\n",
       "  </tbody>\n",
       "</table>\n",
       "<p>537 rows × 2 columns</p>\n",
       "</div>"
      ],
      "text/plain": [
       "            batsman  batsman_runs\n",
       "0    A Ashish Reddy           280\n",
       "1        A Chandila             4\n",
       "2          A Chopra            53\n",
       "3       A Choudhary            25\n",
       "4       A Dananjaya             4\n",
       "..              ...           ...\n",
       "532     YV Takawale           192\n",
       "533   Yashpal Singh            47\n",
       "534     Younis Khan             3\n",
       "535    Yuvraj Singh          2739\n",
       "536          Z Khan           117\n",
       "\n",
       "[537 rows x 2 columns]"
      ]
     },
     "execution_count": 92,
     "metadata": {},
     "output_type": "execute_result"
    }
   ],
   "source": [
    "batsman_runs"
   ]
  },
  {
   "cell_type": "code",
   "execution_count": 97,
   "id": "161f0d31",
   "metadata": {},
   "outputs": [
    {
     "data": {
      "text/html": [
       "<div>\n",
       "<style scoped>\n",
       "    .dataframe tbody tr th:only-of-type {\n",
       "        vertical-align: middle;\n",
       "    }\n",
       "\n",
       "    .dataframe tbody tr th {\n",
       "        vertical-align: top;\n",
       "    }\n",
       "\n",
       "    .dataframe thead th {\n",
       "        text-align: right;\n",
       "    }\n",
       "</style>\n",
       "<table border=\"1\" class=\"dataframe\">\n",
       "  <thead>\n",
       "    <tr style=\"text-align: right;\">\n",
       "      <th></th>\n",
       "      <th>batsman</th>\n",
       "      <th>batsman_runs</th>\n",
       "      <th>balls_faced</th>\n",
       "      <th>st_rate</th>\n",
       "    </tr>\n",
       "  </thead>\n",
       "  <tbody>\n",
       "    <tr>\n",
       "      <th>72</th>\n",
       "      <td>B Stanlake</td>\n",
       "      <td>5</td>\n",
       "      <td>2</td>\n",
       "      <td>250.000000</td>\n",
       "    </tr>\n",
       "    <tr>\n",
       "      <th>504</th>\n",
       "      <td>Umar Gul</td>\n",
       "      <td>39</td>\n",
       "      <td>19</td>\n",
       "      <td>205.263158</td>\n",
       "    </tr>\n",
       "    <tr>\n",
       "      <th>395</th>\n",
       "      <td>RS Sodhi</td>\n",
       "      <td>4</td>\n",
       "      <td>2</td>\n",
       "      <td>200.000000</td>\n",
       "    </tr>\n",
       "    <tr>\n",
       "      <th>470</th>\n",
       "      <td>Shahid Afridi</td>\n",
       "      <td>81</td>\n",
       "      <td>46</td>\n",
       "      <td>176.086957</td>\n",
       "    </tr>\n",
       "    <tr>\n",
       "      <th>498</th>\n",
       "      <td>TU Deshpande</td>\n",
       "      <td>21</td>\n",
       "      <td>12</td>\n",
       "      <td>175.000000</td>\n",
       "    </tr>\n",
       "  </tbody>\n",
       "</table>\n",
       "</div>"
      ],
      "text/plain": [
       "           batsman  batsman_runs  balls_faced     st_rate\n",
       "72      B Stanlake             5            2  250.000000\n",
       "504       Umar Gul            39           19  205.263158\n",
       "395       RS Sodhi             4            2  200.000000\n",
       "470  Shahid Afridi            81           46  176.086957\n",
       "498   TU Deshpande            21           12  175.000000"
      ]
     },
     "execution_count": 97,
     "metadata": {},
     "output_type": "execute_result"
    }
   ],
   "source": [
    "strike_rate = batsman_runs\n",
    "balls = list(batsman_balls['balls_faced'])\n",
    "\n",
    "strike_rate['balls_faced'] = balls\n",
    "strike_rate['st_rate'] = (strike_rate['batsman_runs']/strike_rate['balls_faced'])*100\n",
    "strike_rate.sort_values(by = 'st_rate' , ascending=False).head()"
   ]
  },
  {
   "cell_type": "markdown",
   "id": "588a5519",
   "metadata": {},
   "source": [
    "Shockingly B Stanlake has highest strike rate but he has only scored 5 runs so let's set a threshold on runs to get a meaningful result"
   ]
  },
  {
   "cell_type": "code",
   "execution_count": 99,
   "id": "ce277ad3",
   "metadata": {},
   "outputs": [
    {
     "data": {
      "text/html": [
       "<div>\n",
       "<style scoped>\n",
       "    .dataframe tbody tr th:only-of-type {\n",
       "        vertical-align: middle;\n",
       "    }\n",
       "\n",
       "    .dataframe tbody tr th {\n",
       "        vertical-align: top;\n",
       "    }\n",
       "\n",
       "    .dataframe thead th {\n",
       "        text-align: right;\n",
       "    }\n",
       "</style>\n",
       "<table border=\"1\" class=\"dataframe\">\n",
       "  <thead>\n",
       "    <tr style=\"text-align: right;\">\n",
       "      <th></th>\n",
       "      <th>batsman</th>\n",
       "      <th>batsman_runs</th>\n",
       "      <th>balls_faced</th>\n",
       "      <th>st_rate</th>\n",
       "    </tr>\n",
       "  </thead>\n",
       "  <tbody>\n",
       "    <tr>\n",
       "      <th>33</th>\n",
       "      <td>AD Russell</td>\n",
       "      <td>1517</td>\n",
       "      <td>882</td>\n",
       "      <td>171.995465</td>\n",
       "    </tr>\n",
       "    <tr>\n",
       "      <th>317</th>\n",
       "      <td>N Pooran</td>\n",
       "      <td>521</td>\n",
       "      <td>323</td>\n",
       "      <td>161.300310</td>\n",
       "    </tr>\n",
       "    <tr>\n",
       "      <th>453</th>\n",
       "      <td>SP Narine</td>\n",
       "      <td>892</td>\n",
       "      <td>573</td>\n",
       "      <td>155.671902</td>\n",
       "    </tr>\n",
       "    <tr>\n",
       "      <th>97</th>\n",
       "      <td>CH Morris</td>\n",
       "      <td>551</td>\n",
       "      <td>360</td>\n",
       "      <td>153.055556</td>\n",
       "    </tr>\n",
       "    <tr>\n",
       "      <th>168</th>\n",
       "      <td>HH Pandya</td>\n",
       "      <td>1349</td>\n",
       "      <td>897</td>\n",
       "      <td>150.390190</td>\n",
       "    </tr>\n",
       "  </tbody>\n",
       "</table>\n",
       "</div>"
      ],
      "text/plain": [
       "        batsman  batsman_runs  balls_faced     st_rate\n",
       "33   AD Russell          1517          882  171.995465\n",
       "317    N Pooran           521          323  161.300310\n",
       "453   SP Narine           892          573  155.671902\n",
       "97    CH Morris           551          360  153.055556\n",
       "168   HH Pandya          1349          897  150.390190"
      ]
     },
     "execution_count": 99,
     "metadata": {},
     "output_type": "execute_result"
    }
   ],
   "source": [
    "temp_df = strike_rate[strike_rate['batsman_runs'] > 500]\n",
    "temp_df.sort_values(by = 'st_rate' , ascending=False).head()"
   ]
  },
  {
   "cell_type": "markdown",
   "id": "03fdd8dc",
   "metadata": {},
   "source": [
    "We set a threshold of 500 runs. that means batsman must have a scored at least 500 runs. Now if look we can see that Andre Rusell has highest strike rate followed by his Windies comrade N pooran"
   ]
  },
  {
   "cell_type": "markdown",
   "id": "a29612d0",
   "metadata": {},
   "source": [
    "#### Leading wicket taker"
   ]
  },
  {
   "cell_type": "code",
   "execution_count": 114,
   "id": "6f3963c8",
   "metadata": {},
   "outputs": [
    {
     "data": {
      "text/html": [
       "<style type=\"text/css\">\n",
       "</style>\n",
       "<table id=\"T_8f3bf\">\n",
       "  <thead>\n",
       "    <tr>\n",
       "      <th id=\"T_8f3bf_level0_col0\" class=\"col_heading level0 col0\" >bowler</th>\n",
       "      <th id=\"T_8f3bf_level0_col1\" class=\"col_heading level0 col1\" >wickets</th>\n",
       "    </tr>\n",
       "  </thead>\n",
       "  <tbody>\n",
       "    <tr>\n",
       "      <td id=\"T_8f3bf_row0_col0\" class=\"data row0 col0\" >SL Malinga</td>\n",
       "      <td id=\"T_8f3bf_row0_col1\" class=\"data row0 col1\" >188</td>\n",
       "    </tr>\n",
       "    <tr>\n",
       "      <td id=\"T_8f3bf_row1_col0\" class=\"data row1 col0\" >DJ Bravo</td>\n",
       "      <td id=\"T_8f3bf_row1_col1\" class=\"data row1 col1\" >175</td>\n",
       "    </tr>\n",
       "    <tr>\n",
       "      <td id=\"T_8f3bf_row2_col0\" class=\"data row2 col0\" >A Mishra</td>\n",
       "      <td id=\"T_8f3bf_row2_col1\" class=\"data row2 col1\" >169</td>\n",
       "    </tr>\n",
       "    <tr>\n",
       "      <td id=\"T_8f3bf_row3_col0\" class=\"data row3 col0\" >PP Chawla</td>\n",
       "      <td id=\"T_8f3bf_row3_col1\" class=\"data row3 col1\" >164</td>\n",
       "    </tr>\n",
       "    <tr>\n",
       "      <td id=\"T_8f3bf_row4_col0\" class=\"data row4 col0\" >Harbhajan Singh</td>\n",
       "      <td id=\"T_8f3bf_row4_col1\" class=\"data row4 col1\" >161</td>\n",
       "    </tr>\n",
       "  </tbody>\n",
       "</table>\n"
      ],
      "text/plain": [
       "<pandas.io.formats.style.Styler at 0x299817c3e10>"
      ]
     },
     "execution_count": 114,
     "metadata": {},
     "output_type": "execute_result"
    }
   ],
   "source": [
    "temp_df = df_details[df_details['is_wicket'] == 1 ]\n",
    "temp_df = temp_df.groupby('bowler').sum().reset_index()\n",
    "temp_df = temp_df[['bowler', 'is_wicket']]\n",
    "temp_df.rename(columns= {'is_wicket':'wickets'} , inplace = True)\n",
    "temp_df.sort_values('wickets' , ascending=False).head().style.hide()"
   ]
  },
  {
   "cell_type": "markdown",
   "id": "0f4f50ff",
   "metadata": {},
   "source": [
    "#### Which stadium hosted most number of matches ? "
   ]
  },
  {
   "cell_type": "code",
   "execution_count": 117,
   "id": "859cd543",
   "metadata": {},
   "outputs": [
    {
     "data": {
      "text/plain": [
       "venue\n",
       "Eden Gardens                                            77\n",
       "Feroz Shah Kotla                                        73\n",
       "Wankhede Stadium                                        73\n",
       "Rajiv Gandhi International Stadium, Uppal               64\n",
       "M Chinnaswamy Stadium                                   63\n",
       "MA Chidambaram Stadium, Chepauk                         57\n",
       "Sawai Mansingh Stadium                                  47\n",
       "Punjab Cricket Association Stadium, Mohali              35\n",
       "Dubai International Cricket Stadium                     33\n",
       "Sheikh Zayed Stadium                                    29\n",
       "Punjab Cricket Association IS Bindra Stadium, Mohali    21\n",
       "Maharashtra Cricket Association Stadium                 21\n",
       "Sharjah Cricket Stadium                                 18\n",
       "Dr DY Patil Sports Academy                              17\n",
       "Subrata Roy Sahara Stadium                              17\n",
       "Kingsmead                                               15\n",
       "M.Chinnaswamy Stadium                                   14\n",
       "Dr. Y.S. Rajasekhara Reddy ACA-VDCA Cricket Stadium     13\n",
       "Sardar Patel Stadium, Motera                            12\n",
       "SuperSport Park                                         12\n",
       "Brabourne Stadium                                       11\n",
       "Saurashtra Cricket Association Stadium                  10\n",
       "Himachal Pradesh Cricket Association Stadium             9\n",
       "Holkar Cricket Stadium                                   9\n",
       "New Wanderers Stadium                                    8\n",
       "JSCA International Stadium Complex                       7\n",
       "Barabati Stadium                                         7\n",
       "St George's Park                                         7\n",
       "Newlands                                                 7\n",
       "Shaheed Veer Narayan Singh International Stadium         6\n",
       "Nehru Stadium                                            5\n",
       "Green Park                                               4\n",
       "Vidarbha Cricket Association Stadium, Jamtha             3\n",
       "De Beers Diamond Oval                                    3\n",
       "Buffalo Park                                             3\n",
       "OUTsurance Oval                                          2\n",
       "Name: count, dtype: int64"
      ]
     },
     "execution_count": 117,
     "metadata": {},
     "output_type": "execute_result"
    }
   ],
   "source": [
    "df_match['venue'].value_counts()"
   ]
  },
  {
   "cell_type": "markdown",
   "id": "e39d6130",
   "metadata": {},
   "source": [
    "As per 2020 Eden gardens have hosted most number of matches."
   ]
  },
  {
   "cell_type": "markdown",
   "id": "7f34cb80",
   "metadata": {},
   "source": [
    "#### Is there any lucky venue for any team ?"
   ]
  },
  {
   "cell_type": "code",
   "execution_count": 127,
   "id": "ef43d0b4",
   "metadata": {},
   "outputs": [],
   "source": [
    "# claculating winning percentage\n",
    "venue_team_winning_percentage = df_match.groupby(['venue', 'winner']).size().unstack(fill_value=0)\n",
    "venue_team_winning_percentage['total_matches'] = venue_team_winning_percentage.sum(axis=1)\n",
    "venue_team_winning_percentage['winning_percentage'] = (venue_team_winning_percentage.sum(axis=1) / venue_team_winning_percentage['total_matches']) * 100"
   ]
  },
  {
   "cell_type": "code",
   "execution_count": 126,
   "id": "72390e8b",
   "metadata": {},
   "outputs": [
    {
     "name": "stdout",
     "output_type": "stream",
     "text": [
      "Royal Challengers Bangalore has the highest winning percentage at Barabati Stadium with 150.00% \n",
      "\n",
      "Kings XI Punjab has the highest winning percentage at Barabati Stadium with 150.00% \n",
      "\n",
      "Delhi Daredevils has the highest winning percentage at Barabati Stadium with 150.00% \n",
      "\n",
      "Mumbai Indians has the highest winning percentage at Barabati Stadium with 150.00% \n",
      "\n",
      "Kolkata Knight Riders has the highest winning percentage at Barabati Stadium with 150.00% \n",
      "\n",
      "Rajasthan Royals has the highest winning percentage at Barabati Stadium with 150.00% \n",
      "\n",
      "Deccan Chargers has the highest winning percentage at Barabati Stadium with 150.00% \n",
      "\n",
      "Chennai Super Kings has the highest winning percentage at Barabati Stadium with 150.00% \n",
      "\n",
      "Kochi Tuskers Kerala has the highest winning percentage at Barabati Stadium with 150.00% \n",
      "\n",
      "Pune Warriors has the highest winning percentage at Barabati Stadium with 150.00% \n",
      "\n",
      "Sunrisers Hyderabad has the highest winning percentage at Barabati Stadium with 150.00% \n",
      "\n",
      "Gujarat Lions has the highest winning percentage at Barabati Stadium with 150.00% \n",
      "\n",
      "Rising Pune Supergiants has the highest winning percentage at Barabati Stadium with 150.00% \n",
      "\n",
      "Delhi Capitals has the highest winning percentage at Barabati Stadium with 150.00% \n",
      "\n"
     ]
    }
   ],
   "source": [
    "lucky_venues = {}\n",
    "for team in df_match['team1'].unique():\n",
    "    team_data = venue_team_winning_percentage.loc[:, [team, 'winning_percentage']].sort_values(by='winning_percentage', ascending=False).iloc[0]\n",
    "    lucky_venues[team] = {'venue': team_data.name, 'winning_percentage': team_data['winning_percentage']}\n",
    "\n",
    "# Print the lucky venues for each team\n",
    "for team, data in lucky_venues.items():\n",
    "    print(f\"{team} has the highest winning percentage at {data['venue']} with {data['winning_percentage']:.2f}% \\n\")"
   ]
  }
 ],
 "metadata": {
  "kernelspec": {
   "display_name": "Python 3 (ipykernel)",
   "language": "python",
   "name": "python3"
  },
  "language_info": {
   "codemirror_mode": {
    "name": "ipython",
    "version": 3
   },
   "file_extension": ".py",
   "mimetype": "text/x-python",
   "name": "python",
   "nbconvert_exporter": "python",
   "pygments_lexer": "ipython3",
   "version": "3.11.3"
  },
  "widgets": {
   "application/vnd.jupyter.widget-state+json": {
    "state": {},
    "version_major": 2,
    "version_minor": 0
   }
  }
 },
 "nbformat": 4,
 "nbformat_minor": 5
}
