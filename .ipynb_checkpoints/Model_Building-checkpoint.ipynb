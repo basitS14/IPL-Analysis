{
 "cells": [
  {
   "cell_type": "code",
   "execution_count": 1,
   "id": "cff6d8b6",
   "metadata": {},
   "outputs": [],
   "source": [
    "import pandas as pd \n",
    "import numpy as np"
   ]
  },
  {
   "cell_type": "code",
   "execution_count": 2,
   "id": "a8c98b5b",
   "metadata": {},
   "outputs": [],
   "source": [
    "pd.set_option('display.max_columns', 50)"
   ]
  },
  {
   "cell_type": "code",
   "execution_count": 3,
   "id": "d7624ace",
   "metadata": {},
   "outputs": [],
   "source": [
    "data = pd.read_csv('match_to_match_data.csv')\n",
    "ball_data = pd.read_csv('ball_to_ball_data.csv')"
   ]
  },
  {
   "cell_type": "code",
   "execution_count": 4,
   "id": "c2ceabce",
   "metadata": {
    "scrolled": false
   },
   "outputs": [
    {
     "data": {
      "text/html": [
       "<div>\n",
       "<style scoped>\n",
       "    .dataframe tbody tr th:only-of-type {\n",
       "        vertical-align: middle;\n",
       "    }\n",
       "\n",
       "    .dataframe tbody tr th {\n",
       "        vertical-align: top;\n",
       "    }\n",
       "\n",
       "    .dataframe thead th {\n",
       "        text-align: right;\n",
       "    }\n",
       "</style>\n",
       "<table border=\"1\" class=\"dataframe\">\n",
       "  <thead>\n",
       "    <tr style=\"text-align: right;\">\n",
       "      <th></th>\n",
       "      <th>Unnamed: 0</th>\n",
       "      <th>id</th>\n",
       "      <th>city</th>\n",
       "      <th>date</th>\n",
       "      <th>player_of_match</th>\n",
       "      <th>venue</th>\n",
       "      <th>neutral_venue</th>\n",
       "      <th>team1</th>\n",
       "      <th>team2</th>\n",
       "      <th>toss_winner</th>\n",
       "      <th>toss_decision</th>\n",
       "      <th>winner</th>\n",
       "      <th>result</th>\n",
       "      <th>result_margin</th>\n",
       "      <th>eliminator</th>\n",
       "      <th>method</th>\n",
       "      <th>umpire1</th>\n",
       "      <th>umpire2</th>\n",
       "      <th>season</th>\n",
       "      <th>first_inning_runs</th>\n",
       "      <th>second_inning_runs</th>\n",
       "      <th>total_runs</th>\n",
       "    </tr>\n",
       "  </thead>\n",
       "  <tbody>\n",
       "    <tr>\n",
       "      <th>0</th>\n",
       "      <td>0</td>\n",
       "      <td>335982</td>\n",
       "      <td>Bangalore</td>\n",
       "      <td>2008-04-18</td>\n",
       "      <td>BB McCullum</td>\n",
       "      <td>M Chinnaswamy Stadium</td>\n",
       "      <td>0</td>\n",
       "      <td>Royal Challengers Bangalore</td>\n",
       "      <td>Kolkata Knight Riders</td>\n",
       "      <td>Royal Challengers Bangalore</td>\n",
       "      <td>field</td>\n",
       "      <td>Kolkata Knight Riders</td>\n",
       "      <td>runs</td>\n",
       "      <td>140.0</td>\n",
       "      <td>N</td>\n",
       "      <td>Regular</td>\n",
       "      <td>Asad Rauf</td>\n",
       "      <td>RE Koertzen</td>\n",
       "      <td>2008</td>\n",
       "      <td>222</td>\n",
       "      <td>82</td>\n",
       "      <td>304</td>\n",
       "    </tr>\n",
       "    <tr>\n",
       "      <th>1</th>\n",
       "      <td>1</td>\n",
       "      <td>335983</td>\n",
       "      <td>Chandigarh</td>\n",
       "      <td>2008-04-19</td>\n",
       "      <td>MEK Hussey</td>\n",
       "      <td>Punjab Cricket Association Stadium, Mohali</td>\n",
       "      <td>0</td>\n",
       "      <td>Kings XI Punjab</td>\n",
       "      <td>Chennai Super Kings</td>\n",
       "      <td>Chennai Super Kings</td>\n",
       "      <td>bat</td>\n",
       "      <td>Chennai Super Kings</td>\n",
       "      <td>runs</td>\n",
       "      <td>33.0</td>\n",
       "      <td>N</td>\n",
       "      <td>Regular</td>\n",
       "      <td>MR Benson</td>\n",
       "      <td>SL Shastri</td>\n",
       "      <td>2008</td>\n",
       "      <td>240</td>\n",
       "      <td>207</td>\n",
       "      <td>447</td>\n",
       "    </tr>\n",
       "    <tr>\n",
       "      <th>2</th>\n",
       "      <td>2</td>\n",
       "      <td>335984</td>\n",
       "      <td>Delhi</td>\n",
       "      <td>2008-04-19</td>\n",
       "      <td>MF Maharoof</td>\n",
       "      <td>Feroz Shah Kotla</td>\n",
       "      <td>0</td>\n",
       "      <td>Delhi Daredevils</td>\n",
       "      <td>Rajasthan Royals</td>\n",
       "      <td>Rajasthan Royals</td>\n",
       "      <td>bat</td>\n",
       "      <td>Delhi Daredevils</td>\n",
       "      <td>wickets</td>\n",
       "      <td>9.0</td>\n",
       "      <td>N</td>\n",
       "      <td>Regular</td>\n",
       "      <td>Aleem Dar</td>\n",
       "      <td>GA Pratapkumar</td>\n",
       "      <td>2008</td>\n",
       "      <td>129</td>\n",
       "      <td>132</td>\n",
       "      <td>261</td>\n",
       "    </tr>\n",
       "    <tr>\n",
       "      <th>3</th>\n",
       "      <td>3</td>\n",
       "      <td>335985</td>\n",
       "      <td>Mumbai</td>\n",
       "      <td>2008-04-20</td>\n",
       "      <td>MV Boucher</td>\n",
       "      <td>Wankhede Stadium</td>\n",
       "      <td>0</td>\n",
       "      <td>Mumbai Indians</td>\n",
       "      <td>Royal Challengers Bangalore</td>\n",
       "      <td>Mumbai Indians</td>\n",
       "      <td>bat</td>\n",
       "      <td>Royal Challengers Bangalore</td>\n",
       "      <td>wickets</td>\n",
       "      <td>5.0</td>\n",
       "      <td>N</td>\n",
       "      <td>Regular</td>\n",
       "      <td>SJ Davis</td>\n",
       "      <td>DJ Harper</td>\n",
       "      <td>2008</td>\n",
       "      <td>165</td>\n",
       "      <td>166</td>\n",
       "      <td>331</td>\n",
       "    </tr>\n",
       "    <tr>\n",
       "      <th>4</th>\n",
       "      <td>4</td>\n",
       "      <td>335986</td>\n",
       "      <td>Kolkata</td>\n",
       "      <td>2008-04-20</td>\n",
       "      <td>DJ Hussey</td>\n",
       "      <td>Eden Gardens</td>\n",
       "      <td>0</td>\n",
       "      <td>Kolkata Knight Riders</td>\n",
       "      <td>Deccan Chargers</td>\n",
       "      <td>Deccan Chargers</td>\n",
       "      <td>bat</td>\n",
       "      <td>Kolkata Knight Riders</td>\n",
       "      <td>wickets</td>\n",
       "      <td>5.0</td>\n",
       "      <td>N</td>\n",
       "      <td>Regular</td>\n",
       "      <td>BF Bowden</td>\n",
       "      <td>K Hariharan</td>\n",
       "      <td>2008</td>\n",
       "      <td>110</td>\n",
       "      <td>112</td>\n",
       "      <td>222</td>\n",
       "    </tr>\n",
       "  </tbody>\n",
       "</table>\n",
       "</div>"
      ],
      "text/plain": [
       "   Unnamed: 0      id        city        date player_of_match  \\\n",
       "0           0  335982   Bangalore  2008-04-18     BB McCullum   \n",
       "1           1  335983  Chandigarh  2008-04-19      MEK Hussey   \n",
       "2           2  335984       Delhi  2008-04-19     MF Maharoof   \n",
       "3           3  335985      Mumbai  2008-04-20      MV Boucher   \n",
       "4           4  335986     Kolkata  2008-04-20       DJ Hussey   \n",
       "\n",
       "                                        venue  neutral_venue  \\\n",
       "0                       M Chinnaswamy Stadium              0   \n",
       "1  Punjab Cricket Association Stadium, Mohali              0   \n",
       "2                            Feroz Shah Kotla              0   \n",
       "3                            Wankhede Stadium              0   \n",
       "4                                Eden Gardens              0   \n",
       "\n",
       "                         team1                        team2  \\\n",
       "0  Royal Challengers Bangalore        Kolkata Knight Riders   \n",
       "1              Kings XI Punjab          Chennai Super Kings   \n",
       "2             Delhi Daredevils             Rajasthan Royals   \n",
       "3               Mumbai Indians  Royal Challengers Bangalore   \n",
       "4        Kolkata Knight Riders              Deccan Chargers   \n",
       "\n",
       "                   toss_winner toss_decision                       winner  \\\n",
       "0  Royal Challengers Bangalore         field        Kolkata Knight Riders   \n",
       "1          Chennai Super Kings           bat          Chennai Super Kings   \n",
       "2             Rajasthan Royals           bat             Delhi Daredevils   \n",
       "3               Mumbai Indians           bat  Royal Challengers Bangalore   \n",
       "4              Deccan Chargers           bat        Kolkata Knight Riders   \n",
       "\n",
       "    result  result_margin eliminator   method    umpire1         umpire2  \\\n",
       "0     runs          140.0          N  Regular  Asad Rauf     RE Koertzen   \n",
       "1     runs           33.0          N  Regular  MR Benson      SL Shastri   \n",
       "2  wickets            9.0          N  Regular  Aleem Dar  GA Pratapkumar   \n",
       "3  wickets            5.0          N  Regular   SJ Davis       DJ Harper   \n",
       "4  wickets            5.0          N  Regular  BF Bowden     K Hariharan   \n",
       "\n",
       "   season  first_inning_runs  second_inning_runs  total_runs  \n",
       "0    2008                222                  82         304  \n",
       "1    2008                240                 207         447  \n",
       "2    2008                129                 132         261  \n",
       "3    2008                165                 166         331  \n",
       "4    2008                110                 112         222  "
      ]
     },
     "execution_count": 4,
     "metadata": {},
     "output_type": "execute_result"
    }
   ],
   "source": [
    "data.head()"
   ]
  },
  {
   "cell_type": "code",
   "execution_count": 5,
   "id": "45e530ec",
   "metadata": {},
   "outputs": [
    {
     "data": {
      "text/html": [
       "<div>\n",
       "<style scoped>\n",
       "    .dataframe tbody tr th:only-of-type {\n",
       "        vertical-align: middle;\n",
       "    }\n",
       "\n",
       "    .dataframe tbody tr th {\n",
       "        vertical-align: top;\n",
       "    }\n",
       "\n",
       "    .dataframe thead th {\n",
       "        text-align: right;\n",
       "    }\n",
       "</style>\n",
       "<table border=\"1\" class=\"dataframe\">\n",
       "  <thead>\n",
       "    <tr style=\"text-align: right;\">\n",
       "      <th></th>\n",
       "      <th>Unnamed: 0</th>\n",
       "      <th>id</th>\n",
       "      <th>inning</th>\n",
       "      <th>over</th>\n",
       "      <th>ball</th>\n",
       "      <th>batsman</th>\n",
       "      <th>non_striker</th>\n",
       "      <th>bowler</th>\n",
       "      <th>batsman_runs</th>\n",
       "      <th>extra_runs</th>\n",
       "      <th>total_runs</th>\n",
       "      <th>non_boundary</th>\n",
       "      <th>is_wicket</th>\n",
       "      <th>dismissal_kind</th>\n",
       "      <th>player_dismissed</th>\n",
       "      <th>fielder</th>\n",
       "      <th>extras_type</th>\n",
       "      <th>batting_team</th>\n",
       "      <th>bowling_team</th>\n",
       "    </tr>\n",
       "  </thead>\n",
       "  <tbody>\n",
       "    <tr>\n",
       "      <th>0</th>\n",
       "      <td>0</td>\n",
       "      <td>335982</td>\n",
       "      <td>1</td>\n",
       "      <td>6</td>\n",
       "      <td>5</td>\n",
       "      <td>RT Ponting</td>\n",
       "      <td>BB McCullum</td>\n",
       "      <td>AA Noffke</td>\n",
       "      <td>1</td>\n",
       "      <td>0</td>\n",
       "      <td>1</td>\n",
       "      <td>0</td>\n",
       "      <td>0</td>\n",
       "      <td>not out</td>\n",
       "      <td>none</td>\n",
       "      <td>unknown</td>\n",
       "      <td>no extra</td>\n",
       "      <td>Kolkata Knight Riders</td>\n",
       "      <td>Royal Challengers Bangalore</td>\n",
       "    </tr>\n",
       "    <tr>\n",
       "      <th>1</th>\n",
       "      <td>1</td>\n",
       "      <td>335982</td>\n",
       "      <td>1</td>\n",
       "      <td>6</td>\n",
       "      <td>6</td>\n",
       "      <td>BB McCullum</td>\n",
       "      <td>RT Ponting</td>\n",
       "      <td>AA Noffke</td>\n",
       "      <td>1</td>\n",
       "      <td>0</td>\n",
       "      <td>1</td>\n",
       "      <td>0</td>\n",
       "      <td>0</td>\n",
       "      <td>not out</td>\n",
       "      <td>none</td>\n",
       "      <td>unknown</td>\n",
       "      <td>no extra</td>\n",
       "      <td>Kolkata Knight Riders</td>\n",
       "      <td>Royal Challengers Bangalore</td>\n",
       "    </tr>\n",
       "    <tr>\n",
       "      <th>2</th>\n",
       "      <td>2</td>\n",
       "      <td>335982</td>\n",
       "      <td>1</td>\n",
       "      <td>7</td>\n",
       "      <td>1</td>\n",
       "      <td>BB McCullum</td>\n",
       "      <td>RT Ponting</td>\n",
       "      <td>Z Khan</td>\n",
       "      <td>0</td>\n",
       "      <td>0</td>\n",
       "      <td>0</td>\n",
       "      <td>0</td>\n",
       "      <td>0</td>\n",
       "      <td>not out</td>\n",
       "      <td>none</td>\n",
       "      <td>unknown</td>\n",
       "      <td>no extra</td>\n",
       "      <td>Kolkata Knight Riders</td>\n",
       "      <td>Royal Challengers Bangalore</td>\n",
       "    </tr>\n",
       "    <tr>\n",
       "      <th>3</th>\n",
       "      <td>3</td>\n",
       "      <td>335982</td>\n",
       "      <td>1</td>\n",
       "      <td>7</td>\n",
       "      <td>2</td>\n",
       "      <td>BB McCullum</td>\n",
       "      <td>RT Ponting</td>\n",
       "      <td>Z Khan</td>\n",
       "      <td>1</td>\n",
       "      <td>0</td>\n",
       "      <td>1</td>\n",
       "      <td>0</td>\n",
       "      <td>0</td>\n",
       "      <td>not out</td>\n",
       "      <td>none</td>\n",
       "      <td>unknown</td>\n",
       "      <td>no extra</td>\n",
       "      <td>Kolkata Knight Riders</td>\n",
       "      <td>Royal Challengers Bangalore</td>\n",
       "    </tr>\n",
       "    <tr>\n",
       "      <th>4</th>\n",
       "      <td>4</td>\n",
       "      <td>335982</td>\n",
       "      <td>1</td>\n",
       "      <td>7</td>\n",
       "      <td>3</td>\n",
       "      <td>RT Ponting</td>\n",
       "      <td>BB McCullum</td>\n",
       "      <td>Z Khan</td>\n",
       "      <td>1</td>\n",
       "      <td>0</td>\n",
       "      <td>1</td>\n",
       "      <td>0</td>\n",
       "      <td>0</td>\n",
       "      <td>not out</td>\n",
       "      <td>none</td>\n",
       "      <td>unknown</td>\n",
       "      <td>no extra</td>\n",
       "      <td>Kolkata Knight Riders</td>\n",
       "      <td>Royal Challengers Bangalore</td>\n",
       "    </tr>\n",
       "  </tbody>\n",
       "</table>\n",
       "</div>"
      ],
      "text/plain": [
       "   Unnamed: 0      id  inning  over  ball      batsman  non_striker  \\\n",
       "0           0  335982       1     6     5   RT Ponting  BB McCullum   \n",
       "1           1  335982       1     6     6  BB McCullum   RT Ponting   \n",
       "2           2  335982       1     7     1  BB McCullum   RT Ponting   \n",
       "3           3  335982       1     7     2  BB McCullum   RT Ponting   \n",
       "4           4  335982       1     7     3   RT Ponting  BB McCullum   \n",
       "\n",
       "      bowler  batsman_runs  extra_runs  total_runs  non_boundary  is_wicket  \\\n",
       "0  AA Noffke             1           0           1             0          0   \n",
       "1  AA Noffke             1           0           1             0          0   \n",
       "2     Z Khan             0           0           0             0          0   \n",
       "3     Z Khan             1           0           1             0          0   \n",
       "4     Z Khan             1           0           1             0          0   \n",
       "\n",
       "  dismissal_kind player_dismissed  fielder extras_type           batting_team  \\\n",
       "0        not out             none  unknown    no extra  Kolkata Knight Riders   \n",
       "1        not out             none  unknown    no extra  Kolkata Knight Riders   \n",
       "2        not out             none  unknown    no extra  Kolkata Knight Riders   \n",
       "3        not out             none  unknown    no extra  Kolkata Knight Riders   \n",
       "4        not out             none  unknown    no extra  Kolkata Knight Riders   \n",
       "\n",
       "                  bowling_team  \n",
       "0  Royal Challengers Bangalore  \n",
       "1  Royal Challengers Bangalore  \n",
       "2  Royal Challengers Bangalore  \n",
       "3  Royal Challengers Bangalore  \n",
       "4  Royal Challengers Bangalore  "
      ]
     },
     "execution_count": 5,
     "metadata": {},
     "output_type": "execute_result"
    }
   ],
   "source": [
    "ball_data.head()"
   ]
  },
  {
   "cell_type": "code",
   "execution_count": 6,
   "id": "00ae37cc",
   "metadata": {},
   "outputs": [
    {
     "data": {
      "text/plain": [
       "Index(['Unnamed: 0', 'id', 'city', 'date', 'player_of_match', 'venue',\n",
       "       'neutral_venue', 'team1', 'team2', 'toss_winner', 'toss_decision',\n",
       "       'winner', 'result', 'result_margin', 'eliminator', 'method', 'umpire1',\n",
       "       'umpire2', 'season', 'first_inning_runs', 'second_inning_runs',\n",
       "       'total_runs'],\n",
       "      dtype='object')"
      ]
     },
     "execution_count": 6,
     "metadata": {},
     "output_type": "execute_result"
    }
   ],
   "source": [
    "data.columns"
   ]
  },
  {
   "cell_type": "markdown",
   "id": "36ac248c",
   "metadata": {},
   "source": [
    "## Preprocessing"
   ]
  },
  {
   "cell_type": "code",
   "execution_count": 7,
   "id": "01a6d8b6",
   "metadata": {},
   "outputs": [
    {
     "data": {
      "text/plain": [
       "array(['Royal Challengers Bangalore', 'Kings XI Punjab',\n",
       "       'Delhi Daredevils', 'Mumbai Indians', 'Kolkata Knight Riders',\n",
       "       'Rajasthan Royals', 'Deccan Chargers', 'Chennai Super Kings',\n",
       "       'Kochi Tuskers Kerala', 'Pune Warriors', 'Sunrisers Hyderabad',\n",
       "       'Gujarat Lions', 'Rising Pune Supergiants', 'Delhi Capitals'],\n",
       "      dtype=object)"
      ]
     },
     "execution_count": 7,
     "metadata": {},
     "output_type": "execute_result"
    }
   ],
   "source": [
    "data['team1'].unique()"
   ]
  },
  {
   "cell_type": "code",
   "execution_count": 8,
   "id": "169183fe",
   "metadata": {},
   "outputs": [],
   "source": [
    "# only taking active teams \n",
    "teams = ['Royal Challengers Bangalore', 'Kings XI Punjab',\n",
    "       'Delhi Daredevils', 'Mumbai Indians', 'Kolkata Knight Riders',\n",
    "       'Rajasthan Royals', 'Deccan Chargers', 'Chennai Super Kings','Sunrisers Hyderabad' ,'Delhi Capitals' ]\n",
    "\n",
    "data = data[data['team1'].isin(teams)]\n",
    "data = data[data['team2'].isin(teams)]\n",
    "\n",
    "data['team1']  =data['team1'].str.replace('Deccan Chargers' ,'Sunrisers Hyderabad' )\n",
    "data['team2']  =data['team2'].str.replace('Deccan Chargers' ,'Sunrisers Hyderabad' )\n",
    "\n",
    "data['team1']  =data['team1'].str.replace('Delhi Daredevils' ,'Delhi Capitals' )\n",
    "data['team2']  =data['team2'].str.replace('Delhi Daredevils' ,'Delhi Capitals' )\n",
    "\n"
   ]
  },
  {
   "cell_type": "code",
   "execution_count": 9,
   "id": "78cf76aa",
   "metadata": {},
   "outputs": [],
   "source": [
    "# for balls_data\n",
    "teams = ['Royal Challengers Bangalore', 'Kings XI Punjab',\n",
    "       'Delhi Daredevils', 'Mumbai Indians', 'Kolkata Knight Riders',\n",
    "       'Rajasthan Royals', 'Deccan Chargers', 'Chennai Super Kings','Sunrisers Hyderabad' ,'Delhi Capitals' ]\n",
    "\n",
    "ball_data = ball_data[ball_data['batting_team'].isin(teams)]\n",
    "ball_data = ball_data[ball_data['bowling_team'].isin(teams)]\n",
    "\n",
    "ball_data['batting_team']  =ball_data['batting_team'].str.replace('Deccan Chargers' ,'Sunrisers Hyderabad' )\n",
    "ball_data['bowling_team']  =ball_data['bowling_team'].str.replace('Deccan Chargers' ,'Sunrisers Hyderabad' )\n",
    "\n",
    "ball_data['batting_team']  =ball_data['batting_team'].str.replace('Delhi Daredevils' ,'Delhi Capitals' )\n",
    "ball_data['bowling_team']  =ball_data['bowling_team'].str.replace('Delhi Daredevils' ,'Delhi Capitals' )\n",
    "\n"
   ]
  },
  {
   "cell_type": "code",
   "execution_count": 10,
   "id": "c2bc13f0",
   "metadata": {},
   "outputs": [
    {
     "data": {
      "text/plain": [
       "(683, 22)"
      ]
     },
     "execution_count": 10,
     "metadata": {},
     "output_type": "execute_result"
    }
   ],
   "source": [
    "# removing DLS based matches\n",
    "data = data[data['method'] == 'Regular']\n",
    "data.shape"
   ]
  },
  {
   "cell_type": "code",
   "execution_count": 11,
   "id": "938305ec",
   "metadata": {},
   "outputs": [],
   "source": [
    "# removing DLS based matches from balls data\n",
    "ball_data = ball_data[ball_data['id'].isin(list(data['id']))]"
   ]
  },
  {
   "cell_type": "code",
   "execution_count": 12,
   "id": "8f8c42a5",
   "metadata": {},
   "outputs": [
    {
     "data": {
      "text/plain": [
       "683"
      ]
     },
     "execution_count": 12,
     "metadata": {},
     "output_type": "execute_result"
    }
   ],
   "source": [
    "ball_data['id'].nunique()"
   ]
  },
  {
   "cell_type": "code",
   "execution_count": 13,
   "id": "bc4528fa",
   "metadata": {},
   "outputs": [],
   "source": [
    "df = data[['id' , 'city' , 'first_inning_runs' , 'winner']]"
   ]
  },
  {
   "cell_type": "code",
   "execution_count": 14,
   "id": "c1a1e91d",
   "metadata": {},
   "outputs": [],
   "source": [
    "df = df.merge(ball_data , on = 'id')"
   ]
  },
  {
   "cell_type": "code",
   "execution_count": 15,
   "id": "60495d35",
   "metadata": {},
   "outputs": [],
   "source": [
    "# we will need probabibilty in second inning so we need only second inning balls\n",
    "df = df[df['inning'] == 2]"
   ]
  },
  {
   "cell_type": "markdown",
   "id": "9fe31d8c",
   "metadata": {},
   "source": [
    "## Feature Engineering"
   ]
  },
  {
   "cell_type": "code",
   "execution_count": 16,
   "id": "121a54d8",
   "metadata": {},
   "outputs": [],
   "source": [
    "df['current_score'] = df.groupby(['id']).cumsum(numeric_only = True)['total_runs']"
   ]
  },
  {
   "cell_type": "code",
   "execution_count": 17,
   "id": "2a514386",
   "metadata": {},
   "outputs": [],
   "source": [
    "df['runs_left'] = df['first_inning_runs'] +1 - df['current_score']"
   ]
  },
  {
   "cell_type": "code",
   "execution_count": 18,
   "id": "3dfa45a5",
   "metadata": {
    "scrolled": true
   },
   "outputs": [],
   "source": [
    "df['balls_left'] = 126 - (df['over']*6 + df['ball']) "
   ]
  },
  {
   "cell_type": "code",
   "execution_count": 19,
   "id": "7debce5e",
   "metadata": {},
   "outputs": [
    {
     "name": "stderr",
     "output_type": "stream",
     "text": [
      "C:\\Users\\windows\\AppData\\Local\\Temp\\ipykernel_22396\\3932963648.py:5: FutureWarning: The default value of numeric_only in DataFrameGroupBy.cumsum is deprecated. In a future version, numeric_only will default to False. Either specify numeric_only or select only columns which should be valid for the function.\n",
      "  wickets = df.groupby('id').cumsum()['player_dismissed'].values\n"
     ]
    }
   ],
   "source": [
    "# for calculating wickets left \n",
    "df['player_dismissed'] = df['player_dismissed'].str.replace('none'  ,'0')\n",
    "df['player_dismissed']  = df['player_dismissed'].apply(lambda x:x if x == '0' else '1')\n",
    "df['player_dismissed']  = df['player_dismissed'].astype('int')\n",
    "wickets = df.groupby('id').cumsum()['player_dismissed'].values\n",
    "df['wickets'] = 10 - wickets"
   ]
  },
  {
   "cell_type": "code",
   "execution_count": 20,
   "id": "fbfa0ee8",
   "metadata": {},
   "outputs": [
    {
     "data": {
      "text/html": [
       "<div>\n",
       "<style scoped>\n",
       "    .dataframe tbody tr th:only-of-type {\n",
       "        vertical-align: middle;\n",
       "    }\n",
       "\n",
       "    .dataframe tbody tr th {\n",
       "        vertical-align: top;\n",
       "    }\n",
       "\n",
       "    .dataframe thead th {\n",
       "        text-align: right;\n",
       "    }\n",
       "</style>\n",
       "<table border=\"1\" class=\"dataframe\">\n",
       "  <thead>\n",
       "    <tr style=\"text-align: right;\">\n",
       "      <th></th>\n",
       "      <th>id</th>\n",
       "      <th>city</th>\n",
       "      <th>first_inning_runs</th>\n",
       "      <th>winner</th>\n",
       "      <th>Unnamed: 0</th>\n",
       "      <th>inning</th>\n",
       "      <th>over</th>\n",
       "      <th>ball</th>\n",
       "      <th>batsman</th>\n",
       "      <th>non_striker</th>\n",
       "      <th>bowler</th>\n",
       "      <th>batsman_runs</th>\n",
       "      <th>extra_runs</th>\n",
       "      <th>total_runs</th>\n",
       "      <th>non_boundary</th>\n",
       "      <th>is_wicket</th>\n",
       "      <th>dismissal_kind</th>\n",
       "      <th>player_dismissed</th>\n",
       "      <th>fielder</th>\n",
       "      <th>extras_type</th>\n",
       "      <th>batting_team</th>\n",
       "      <th>bowling_team</th>\n",
       "      <th>current_score</th>\n",
       "      <th>runs_left</th>\n",
       "      <th>balls_left</th>\n",
       "      <th>wickets</th>\n",
       "    </tr>\n",
       "  </thead>\n",
       "  <tbody>\n",
       "    <tr>\n",
       "      <th>121</th>\n",
       "      <td>335982</td>\n",
       "      <td>Bangalore</td>\n",
       "      <td>222</td>\n",
       "      <td>Kolkata Knight Riders</td>\n",
       "      <td>121</td>\n",
       "      <td>2</td>\n",
       "      <td>6</td>\n",
       "      <td>2</td>\n",
       "      <td>CL White</td>\n",
       "      <td>MV Boucher</td>\n",
       "      <td>AB Agarkar</td>\n",
       "      <td>0</td>\n",
       "      <td>0</td>\n",
       "      <td>0</td>\n",
       "      <td>0</td>\n",
       "      <td>0</td>\n",
       "      <td>not out</td>\n",
       "      <td>0</td>\n",
       "      <td>unknown</td>\n",
       "      <td>no extra</td>\n",
       "      <td>Royal Challengers Bangalore</td>\n",
       "      <td>Kolkata Knight Riders</td>\n",
       "      <td>0</td>\n",
       "      <td>223</td>\n",
       "      <td>88</td>\n",
       "      <td>10</td>\n",
       "    </tr>\n",
       "    <tr>\n",
       "      <th>122</th>\n",
       "      <td>335982</td>\n",
       "      <td>Bangalore</td>\n",
       "      <td>222</td>\n",
       "      <td>Kolkata Knight Riders</td>\n",
       "      <td>122</td>\n",
       "      <td>2</td>\n",
       "      <td>6</td>\n",
       "      <td>3</td>\n",
       "      <td>CL White</td>\n",
       "      <td>MV Boucher</td>\n",
       "      <td>AB Agarkar</td>\n",
       "      <td>1</td>\n",
       "      <td>0</td>\n",
       "      <td>1</td>\n",
       "      <td>0</td>\n",
       "      <td>0</td>\n",
       "      <td>not out</td>\n",
       "      <td>0</td>\n",
       "      <td>unknown</td>\n",
       "      <td>no extra</td>\n",
       "      <td>Royal Challengers Bangalore</td>\n",
       "      <td>Kolkata Knight Riders</td>\n",
       "      <td>1</td>\n",
       "      <td>222</td>\n",
       "      <td>87</td>\n",
       "      <td>10</td>\n",
       "    </tr>\n",
       "    <tr>\n",
       "      <th>123</th>\n",
       "      <td>335982</td>\n",
       "      <td>Bangalore</td>\n",
       "      <td>222</td>\n",
       "      <td>Kolkata Knight Riders</td>\n",
       "      <td>123</td>\n",
       "      <td>2</td>\n",
       "      <td>6</td>\n",
       "      <td>4</td>\n",
       "      <td>MV Boucher</td>\n",
       "      <td>CL White</td>\n",
       "      <td>AB Agarkar</td>\n",
       "      <td>0</td>\n",
       "      <td>1</td>\n",
       "      <td>1</td>\n",
       "      <td>0</td>\n",
       "      <td>0</td>\n",
       "      <td>not out</td>\n",
       "      <td>0</td>\n",
       "      <td>unknown</td>\n",
       "      <td>wides</td>\n",
       "      <td>Royal Challengers Bangalore</td>\n",
       "      <td>Kolkata Knight Riders</td>\n",
       "      <td>2</td>\n",
       "      <td>221</td>\n",
       "      <td>86</td>\n",
       "      <td>10</td>\n",
       "    </tr>\n",
       "    <tr>\n",
       "      <th>124</th>\n",
       "      <td>335982</td>\n",
       "      <td>Bangalore</td>\n",
       "      <td>222</td>\n",
       "      <td>Kolkata Knight Riders</td>\n",
       "      <td>124</td>\n",
       "      <td>2</td>\n",
       "      <td>6</td>\n",
       "      <td>5</td>\n",
       "      <td>MV Boucher</td>\n",
       "      <td>CL White</td>\n",
       "      <td>AB Agarkar</td>\n",
       "      <td>0</td>\n",
       "      <td>1</td>\n",
       "      <td>1</td>\n",
       "      <td>0</td>\n",
       "      <td>0</td>\n",
       "      <td>not out</td>\n",
       "      <td>0</td>\n",
       "      <td>unknown</td>\n",
       "      <td>wides</td>\n",
       "      <td>Royal Challengers Bangalore</td>\n",
       "      <td>Kolkata Knight Riders</td>\n",
       "      <td>3</td>\n",
       "      <td>220</td>\n",
       "      <td>85</td>\n",
       "      <td>10</td>\n",
       "    </tr>\n",
       "    <tr>\n",
       "      <th>125</th>\n",
       "      <td>335982</td>\n",
       "      <td>Bangalore</td>\n",
       "      <td>222</td>\n",
       "      <td>Kolkata Knight Riders</td>\n",
       "      <td>125</td>\n",
       "      <td>2</td>\n",
       "      <td>6</td>\n",
       "      <td>6</td>\n",
       "      <td>MV Boucher</td>\n",
       "      <td>CL White</td>\n",
       "      <td>AB Agarkar</td>\n",
       "      <td>0</td>\n",
       "      <td>0</td>\n",
       "      <td>0</td>\n",
       "      <td>0</td>\n",
       "      <td>0</td>\n",
       "      <td>not out</td>\n",
       "      <td>0</td>\n",
       "      <td>unknown</td>\n",
       "      <td>no extra</td>\n",
       "      <td>Royal Challengers Bangalore</td>\n",
       "      <td>Kolkata Knight Riders</td>\n",
       "      <td>3</td>\n",
       "      <td>220</td>\n",
       "      <td>84</td>\n",
       "      <td>10</td>\n",
       "    </tr>\n",
       "  </tbody>\n",
       "</table>\n",
       "</div>"
      ],
      "text/plain": [
       "         id       city  first_inning_runs                 winner  Unnamed: 0  \\\n",
       "121  335982  Bangalore                222  Kolkata Knight Riders         121   \n",
       "122  335982  Bangalore                222  Kolkata Knight Riders         122   \n",
       "123  335982  Bangalore                222  Kolkata Knight Riders         123   \n",
       "124  335982  Bangalore                222  Kolkata Knight Riders         124   \n",
       "125  335982  Bangalore                222  Kolkata Knight Riders         125   \n",
       "\n",
       "     inning  over  ball     batsman non_striker      bowler  batsman_runs  \\\n",
       "121       2     6     2    CL White  MV Boucher  AB Agarkar             0   \n",
       "122       2     6     3    CL White  MV Boucher  AB Agarkar             1   \n",
       "123       2     6     4  MV Boucher    CL White  AB Agarkar             0   \n",
       "124       2     6     5  MV Boucher    CL White  AB Agarkar             0   \n",
       "125       2     6     6  MV Boucher    CL White  AB Agarkar             0   \n",
       "\n",
       "     extra_runs  total_runs  non_boundary  is_wicket dismissal_kind  \\\n",
       "121           0           0             0          0        not out   \n",
       "122           0           1             0          0        not out   \n",
       "123           1           1             0          0        not out   \n",
       "124           1           1             0          0        not out   \n",
       "125           0           0             0          0        not out   \n",
       "\n",
       "     player_dismissed  fielder extras_type                 batting_team  \\\n",
       "121                 0  unknown    no extra  Royal Challengers Bangalore   \n",
       "122                 0  unknown    no extra  Royal Challengers Bangalore   \n",
       "123                 0  unknown       wides  Royal Challengers Bangalore   \n",
       "124                 0  unknown       wides  Royal Challengers Bangalore   \n",
       "125                 0  unknown    no extra  Royal Challengers Bangalore   \n",
       "\n",
       "              bowling_team  current_score  runs_left  balls_left  wickets  \n",
       "121  Kolkata Knight Riders              0        223          88       10  \n",
       "122  Kolkata Knight Riders              1        222          87       10  \n",
       "123  Kolkata Knight Riders              2        221          86       10  \n",
       "124  Kolkata Knight Riders              3        220          85       10  \n",
       "125  Kolkata Knight Riders              3        220          84       10  "
      ]
     },
     "execution_count": 20,
     "metadata": {},
     "output_type": "execute_result"
    }
   ],
   "source": [
    "df.head()"
   ]
  },
  {
   "cell_type": "code",
   "execution_count": 21,
   "id": "ad7bad95",
   "metadata": {},
   "outputs": [],
   "source": [
    "# current run rate \n",
    "df['crr'] = round((df['current_score'] * 6) / (120 - df['balls_left']) ,2 )"
   ]
  },
  {
   "cell_type": "code",
   "execution_count": 22,
   "id": "605ef292",
   "metadata": {},
   "outputs": [],
   "source": [
    "# required run rate\n",
    "df['rrr'] = round((df['runs_left']*6) / df['balls_left'] , 2)"
   ]
  },
  {
   "cell_type": "code",
   "execution_count": 23,
   "id": "6b837654",
   "metadata": {},
   "outputs": [],
   "source": [
    "# result columns\n",
    "\n",
    "def result(rows):\n",
    "    return 1 if rows['batting_team'] == rows['winner'] else 0"
   ]
  },
  {
   "cell_type": "code",
   "execution_count": 24,
   "id": "08e5a142",
   "metadata": {},
   "outputs": [],
   "source": [
    "df['result'] =  df.apply(result , axis=1)"
   ]
  },
  {
   "cell_type": "code",
   "execution_count": 25,
   "id": "776dc948",
   "metadata": {},
   "outputs": [
    {
     "data": {
      "text/plain": [
       "Index(['id', 'city', 'first_inning_runs', 'winner', 'Unnamed: 0', 'inning',\n",
       "       'over', 'ball', 'batsman', 'non_striker', 'bowler', 'batsman_runs',\n",
       "       'extra_runs', 'total_runs', 'non_boundary', 'is_wicket',\n",
       "       'dismissal_kind', 'player_dismissed', 'fielder', 'extras_type',\n",
       "       'batting_team', 'bowling_team', 'current_score', 'runs_left',\n",
       "       'balls_left', 'wickets', 'crr', 'rrr', 'result'],\n",
       "      dtype='object')"
      ]
     },
     "execution_count": 25,
     "metadata": {},
     "output_type": "execute_result"
    }
   ],
   "source": [
    "df.columns"
   ]
  },
  {
   "cell_type": "markdown",
   "id": "feaa91b6",
   "metadata": {},
   "source": [
    "## Model Building"
   ]
  },
  {
   "cell_type": "code",
   "execution_count": 42,
   "id": "48e27449",
   "metadata": {},
   "outputs": [],
   "source": [
    "from sklearn.model_selection import train_test_split\n",
    "from sklearn.compose import ColumnTransformer \n",
    "from sklearn.preprocessing import OneHotEncoder\n",
    "from sklearn.pipeline import Pipeline\n",
    "\n",
    "from sklearn.linear_model import LogisticRegression\n",
    "from sklearn.metrics import accuracy_score"
   ]
  },
  {
   "cell_type": "code",
   "execution_count": 27,
   "id": "52543c6a",
   "metadata": {},
   "outputs": [],
   "source": [
    "model_df = df[['batting_team' , 'bowling_team' , 'city' , 'current_score', 'runs_left',\n",
    "       'balls_left', 'wickets', 'crr', 'rrr', 'result']]"
   ]
  },
  {
   "cell_type": "code",
   "execution_count": 28,
   "id": "80a5a8c4",
   "metadata": {},
   "outputs": [
    {
     "data": {
      "text/html": [
       "<div>\n",
       "<style scoped>\n",
       "    .dataframe tbody tr th:only-of-type {\n",
       "        vertical-align: middle;\n",
       "    }\n",
       "\n",
       "    .dataframe tbody tr th {\n",
       "        vertical-align: top;\n",
       "    }\n",
       "\n",
       "    .dataframe thead th {\n",
       "        text-align: right;\n",
       "    }\n",
       "</style>\n",
       "<table border=\"1\" class=\"dataframe\">\n",
       "  <thead>\n",
       "    <tr style=\"text-align: right;\">\n",
       "      <th></th>\n",
       "      <th>batting_team</th>\n",
       "      <th>bowling_team</th>\n",
       "      <th>city</th>\n",
       "      <th>current_score</th>\n",
       "      <th>runs_left</th>\n",
       "      <th>balls_left</th>\n",
       "      <th>wickets</th>\n",
       "      <th>crr</th>\n",
       "      <th>rrr</th>\n",
       "      <th>result</th>\n",
       "    </tr>\n",
       "  </thead>\n",
       "  <tbody>\n",
       "    <tr>\n",
       "      <th>121</th>\n",
       "      <td>Royal Challengers Bangalore</td>\n",
       "      <td>Kolkata Knight Riders</td>\n",
       "      <td>Bangalore</td>\n",
       "      <td>0</td>\n",
       "      <td>223</td>\n",
       "      <td>88</td>\n",
       "      <td>10</td>\n",
       "      <td>0.00</td>\n",
       "      <td>15.20</td>\n",
       "      <td>0</td>\n",
       "    </tr>\n",
       "    <tr>\n",
       "      <th>122</th>\n",
       "      <td>Royal Challengers Bangalore</td>\n",
       "      <td>Kolkata Knight Riders</td>\n",
       "      <td>Bangalore</td>\n",
       "      <td>1</td>\n",
       "      <td>222</td>\n",
       "      <td>87</td>\n",
       "      <td>10</td>\n",
       "      <td>0.18</td>\n",
       "      <td>15.31</td>\n",
       "      <td>0</td>\n",
       "    </tr>\n",
       "    <tr>\n",
       "      <th>123</th>\n",
       "      <td>Royal Challengers Bangalore</td>\n",
       "      <td>Kolkata Knight Riders</td>\n",
       "      <td>Bangalore</td>\n",
       "      <td>2</td>\n",
       "      <td>221</td>\n",
       "      <td>86</td>\n",
       "      <td>10</td>\n",
       "      <td>0.35</td>\n",
       "      <td>15.42</td>\n",
       "      <td>0</td>\n",
       "    </tr>\n",
       "    <tr>\n",
       "      <th>124</th>\n",
       "      <td>Royal Challengers Bangalore</td>\n",
       "      <td>Kolkata Knight Riders</td>\n",
       "      <td>Bangalore</td>\n",
       "      <td>3</td>\n",
       "      <td>220</td>\n",
       "      <td>85</td>\n",
       "      <td>10</td>\n",
       "      <td>0.51</td>\n",
       "      <td>15.53</td>\n",
       "      <td>0</td>\n",
       "    </tr>\n",
       "    <tr>\n",
       "      <th>125</th>\n",
       "      <td>Royal Challengers Bangalore</td>\n",
       "      <td>Kolkata Knight Riders</td>\n",
       "      <td>Bangalore</td>\n",
       "      <td>3</td>\n",
       "      <td>220</td>\n",
       "      <td>84</td>\n",
       "      <td>10</td>\n",
       "      <td>0.50</td>\n",
       "      <td>15.71</td>\n",
       "      <td>0</td>\n",
       "    </tr>\n",
       "  </tbody>\n",
       "</table>\n",
       "</div>"
      ],
      "text/plain": [
       "                    batting_team           bowling_team       city  \\\n",
       "121  Royal Challengers Bangalore  Kolkata Knight Riders  Bangalore   \n",
       "122  Royal Challengers Bangalore  Kolkata Knight Riders  Bangalore   \n",
       "123  Royal Challengers Bangalore  Kolkata Knight Riders  Bangalore   \n",
       "124  Royal Challengers Bangalore  Kolkata Knight Riders  Bangalore   \n",
       "125  Royal Challengers Bangalore  Kolkata Knight Riders  Bangalore   \n",
       "\n",
       "     current_score  runs_left  balls_left  wickets   crr    rrr  result  \n",
       "121              0        223          88       10  0.00  15.20       0  \n",
       "122              1        222          87       10  0.18  15.31       0  \n",
       "123              2        221          86       10  0.35  15.42       0  \n",
       "124              3        220          85       10  0.51  15.53       0  \n",
       "125              3        220          84       10  0.50  15.71       0  "
      ]
     },
     "execution_count": 28,
     "metadata": {},
     "output_type": "execute_result"
    }
   ],
   "source": [
    "model_df.head()"
   ]
  },
  {
   "cell_type": "code",
   "execution_count": 29,
   "id": "3f3b69e5",
   "metadata": {},
   "outputs": [],
   "source": [
    "# shuffling model\n",
    "model_df = model_df.sample(model_df.shape[0])"
   ]
  },
  {
   "cell_type": "code",
   "execution_count": 30,
   "id": "f214f2f5",
   "metadata": {},
   "outputs": [
    {
     "data": {
      "text/plain": [
       "batting_team      0\n",
       "bowling_team      0\n",
       "city              0\n",
       "current_score     0\n",
       "runs_left         0\n",
       "balls_left        0\n",
       "wickets           0\n",
       "crr              16\n",
       "rrr               0\n",
       "result            0\n",
       "dtype: int64"
      ]
     },
     "execution_count": 30,
     "metadata": {},
     "output_type": "execute_result"
    }
   ],
   "source": [
    "model_df.isnull().sum()"
   ]
  },
  {
   "cell_type": "code",
   "execution_count": 31,
   "id": "b729c643",
   "metadata": {},
   "outputs": [],
   "source": [
    "model_df.dropna(inplace=True)"
   ]
  },
  {
   "cell_type": "code",
   "execution_count": 32,
   "id": "07a5c432",
   "metadata": {},
   "outputs": [
    {
     "data": {
      "text/html": [
       "<div>\n",
       "<style scoped>\n",
       "    .dataframe tbody tr th:only-of-type {\n",
       "        vertical-align: middle;\n",
       "    }\n",
       "\n",
       "    .dataframe tbody tr th {\n",
       "        vertical-align: top;\n",
       "    }\n",
       "\n",
       "    .dataframe thead th {\n",
       "        text-align: right;\n",
       "    }\n",
       "</style>\n",
       "<table border=\"1\" class=\"dataframe\">\n",
       "  <thead>\n",
       "    <tr style=\"text-align: right;\">\n",
       "      <th></th>\n",
       "      <th>current_score</th>\n",
       "      <th>runs_left</th>\n",
       "      <th>balls_left</th>\n",
       "      <th>wickets</th>\n",
       "      <th>crr</th>\n",
       "      <th>rrr</th>\n",
       "      <th>result</th>\n",
       "    </tr>\n",
       "  </thead>\n",
       "  <tbody>\n",
       "    <tr>\n",
       "      <th>count</th>\n",
       "      <td>79407.000000</td>\n",
       "      <td>79407.000000</td>\n",
       "      <td>79407.000000</td>\n",
       "      <td>79407.000000</td>\n",
       "      <td>79407.00</td>\n",
       "      <td>79407.000000</td>\n",
       "      <td>79407.000000</td>\n",
       "    </tr>\n",
       "    <tr>\n",
       "      <th>mean</th>\n",
       "      <td>75.522762</td>\n",
       "      <td>90.322289</td>\n",
       "      <td>68.585314</td>\n",
       "      <td>7.145264</td>\n",
       "      <td>inf</td>\n",
       "      <td>11.394669</td>\n",
       "      <td>0.458322</td>\n",
       "    </tr>\n",
       "    <tr>\n",
       "      <th>std</th>\n",
       "      <td>47.413149</td>\n",
       "      <td>50.688584</td>\n",
       "      <td>33.405873</td>\n",
       "      <td>2.441785</td>\n",
       "      <td>NaN</td>\n",
       "      <td>13.986054</td>\n",
       "      <td>0.498263</td>\n",
       "    </tr>\n",
       "    <tr>\n",
       "      <th>min</th>\n",
       "      <td>0.000000</td>\n",
       "      <td>-5.000000</td>\n",
       "      <td>3.000000</td>\n",
       "      <td>0.000000</td>\n",
       "      <td>-1068.00</td>\n",
       "      <td>-3.330000</td>\n",
       "      <td>0.000000</td>\n",
       "    </tr>\n",
       "    <tr>\n",
       "      <th>25%</th>\n",
       "      <td>35.000000</td>\n",
       "      <td>49.000000</td>\n",
       "      <td>41.000000</td>\n",
       "      <td>6.000000</td>\n",
       "      <td>4.20</td>\n",
       "      <td>4.380000</td>\n",
       "      <td>0.000000</td>\n",
       "    </tr>\n",
       "    <tr>\n",
       "      <th>50%</th>\n",
       "      <td>73.000000</td>\n",
       "      <td>89.000000</td>\n",
       "      <td>69.000000</td>\n",
       "      <td>8.000000</td>\n",
       "      <td>8.02</td>\n",
       "      <td>8.190000</td>\n",
       "      <td>0.000000</td>\n",
       "    </tr>\n",
       "    <tr>\n",
       "      <th>75%</th>\n",
       "      <td>112.000000</td>\n",
       "      <td>129.000000</td>\n",
       "      <td>97.000000</td>\n",
       "      <td>9.000000</td>\n",
       "      <td>14.67</td>\n",
       "      <td>13.250000</td>\n",
       "      <td>1.000000</td>\n",
       "    </tr>\n",
       "    <tr>\n",
       "      <th>max</th>\n",
       "      <td>226.000000</td>\n",
       "      <td>247.000000</td>\n",
       "      <td>125.000000</td>\n",
       "      <td>10.000000</td>\n",
       "      <td>inf</td>\n",
       "      <td>398.000000</td>\n",
       "      <td>1.000000</td>\n",
       "    </tr>\n",
       "  </tbody>\n",
       "</table>\n",
       "</div>"
      ],
      "text/plain": [
       "       current_score     runs_left    balls_left       wickets       crr  \\\n",
       "count   79407.000000  79407.000000  79407.000000  79407.000000  79407.00   \n",
       "mean       75.522762     90.322289     68.585314      7.145264       inf   \n",
       "std        47.413149     50.688584     33.405873      2.441785       NaN   \n",
       "min         0.000000     -5.000000      3.000000      0.000000  -1068.00   \n",
       "25%        35.000000     49.000000     41.000000      6.000000      4.20   \n",
       "50%        73.000000     89.000000     69.000000      8.000000      8.02   \n",
       "75%       112.000000    129.000000     97.000000      9.000000     14.67   \n",
       "max       226.000000    247.000000    125.000000     10.000000       inf   \n",
       "\n",
       "                rrr        result  \n",
       "count  79407.000000  79407.000000  \n",
       "mean      11.394669      0.458322  \n",
       "std       13.986054      0.498263  \n",
       "min       -3.330000      0.000000  \n",
       "25%        4.380000      0.000000  \n",
       "50%        8.190000      0.000000  \n",
       "75%       13.250000      1.000000  \n",
       "max      398.000000      1.000000  "
      ]
     },
     "execution_count": 32,
     "metadata": {},
     "output_type": "execute_result"
    }
   ],
   "source": [
    "model_df.describe()"
   ]
  },
  {
   "cell_type": "code",
   "execution_count": 33,
   "id": "05f68ece",
   "metadata": {},
   "outputs": [],
   "source": [
    "# to remove infinite in crr\n",
    "model_df = model_df[model_df['balls_left'] != 120]"
   ]
  },
  {
   "cell_type": "code",
   "execution_count": 34,
   "id": "3cf54bf0",
   "metadata": {},
   "outputs": [],
   "source": [
    "X = model_df.drop(columns=['result'])\n",
    "y = model_df['result']"
   ]
  },
  {
   "cell_type": "code",
   "execution_count": 35,
   "id": "51e58fd6",
   "metadata": {},
   "outputs": [],
   "source": [
    "X_train , X_test , y_train , y_test = train_test_split(X , y , random_state=1 , test_size=0.2 )"
   ]
  },
  {
   "cell_type": "code",
   "execution_count": 36,
   "id": "d10b309f",
   "metadata": {},
   "outputs": [],
   "source": [
    "oh_enc = OneHotEncoder(sparse=False , drop='first')\n",
    "feat_cols = model_df.select_dtypes('object').columns"
   ]
  },
  {
   "cell_type": "code",
   "execution_count": 37,
   "id": "84bd607b",
   "metadata": {},
   "outputs": [],
   "source": [
    "preprocessor = ColumnTransformer([\n",
    "    ('OneHotEncoding' , oh_enc , feat_cols)\n",
    "] , remainder='passthrough')"
   ]
  },
  {
   "cell_type": "code",
   "execution_count": 38,
   "id": "9055f449",
   "metadata": {},
   "outputs": [],
   "source": [
    "pipe = Pipeline(steps=[\n",
    "    ('step1' , preprocessor),\n",
    "    ('step2' ,LogisticRegression() )\n",
    "])"
   ]
  },
  {
   "cell_type": "code",
   "execution_count": 39,
   "id": "88cb0891",
   "metadata": {},
   "outputs": [
    {
     "name": "stderr",
     "output_type": "stream",
     "text": [
      "C:\\Users\\windows\\anaconda3\\Lib\\site-packages\\sklearn\\preprocessing\\_encoders.py:868: FutureWarning: `sparse` was renamed to `sparse_output` in version 1.2 and will be removed in 1.4. `sparse_output` is ignored unless you leave `sparse` to its default value.\n",
      "  warnings.warn(\n",
      "C:\\Users\\windows\\anaconda3\\Lib\\site-packages\\sklearn\\linear_model\\_logistic.py:458: ConvergenceWarning: lbfgs failed to converge (status=1):\n",
      "STOP: TOTAL NO. of ITERATIONS REACHED LIMIT.\n",
      "\n",
      "Increase the number of iterations (max_iter) or scale the data as shown in:\n",
      "    https://scikit-learn.org/stable/modules/preprocessing.html\n",
      "Please also refer to the documentation for alternative solver options:\n",
      "    https://scikit-learn.org/stable/modules/linear_model.html#logistic-regression\n",
      "  n_iter_i = _check_optimize_result(\n"
     ]
    },
    {
     "data": {
      "text/html": [
       "<style>#sk-container-id-1 {color: black;background-color: white;}#sk-container-id-1 pre{padding: 0;}#sk-container-id-1 div.sk-toggleable {background-color: white;}#sk-container-id-1 label.sk-toggleable__label {cursor: pointer;display: block;width: 100%;margin-bottom: 0;padding: 0.3em;box-sizing: border-box;text-align: center;}#sk-container-id-1 label.sk-toggleable__label-arrow:before {content: \"▸\";float: left;margin-right: 0.25em;color: #696969;}#sk-container-id-1 label.sk-toggleable__label-arrow:hover:before {color: black;}#sk-container-id-1 div.sk-estimator:hover label.sk-toggleable__label-arrow:before {color: black;}#sk-container-id-1 div.sk-toggleable__content {max-height: 0;max-width: 0;overflow: hidden;text-align: left;background-color: #f0f8ff;}#sk-container-id-1 div.sk-toggleable__content pre {margin: 0.2em;color: black;border-radius: 0.25em;background-color: #f0f8ff;}#sk-container-id-1 input.sk-toggleable__control:checked~div.sk-toggleable__content {max-height: 200px;max-width: 100%;overflow: auto;}#sk-container-id-1 input.sk-toggleable__control:checked~label.sk-toggleable__label-arrow:before {content: \"▾\";}#sk-container-id-1 div.sk-estimator input.sk-toggleable__control:checked~label.sk-toggleable__label {background-color: #d4ebff;}#sk-container-id-1 div.sk-label input.sk-toggleable__control:checked~label.sk-toggleable__label {background-color: #d4ebff;}#sk-container-id-1 input.sk-hidden--visually {border: 0;clip: rect(1px 1px 1px 1px);clip: rect(1px, 1px, 1px, 1px);height: 1px;margin: -1px;overflow: hidden;padding: 0;position: absolute;width: 1px;}#sk-container-id-1 div.sk-estimator {font-family: monospace;background-color: #f0f8ff;border: 1px dotted black;border-radius: 0.25em;box-sizing: border-box;margin-bottom: 0.5em;}#sk-container-id-1 div.sk-estimator:hover {background-color: #d4ebff;}#sk-container-id-1 div.sk-parallel-item::after {content: \"\";width: 100%;border-bottom: 1px solid gray;flex-grow: 1;}#sk-container-id-1 div.sk-label:hover label.sk-toggleable__label {background-color: #d4ebff;}#sk-container-id-1 div.sk-serial::before {content: \"\";position: absolute;border-left: 1px solid gray;box-sizing: border-box;top: 0;bottom: 0;left: 50%;z-index: 0;}#sk-container-id-1 div.sk-serial {display: flex;flex-direction: column;align-items: center;background-color: white;padding-right: 0.2em;padding-left: 0.2em;position: relative;}#sk-container-id-1 div.sk-item {position: relative;z-index: 1;}#sk-container-id-1 div.sk-parallel {display: flex;align-items: stretch;justify-content: center;background-color: white;position: relative;}#sk-container-id-1 div.sk-item::before, #sk-container-id-1 div.sk-parallel-item::before {content: \"\";position: absolute;border-left: 1px solid gray;box-sizing: border-box;top: 0;bottom: 0;left: 50%;z-index: -1;}#sk-container-id-1 div.sk-parallel-item {display: flex;flex-direction: column;z-index: 1;position: relative;background-color: white;}#sk-container-id-1 div.sk-parallel-item:first-child::after {align-self: flex-end;width: 50%;}#sk-container-id-1 div.sk-parallel-item:last-child::after {align-self: flex-start;width: 50%;}#sk-container-id-1 div.sk-parallel-item:only-child::after {width: 0;}#sk-container-id-1 div.sk-dashed-wrapped {border: 1px dashed gray;margin: 0 0.4em 0.5em 0.4em;box-sizing: border-box;padding-bottom: 0.4em;background-color: white;}#sk-container-id-1 div.sk-label label {font-family: monospace;font-weight: bold;display: inline-block;line-height: 1.2em;}#sk-container-id-1 div.sk-label-container {text-align: center;}#sk-container-id-1 div.sk-container {/* jupyter's `normalize.less` sets `[hidden] { display: none; }` but bootstrap.min.css set `[hidden] { display: none !important; }` so we also need the `!important` here to be able to override the default hidden behavior on the sphinx rendered scikit-learn.org. See: https://github.com/scikit-learn/scikit-learn/issues/21755 */display: inline-block !important;position: relative;}#sk-container-id-1 div.sk-text-repr-fallback {display: none;}</style><div id=\"sk-container-id-1\" class=\"sk-top-container\"><div class=\"sk-text-repr-fallback\"><pre>Pipeline(steps=[(&#x27;step1&#x27;,\n",
       "                 ColumnTransformer(remainder=&#x27;passthrough&#x27;,\n",
       "                                   transformers=[(&#x27;OneHotEncoding&#x27;,\n",
       "                                                  OneHotEncoder(drop=&#x27;first&#x27;,\n",
       "                                                                sparse=False),\n",
       "                                                  Index([&#x27;batting_team&#x27;, &#x27;bowling_team&#x27;, &#x27;city&#x27;], dtype=&#x27;object&#x27;))])),\n",
       "                (&#x27;step2&#x27;, LogisticRegression())])</pre><b>In a Jupyter environment, please rerun this cell to show the HTML representation or trust the notebook. <br />On GitHub, the HTML representation is unable to render, please try loading this page with nbviewer.org.</b></div><div class=\"sk-container\" hidden><div class=\"sk-item sk-dashed-wrapped\"><div class=\"sk-label-container\"><div class=\"sk-label sk-toggleable\"><input class=\"sk-toggleable__control sk-hidden--visually\" id=\"sk-estimator-id-1\" type=\"checkbox\" ><label for=\"sk-estimator-id-1\" class=\"sk-toggleable__label sk-toggleable__label-arrow\">Pipeline</label><div class=\"sk-toggleable__content\"><pre>Pipeline(steps=[(&#x27;step1&#x27;,\n",
       "                 ColumnTransformer(remainder=&#x27;passthrough&#x27;,\n",
       "                                   transformers=[(&#x27;OneHotEncoding&#x27;,\n",
       "                                                  OneHotEncoder(drop=&#x27;first&#x27;,\n",
       "                                                                sparse=False),\n",
       "                                                  Index([&#x27;batting_team&#x27;, &#x27;bowling_team&#x27;, &#x27;city&#x27;], dtype=&#x27;object&#x27;))])),\n",
       "                (&#x27;step2&#x27;, LogisticRegression())])</pre></div></div></div><div class=\"sk-serial\"><div class=\"sk-item sk-dashed-wrapped\"><div class=\"sk-label-container\"><div class=\"sk-label sk-toggleable\"><input class=\"sk-toggleable__control sk-hidden--visually\" id=\"sk-estimator-id-2\" type=\"checkbox\" ><label for=\"sk-estimator-id-2\" class=\"sk-toggleable__label sk-toggleable__label-arrow\">step1: ColumnTransformer</label><div class=\"sk-toggleable__content\"><pre>ColumnTransformer(remainder=&#x27;passthrough&#x27;,\n",
       "                  transformers=[(&#x27;OneHotEncoding&#x27;,\n",
       "                                 OneHotEncoder(drop=&#x27;first&#x27;, sparse=False),\n",
       "                                 Index([&#x27;batting_team&#x27;, &#x27;bowling_team&#x27;, &#x27;city&#x27;], dtype=&#x27;object&#x27;))])</pre></div></div></div><div class=\"sk-parallel\"><div class=\"sk-parallel-item\"><div class=\"sk-item\"><div class=\"sk-label-container\"><div class=\"sk-label sk-toggleable\"><input class=\"sk-toggleable__control sk-hidden--visually\" id=\"sk-estimator-id-3\" type=\"checkbox\" ><label for=\"sk-estimator-id-3\" class=\"sk-toggleable__label sk-toggleable__label-arrow\">OneHotEncoding</label><div class=\"sk-toggleable__content\"><pre>Index([&#x27;batting_team&#x27;, &#x27;bowling_team&#x27;, &#x27;city&#x27;], dtype=&#x27;object&#x27;)</pre></div></div></div><div class=\"sk-serial\"><div class=\"sk-item\"><div class=\"sk-estimator sk-toggleable\"><input class=\"sk-toggleable__control sk-hidden--visually\" id=\"sk-estimator-id-4\" type=\"checkbox\" ><label for=\"sk-estimator-id-4\" class=\"sk-toggleable__label sk-toggleable__label-arrow\">OneHotEncoder</label><div class=\"sk-toggleable__content\"><pre>OneHotEncoder(drop=&#x27;first&#x27;, sparse=False)</pre></div></div></div></div></div></div><div class=\"sk-parallel-item\"><div class=\"sk-item\"><div class=\"sk-label-container\"><div class=\"sk-label sk-toggleable\"><input class=\"sk-toggleable__control sk-hidden--visually\" id=\"sk-estimator-id-5\" type=\"checkbox\" ><label for=\"sk-estimator-id-5\" class=\"sk-toggleable__label sk-toggleable__label-arrow\">remainder</label><div class=\"sk-toggleable__content\"><pre>[&#x27;current_score&#x27;, &#x27;runs_left&#x27;, &#x27;balls_left&#x27;, &#x27;wickets&#x27;, &#x27;crr&#x27;, &#x27;rrr&#x27;]</pre></div></div></div><div class=\"sk-serial\"><div class=\"sk-item\"><div class=\"sk-estimator sk-toggleable\"><input class=\"sk-toggleable__control sk-hidden--visually\" id=\"sk-estimator-id-6\" type=\"checkbox\" ><label for=\"sk-estimator-id-6\" class=\"sk-toggleable__label sk-toggleable__label-arrow\">passthrough</label><div class=\"sk-toggleable__content\"><pre>passthrough</pre></div></div></div></div></div></div></div></div><div class=\"sk-item\"><div class=\"sk-estimator sk-toggleable\"><input class=\"sk-toggleable__control sk-hidden--visually\" id=\"sk-estimator-id-7\" type=\"checkbox\" ><label for=\"sk-estimator-id-7\" class=\"sk-toggleable__label sk-toggleable__label-arrow\">LogisticRegression</label><div class=\"sk-toggleable__content\"><pre>LogisticRegression()</pre></div></div></div></div></div></div></div>"
      ],
      "text/plain": [
       "Pipeline(steps=[('step1',\n",
       "                 ColumnTransformer(remainder='passthrough',\n",
       "                                   transformers=[('OneHotEncoding',\n",
       "                                                  OneHotEncoder(drop='first',\n",
       "                                                                sparse=False),\n",
       "                                                  Index(['batting_team', 'bowling_team', 'city'], dtype='object'))])),\n",
       "                ('step2', LogisticRegression())])"
      ]
     },
     "execution_count": 39,
     "metadata": {},
     "output_type": "execute_result"
    }
   ],
   "source": [
    "pipe.fit(X_train , y_train)"
   ]
  },
  {
   "cell_type": "code",
   "execution_count": 41,
   "id": "3968e978",
   "metadata": {},
   "outputs": [],
   "source": [
    "pred = pipe.predict(X_test)"
   ]
  },
  {
   "cell_type": "code",
   "execution_count": 43,
   "id": "e5c04a96",
   "metadata": {},
   "outputs": [
    {
     "data": {
      "text/plain": [
       "0.8152146304292609"
      ]
     },
     "execution_count": 43,
     "metadata": {},
     "output_type": "execute_result"
    }
   ],
   "source": [
    "# we are going with logistic regression as it provides more realistic resutls than random_forest\n",
    "accuracy_score(y_true=y_test , y_pred= pred)"
   ]
  },
  {
   "cell_type": "markdown",
   "id": "6c317908",
   "metadata": {},
   "source": [
    "## Exporting "
   ]
  },
  {
   "cell_type": "code",
   "execution_count": 44,
   "id": "62136f82",
   "metadata": {},
   "outputs": [
    {
     "data": {
      "text/plain": [
       "array(['Delhi', 'Kolkata', 'Chennai', 'Mumbai', 'Bangalore', 'Sharjah',\n",
       "       'Raipur', 'Ahmedabad', 'Hyderabad', 'East London', 'Chandigarh',\n",
       "       'Durban', 'Johannesburg', 'Abu Dhabi', 'Bengaluru', 'Pune',\n",
       "       'Dharamsala', 'Nagpur', 'Jaipur', 'Dubai', 'Cape Town',\n",
       "       'Kimberley', 'Port Elizabeth', 'Centurion', 'Ranchi', 'Cuttack',\n",
       "       'Indore', 'Visakhapatnam', 'Bloemfontein'], dtype=object)"
      ]
     },
     "execution_count": 44,
     "metadata": {},
     "output_type": "execute_result"
    }
   ],
   "source": [
    "model_df['city'].unique()"
   ]
  },
  {
   "cell_type": "code",
   "execution_count": 45,
   "id": "e0c4881d",
   "metadata": {},
   "outputs": [
    {
     "data": {
      "text/plain": [
       "array(['Delhi Capitals', 'Kolkata Knight Riders', 'Kings XI Punjab',\n",
       "       'Royal Challengers Bangalore', 'Mumbai Indians',\n",
       "       'Sunrisers Hyderabad', 'Rajasthan Royals', 'Chennai Super Kings'],\n",
       "      dtype=object)"
      ]
     },
     "execution_count": 45,
     "metadata": {},
     "output_type": "execute_result"
    }
   ],
   "source": [
    "model_df['batting_team'].unique()"
   ]
  },
  {
   "cell_type": "code",
   "execution_count": 46,
   "id": "3ac1807c",
   "metadata": {},
   "outputs": [],
   "source": [
    "import pickle\n",
    "pickle.dump(pipe , open('pipe.pkl' , 'wb'))"
   ]
  }
 ],
 "metadata": {
  "kernelspec": {
   "display_name": "Python 3 (ipykernel)",
   "language": "python",
   "name": "python3"
  },
  "language_info": {
   "codemirror_mode": {
    "name": "ipython",
    "version": 3
   },
   "file_extension": ".py",
   "mimetype": "text/x-python",
   "name": "python",
   "nbconvert_exporter": "python",
   "pygments_lexer": "ipython3",
   "version": "3.11.3"
  },
  "toc": {
   "base_numbering": 1,
   "nav_menu": {},
   "number_sections": true,
   "sideBar": true,
   "skip_h1_title": false,
   "title_cell": "Table of Contents",
   "title_sidebar": "Contents",
   "toc_cell": false,
   "toc_position": {},
   "toc_section_display": true,
   "toc_window_display": false
  }
 },
 "nbformat": 4,
 "nbformat_minor": 5
}
